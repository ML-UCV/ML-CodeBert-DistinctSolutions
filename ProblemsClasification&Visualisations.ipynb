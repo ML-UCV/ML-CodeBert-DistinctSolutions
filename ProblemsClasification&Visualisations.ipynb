{
  "cells": [
    {
      "cell_type": "markdown",
      "metadata": {
        "id": "view-in-github",
        "colab_type": "text"
      },
      "source": [
        "<a href=\"https://colab.research.google.com/github/Mitroi-Silviu-Adrian/ML-CodeBert-DistinctSolutions/blob/main/ProblemsClasification%26Visualisations.ipynb\" target=\"_parent\"><img src=\"https://colab.research.google.com/assets/colab-badge.svg\" alt=\"Open In Colab\"/></a>"
      ]
    },
    {
      "cell_type": "markdown",
      "metadata": {
        "id": "D8EsVgA64rHP"
      },
      "source": [
        "Install transformers"
      ]
    },
    {
      "cell_type": "code",
      "execution_count": null,
      "metadata": {
        "colab": {
          "base_uri": "https://localhost:8080/"
        },
        "id": "axnUYKac3p-O",
        "outputId": "650d92ed-d460-4788-ce4d-01fa137c63dd"
      },
      "outputs": [
        {
          "output_type": "stream",
          "name": "stdout",
          "text": [
            "Requirement already satisfied: transformers in /usr/local/lib/python3.7/dist-packages (4.14.1)\n",
            "Requirement already satisfied: filelock in /usr/local/lib/python3.7/dist-packages (from transformers) (3.4.0)\n",
            "Requirement already satisfied: huggingface-hub<1.0,>=0.1.0 in /usr/local/lib/python3.7/dist-packages (from transformers) (0.2.1)\n",
            "Requirement already satisfied: packaging>=20.0 in /usr/local/lib/python3.7/dist-packages (from transformers) (21.3)\n",
            "Requirement already satisfied: tokenizers<0.11,>=0.10.1 in /usr/local/lib/python3.7/dist-packages (from transformers) (0.10.3)\n",
            "Requirement already satisfied: regex!=2019.12.17 in /usr/local/lib/python3.7/dist-packages (from transformers) (2019.12.20)\n",
            "Requirement already satisfied: importlib-metadata in /usr/local/lib/python3.7/dist-packages (from transformers) (4.8.2)\n",
            "Requirement already satisfied: requests in /usr/local/lib/python3.7/dist-packages (from transformers) (2.23.0)\n",
            "Requirement already satisfied: numpy>=1.17 in /usr/local/lib/python3.7/dist-packages (from transformers) (1.19.5)\n",
            "Requirement already satisfied: tqdm>=4.27 in /usr/local/lib/python3.7/dist-packages (from transformers) (4.62.3)\n",
            "Requirement already satisfied: pyyaml>=5.1 in /usr/local/lib/python3.7/dist-packages (from transformers) (6.0)\n",
            "Requirement already satisfied: sacremoses in /usr/local/lib/python3.7/dist-packages (from transformers) (0.0.46)\n",
            "Requirement already satisfied: typing-extensions>=3.7.4.3 in /usr/local/lib/python3.7/dist-packages (from huggingface-hub<1.0,>=0.1.0->transformers) (3.10.0.2)\n",
            "Requirement already satisfied: pyparsing!=3.0.5,>=2.0.2 in /usr/local/lib/python3.7/dist-packages (from packaging>=20.0->transformers) (3.0.6)\n",
            "Requirement already satisfied: zipp>=0.5 in /usr/local/lib/python3.7/dist-packages (from importlib-metadata->transformers) (3.6.0)\n",
            "Requirement already satisfied: idna<3,>=2.5 in /usr/local/lib/python3.7/dist-packages (from requests->transformers) (2.10)\n",
            "Requirement already satisfied: certifi>=2017.4.17 in /usr/local/lib/python3.7/dist-packages (from requests->transformers) (2021.10.8)\n",
            "Requirement already satisfied: urllib3!=1.25.0,!=1.25.1,<1.26,>=1.21.1 in /usr/local/lib/python3.7/dist-packages (from requests->transformers) (1.24.3)\n",
            "Requirement already satisfied: chardet<4,>=3.0.2 in /usr/local/lib/python3.7/dist-packages (from requests->transformers) (3.0.4)\n",
            "Requirement already satisfied: joblib in /usr/local/lib/python3.7/dist-packages (from sacremoses->transformers) (1.1.0)\n",
            "Requirement already satisfied: click in /usr/local/lib/python3.7/dist-packages (from sacremoses->transformers) (7.1.2)\n",
            "Requirement already satisfied: six in /usr/local/lib/python3.7/dist-packages (from sacremoses->transformers) (1.15.0)\n"
          ]
        }
      ],
      "source": [
        "!pip install transformers"
      ]
    },
    {
      "cell_type": "markdown",
      "metadata": {
        "id": "5XOlsyjT-kfy"
      },
      "source": [
        "Import everything we use:"
      ]
    },
    {
      "cell_type": "code",
      "execution_count": null,
      "metadata": {
        "id": "oUxQyMmT-qpv"
      },
      "outputs": [],
      "source": [
        "import gzip\n",
        "import json\n",
        "import logging\n",
        "import os\n",
        "from pathlib import Path\n",
        "from typing import Dict, List, Tuple\n",
        "\n",
        "import numpy as np\n",
        "import torch\n",
        "from sklearn.metrics import f1_score\n",
        "from tokenizers.implementations.byte_level_bpe import ByteLevelBPETokenizer\n",
        "from tokenizers.processors import BertProcessing\n",
        "from torch.nn.utils.rnn import pad_sequence\n",
        "from torch.utils.data import DataLoader, Dataset\n",
        "from torch.utils.data.dataset import Dataset\n",
        "from torch.utils.tensorboard.writer import SummaryWriter\n",
        "from tqdm import tqdm, trange\n",
        "\n",
        "from transformers import RobertaForSequenceClassification\n",
        "from transformers.data.metrics import acc_and_f1, simple_accuracy\n",
        "\n",
        "logging.basicConfig(level=logging.INFO)"
      ]
    },
    {
      "cell_type": "markdown",
      "source": [
        "Get Problem Names"
      ],
      "metadata": {
        "id": "KhlCnasdYJRG"
      }
    },
    {
      "cell_type": "code",
      "source": [
        "dataset_folder = \"/content/drive/MyDrive/ProblemClassif/problems\"\n",
        "\n",
        "problemsNames = os.listdir(f\"{dataset_folder}\")\n",
        "\n",
        "print(problemsNames)"
      ],
      "metadata": {
        "colab": {
          "base_uri": "https://localhost:8080/"
        },
        "id": "VsTbYz0MYRHJ",
        "outputId": "780073a0-b0cc-42c9-ec5c-3a9b883b17f9"
      },
      "execution_count": null,
      "outputs": [
        {
          "output_type": "stream",
          "name": "stdout",
          "text": [
            "['nrtri', 'sate', 'apm', 'ctc', 'dmin', 'cmap', 'swap', 'strmatch', 'schi', 'cmmdc', 'stramosi', 'party', 'inversmodular', 'inv', 'evaluare']\n"
          ]
        }
      ]
    },
    {
      "cell_type": "markdown",
      "source": [
        "Get the Algorithm Solution Names"
      ],
      "metadata": {
        "id": "z5iZbLK6Ai6L"
      }
    },
    {
      "cell_type": "code",
      "source": [
        "algorithmSolutions = []\n",
        "algorithmSolutionsFolders = [[]]\n",
        "\n",
        "problemsDict = {}\n",
        "\n",
        "for problem in problemsNames:\n",
        "  problemFolder = dataset_folder + \"/\" + problem\n",
        "\n",
        "  problemLabels = os.listdir(f\"{problemFolder}\")\n",
        "  #print(problemLabels)\n",
        "\n",
        "  problemSolFolders = []\n",
        "  for alg in problemLabels:\n",
        "    problemSolFolders.append(problemFolder + \"/\" + alg)\n",
        "  #print(problemSolFolders)\n",
        "\n",
        "  problemsDict[problem] = [problemLabels,problemSolFolders]\n",
        "\n",
        "print(problemsDict)\n",
        "\n",
        "\n",
        "ALG_LABELS = algorithmSolutions\n",
        "FILES_PER_LANGUAGE = 1\n",
        "EVALUATE = True"
      ],
      "metadata": {
        "colab": {
          "base_uri": "https://localhost:8080/"
        },
        "id": "2r9PxvrvAqr7",
        "outputId": "23cdeeb5-606a-4443-d1a5-5cd4d0a50539"
      },
      "execution_count": null,
      "outputs": [
        {
          "output_type": "stream",
          "name": "stdout",
          "text": [
            "{'nrtri': [['cautareBinara', 'brute'], ['/content/drive/MyDrive/ProblemClassif/problems/nrtri/cautareBinara', '/content/drive/MyDrive/ProblemClassif/problems/nrtri/brute']], 'sate': [['bfs_lee', 'dfs', 'brute'], ['/content/drive/MyDrive/ProblemClassif/problems/sate/bfs_lee', '/content/drive/MyDrive/ProblemClassif/problems/sate/dfs', '/content/drive/MyDrive/ProblemClassif/problems/sate/brute']], 'apm': [['kruskal', 'prim'], ['/content/drive/MyDrive/ProblemClassif/problems/apm/kruskal', '/content/drive/MyDrive/ProblemClassif/problems/apm/prim']], 'ctc': [['tarjan', 'kosaraju'], ['/content/drive/MyDrive/ProblemClassif/problems/ctc/tarjan', '/content/drive/MyDrive/ProblemClassif/problems/ctc/kosaraju']], 'dmin': [['bellman', 'djikstra'], ['/content/drive/MyDrive/ProblemClassif/problems/dmin/bellman', '/content/drive/MyDrive/ProblemClassif/problems/dmin/djikstra']], 'cmap': [['distance_search', 'divide_conquer'], ['/content/drive/MyDrive/ProblemClassif/problems/cmap/distance_search', '/content/drive/MyDrive/ProblemClassif/problems/cmap/divide_conquer']], 'swap': [['aib', 'merge'], ['/content/drive/MyDrive/ProblemClassif/problems/swap/aib', '/content/drive/MyDrive/ProblemClassif/problems/swap/merge']], 'strmatch': [['z-algo', 'rk', 'kmp'], ['/content/drive/MyDrive/ProblemClassif/problems/strmatch/z-algo', '/content/drive/MyDrive/ProblemClassif/problems/strmatch/rk', '/content/drive/MyDrive/ProblemClassif/problems/strmatch/kmp']], 'schi': [['treap', 'seg_tree', 'aib'], ['/content/drive/MyDrive/ProblemClassif/problems/schi/treap', '/content/drive/MyDrive/ProblemClassif/problems/schi/seg_tree', '/content/drive/MyDrive/ProblemClassif/problems/schi/aib']], 'cmmdc': [['bruteforce', 'Euclid-impartiri', 'Euclid-scaderi', 'BUILT_IN'], ['/content/drive/MyDrive/ProblemClassif/problems/cmmdc/bruteforce', '/content/drive/MyDrive/ProblemClassif/problems/cmmdc/Euclid-impartiri', '/content/drive/MyDrive/ProblemClassif/problems/cmmdc/Euclid-scaderi', '/content/drive/MyDrive/ProblemClassif/problems/cmmdc/BUILT_IN']], 'stramosi': [['dp_log', 'lant'], ['/content/drive/MyDrive/ProblemClassif/problems/stramosi/dp_log', '/content/drive/MyDrive/ProblemClassif/problems/stramosi/lant']], 'party': [['tarjan', 'kosaraju', 'topsort'], ['/content/drive/MyDrive/ProblemClassif/problems/party/tarjan', '/content/drive/MyDrive/ProblemClassif/problems/party/kosaraju', '/content/drive/MyDrive/ProblemClassif/problems/party/topsort']], 'inversmodular': [['extended-euclid-algo', 'euler-toutient'], ['/content/drive/MyDrive/ProblemClassif/problems/inversmodular/extended-euclid-algo', '/content/drive/MyDrive/ProblemClassif/problems/inversmodular/euler-toutient']], 'inv': [['aib', 'merge'], ['/content/drive/MyDrive/ProblemClassif/problems/inv/aib', '/content/drive/MyDrive/ProblemClassif/problems/inv/merge']], 'evaluare': [['recursive', 'ast', 'stack'], ['/content/drive/MyDrive/ProblemClassif/problems/evaluare/recursive', '/content/drive/MyDrive/ProblemClassif/problems/evaluare/ast', '/content/drive/MyDrive/ProblemClassif/problems/evaluare/stack']]}\n"
          ]
        }
      ]
    },
    {
      "cell_type": "markdown",
      "source": [
        "Setup the Tokenizer and the TensorBoard"
      ],
      "metadata": {
        "id": "ffbbPNIMC9vR"
      }
    },
    {
      "cell_type": "code",
      "source": [
        "# Set up tokenizer\n",
        "tokenizer = ByteLevelBPETokenizer(\"/content/drive/MyDrive/ProblemClassif/vocab.json\", \"/content/drive/MyDrive/ProblemClassif/merges.txt\",)\n",
        "tokenizer._tokenizer.post_processor = BertProcessing(\n",
        "    (\"</s>\", tokenizer.token_to_id(\"</s>\")), (\"<s>\", tokenizer.token_to_id(\"<s>\")),\n",
        ")\n",
        "tokenizer.enable_truncation(max_length=512)\n",
        "# Set up Tensorboard\n",
        "tb_writer = SummaryWriter()"
      ],
      "metadata": {
        "id": "AJlUAz4GC6kN"
      },
      "execution_count": null,
      "outputs": []
    },
    {
      "cell_type": "markdown",
      "source": [
        "Creation of train dataset class to handle each problem"
      ],
      "metadata": {
        "id": "JYQWvgjKKz7d"
      }
    },
    {
      "cell_type": "code",
      "source": [
        "class ProblemClassifDataset(Dataset):\n",
        "  examples: List[Tuple[List[int], int]]\n",
        "  def __init__(self,split = \"train\",problemName = \"\"):\n",
        "    self.examples = []\n",
        "\n",
        "    labels = problemsDict[problemName][0]\n",
        "    print(labels)\n",
        "    noLabels = len(problemsDict[problemName])\n",
        "    for i in range(noLabels):\n",
        "      alg = problemsDict[problemName][0][i]\n",
        "\n",
        "      folder = problemsDict[problemName][1][i] + \"/\" + split\n",
        "      print(folder)\n",
        "\n",
        "      problemsCodes = []\n",
        "\n",
        "      for files in os.walk(f\"{folder}\"):\n",
        "        for filename in files[2]:\n",
        "          #print(\"   ->  \" + filename)\n",
        "\n",
        "          pathFile = folder + \"/\" + filename\n",
        "          #print(pathFile)\n",
        "\n",
        "          file = open(pathFile, mode='r')\n",
        "          content = file.read()\n",
        "          problemsCodes.append(content)\n",
        "\n",
        "      examples = [(x.ids, labels.index(alg)) for x in tokenizer.encode_batch(problemsCodes)]\n",
        "      self.examples += examples\n",
        "    print(\"🔥🔥\")\n",
        "  def __len__(self):\n",
        "        return len(self.examples)\n",
        "\n",
        "  def __getitem__(self, i):\n",
        "    # We’ll pad at the batch level.\n",
        "    return self.examples[i]\n"
      ],
      "metadata": {
        "id": "TzutDSftK7zQ"
      },
      "execution_count": null,
      "outputs": []
    },
    {
      "cell_type": "markdown",
      "source": [
        "Evaluation Function"
      ],
      "metadata": {
        "id": "OhD2kKNGaiXl"
      }
    },
    {
      "cell_type": "code",
      "source": [
        "\n",
        "def evaluate():\n",
        "    eval_loss = 0.0\n",
        "    nb_eval_steps = 0\n",
        "    preds = np.empty((0), dtype=np.int64)\n",
        "    out_label_ids = np.empty((0), dtype=np.int64)\n",
        "\n",
        "    model.eval()\n",
        "\n",
        "    eval_dataloader = DataLoader(eval_dataset, batch_size=256, collate_fn=collate)\n",
        "    for step, (input_ids, labels) in enumerate(tqdm(eval_dataloader, desc=\"Eval\")):\n",
        "        with torch.no_grad():\n",
        "            outputs = model(input_ids=input_ids.to(\"cuda\"), labels=labels.to(\"cuda\"))\n",
        "            loss = outputs[0]\n",
        "            logits = outputs[1]\n",
        "            eval_loss += loss.mean().item()\n",
        "            nb_eval_steps += 1\n",
        "        preds = np.append(preds, logits.argmax(dim=1).detach().cpu().numpy(), axis=0)\n",
        "        out_label_ids = np.append(out_label_ids, labels.detach().cpu().numpy(), axis=0)\n",
        "    eval_loss = eval_loss / nb_eval_steps\n",
        "    acc = simple_accuracy(preds, out_label_ids)\n",
        "    f1 = f1_score(y_true=out_label_ids, y_pred=preds, average=\"macro\")\n",
        "    print()\n",
        "    print(\"=== Eval: loss ===\", eval_loss)\n",
        "    print(\"=== Eval: acc. ===\", acc)\n",
        "    print(\"=== Eval: f1 ===\", f1)\n",
        "    print()\n",
        "\n",
        "    epochResults.append([eval_loss,acc,f1])\n",
        "\n",
        "    # print(acc_and_f1(preds, out_label_ids))\n",
        "    tb_writer.add_scalars(\"eval\", {\"loss\": eval_loss, \"acc\": acc, \"f1\": f1}, global_step)"
      ],
      "metadata": {
        "id": "wLO8601Gal7H"
      },
      "execution_count": null,
      "outputs": []
    },
    {
      "cell_type": "markdown",
      "source": [
        "Loading and Preapearing the model for Training"
      ],
      "metadata": {
        "id": "aaMDH5-iUfv7"
      }
    },
    {
      "cell_type": "code",
      "source": [
        "results = []\n",
        "for problem, data  in problemsDict.items():\n",
        "  algLabels = data[0]\n",
        "\n",
        "  print(\"Problem: \" + problem)\n",
        "  print(\"Algorithms: \")\n",
        "  print(algLabels)\n",
        "  print(\"Creation of the dataset for the problem\")\n",
        "  train_dataset = ProblemClassifDataset(split = \"train\",problemName = problem)\n",
        "  eval_dataset = ProblemClassifDataset(split = \"test\",problemName = problem)\n",
        "  print(\"Dataset done\")\n",
        "  print()\n",
        "  print(\"Loading CodeBERTa\")\n",
        "\n",
        "  CODEBERTA_PRETRAINED = \"huggingface/CodeBERTa-small-v1\"\n",
        "\n",
        "  model = RobertaForSequenceClassification.from_pretrained(CODEBERTA_PRETRAINED, num_labels=len(algLabels))\n",
        "\n",
        "  def collate(examples):\n",
        "      input_ids = pad_sequence([torch.tensor(x[0]) for x in examples], batch_first=True, padding_value=1)\n",
        "      labels = torch.tensor([x[1] for x in examples])\n",
        "      # ^^  uncessary .unsqueeze(-1)\n",
        "      return input_ids, labels\n",
        "\n",
        "\n",
        "  train_dataloader = DataLoader(train_dataset, batch_size=128, shuffle=True, collate_fn=collate)\n",
        "\n",
        "  batch = next(iter(train_dataloader))\n",
        "\n",
        "  model.to(\"cuda\")\n",
        "  model.train()\n",
        "  for param in model.roberta.parameters():\n",
        "      param.requires_grad = False\n",
        "  ## ^^ Only train final layer.\n",
        "\n",
        "  print(f\"num params:\", model.num_parameters())\n",
        "  print(f\"num trainable params:\", model.num_parameters(only_trainable=True))\n",
        "  print()\n",
        "  print(\"Model loaded\")\n",
        "  print()\n",
        "  print(\"Training Loop\")\n",
        "\n",
        "  global_step = 0\n",
        "  train_iterator = trange(0, 20, desc=\"Epoch\")\n",
        "  optimizer = torch.optim.AdamW(model.parameters())\n",
        "\n",
        "  epochIndex = -1\n",
        "  evaluationAtEpoch = [1,5,10,20]\n",
        "  epochResults = [[]]\n",
        "\n",
        "  for _ in train_iterator:\n",
        "      epoch_iterator = tqdm(train_dataloader, desc=\"Iteration\")\n",
        "\n",
        "      epochIndex += 1\n",
        "      if(epochIndex in evaluationAtEpoch):\n",
        "        print()\n",
        "        print(\"Epoch \" + str(epochIndex) + \" Evaluation\")\n",
        "        evaluate()\n",
        "        print()\n",
        "      for step, (input_ids, labels) in enumerate(epoch_iterator):\n",
        "          optimizer.zero_grad()\n",
        "          outputs = model(input_ids=input_ids.to(\"cuda\"), labels=labels.to(\"cuda\"))\n",
        "          loss = outputs[0]\n",
        "          loss.backward()\n",
        "          tb_writer.add_scalar(\"training_loss\", loss.item(), global_step)\n",
        "          optimizer.step()\n",
        "          global_step += 1\n",
        "          if EVALUATE and global_step % 50 == 0:\n",
        "              #evaluate()\n",
        "              model.train()\n",
        "  print()\n",
        "  print(\"Final Evaluation\")\n",
        "  evaluate()\n",
        "\n",
        "  print()\n",
        "  print(\"Training Done\")\n",
        "  print()\n",
        "  print(\"Storing the results\")\n",
        "  problemResults = [problem]\n",
        "\n",
        "  for result in epochResults:\n",
        "    problemResults.extend(result)\n",
        "\n",
        "  problemResults = \", \".join(map(str, problemResults))\n",
        "  print(problemResults)\n",
        "  results.append(problemResults)\n",
        "  print(\"Done\")\n",
        "  os.makedirs(\"./models/CodeBERT-problem-id\", exist_ok=True)\n",
        "  model.save_pretrained(\"./models/CodeBERT-problem-id\")\n"
      ],
      "metadata": {
        "colab": {
          "base_uri": "https://localhost:8080/"
        },
        "id": "LSA_QPcXUmuM",
        "outputId": "9e5fba85-aa46-4327-df0b-33644fea5229"
      },
      "execution_count": null,
      "outputs": [
        {
          "output_type": "stream",
          "name": "stdout",
          "text": [
            "Problem: nrtri\n",
            "Algorithms: \n",
            "['cautareBinara', 'brute']\n",
            "Creation of the dataset for the problem\n",
            "['cautareBinara', 'brute']\n",
            "/content/drive/MyDrive/ProblemClassif/problems/nrtri/cautareBinara/train\n",
            "/content/drive/MyDrive/ProblemClassif/problems/nrtri/brute/train\n",
            "🔥🔥\n",
            "['cautareBinara', 'brute']\n",
            "/content/drive/MyDrive/ProblemClassif/problems/nrtri/cautareBinara/test\n",
            "/content/drive/MyDrive/ProblemClassif/problems/nrtri/brute/test\n",
            "🔥🔥\n",
            "Dataset done\n",
            "\n",
            "Loading CodeBERTa\n"
          ]
        },
        {
          "output_type": "stream",
          "name": "stderr",
          "text": [
            "Some weights of the model checkpoint at huggingface/CodeBERTa-small-v1 were not used when initializing RobertaForSequenceClassification: ['lm_head.bias', 'lm_head.layer_norm.weight', 'lm_head.dense.weight', 'lm_head.decoder.weight', 'roberta.pooler.dense.bias', 'lm_head.decoder.bias', 'lm_head.dense.bias', 'lm_head.layer_norm.bias', 'roberta.pooler.dense.weight']\n",
            "- This IS expected if you are initializing RobertaForSequenceClassification from the checkpoint of a model trained on another task or with another architecture (e.g. initializing a BertForSequenceClassification model from a BertForPreTraining model).\n",
            "- This IS NOT expected if you are initializing RobertaForSequenceClassification from the checkpoint of a model that you expect to be exactly identical (initializing a BertForSequenceClassification model from a BertForSequenceClassification model).\n",
            "Some weights of RobertaForSequenceClassification were not initialized from the model checkpoint at huggingface/CodeBERTa-small-v1 and are newly initialized: ['classifier.out_proj.bias', 'classifier.dense.bias', 'classifier.dense.weight', 'classifier.out_proj.weight']\n",
            "You should probably TRAIN this model on a down-stream task to be able to use it for predictions and inference.\n"
          ]
        },
        {
          "output_type": "stream",
          "name": "stdout",
          "text": [
            "num params: 83452418\n",
            "num trainable params: 592130\n",
            "\n",
            "Model loaded\n",
            "\n",
            "Training Loop\n"
          ]
        },
        {
          "output_type": "stream",
          "name": "stderr",
          "text": [
            "Epoch:   0%|          | 0/20 [00:00<?, ?it/s]\n",
            "Iteration:   0%|          | 0/4 [00:00<?, ?it/s]\u001b[A\n",
            "Iteration:  25%|██▌       | 1/4 [00:04<00:13,  4.43s/it]\u001b[A\n",
            "Iteration:  50%|█████     | 2/4 [00:08<00:08,  4.38s/it]\u001b[A\n",
            "Iteration:  75%|███████▌  | 3/4 [00:13<00:04,  4.35s/it]\u001b[A\n",
            "Iteration: 100%|██████████| 4/4 [00:14<00:00,  3.64s/it]\n",
            "Epoch:   5%|▌         | 1/20 [00:14<04:36, 14.56s/it]\n",
            "Iteration:   0%|          | 0/4 [00:00<?, ?it/s]\u001b[A"
          ]
        },
        {
          "output_type": "stream",
          "name": "stdout",
          "text": [
            "\n",
            "Epoch 1 Evaluation\n"
          ]
        },
        {
          "output_type": "stream",
          "name": "stderr",
          "text": [
            "\n",
            "\n",
            "Eval:   0%|          | 0/1 [00:00<?, ?it/s]\u001b[A\u001b[A\n",
            "\n",
            "Eval: 100%|██████████| 1/1 [00:02<00:00,  2.19s/it]\n",
            "/usr/local/lib/python3.7/dist-packages/transformers/data/metrics/__init__.py:36: FutureWarning: This metric will be removed from the library soon, metrics should be handled with the 🤗 Datasets library. You can have a look at this example script for pointers: https://github.com/huggingface/transformers/blob/master/examples/pytorch/text-classification/run_glue.py\n",
            "  warnings.warn(DEPRECATION_WARNING, FutureWarning)\n"
          ]
        },
        {
          "output_type": "stream",
          "name": "stdout",
          "text": [
            "\n",
            "=== Eval: loss === 1.7038986682891846\n",
            "=== Eval: acc. === 0.17391304347826086\n",
            "=== Eval: f1 === 0.14814814814814817\n",
            "\n",
            "\n"
          ]
        },
        {
          "output_type": "stream",
          "name": "stderr",
          "text": [
            "\n",
            "Iteration:  25%|██▌       | 1/4 [00:06<00:19,  6.37s/it]\u001b[A\n",
            "Iteration:  50%|█████     | 2/4 [00:10<00:10,  5.06s/it]\u001b[A\n",
            "Iteration:  75%|███████▌  | 3/4 [00:14<00:04,  4.63s/it]\u001b[A\n",
            "Iteration: 100%|██████████| 4/4 [00:16<00:00,  4.01s/it]\n",
            "Epoch:  10%|█         | 2/20 [00:30<04:37, 15.44s/it]\n",
            "Iteration:   0%|          | 0/4 [00:00<?, ?it/s]\u001b[A\n",
            "Iteration:  25%|██▌       | 1/4 [00:04<00:12,  4.14s/it]\u001b[A\n",
            "Iteration:  50%|█████     | 2/4 [00:08<00:08,  4.14s/it]\u001b[A\n",
            "Iteration:  75%|███████▌  | 3/4 [00:12<00:04,  4.14s/it]\u001b[A\n",
            "Iteration: 100%|██████████| 4/4 [00:13<00:00,  3.46s/it]\n",
            "Epoch:  15%|█▌        | 3/20 [00:44<04:10, 14.71s/it]\n",
            "Iteration:   0%|          | 0/4 [00:00<?, ?it/s]\u001b[A\n",
            "Iteration:  25%|██▌       | 1/4 [00:04<00:12,  4.11s/it]\u001b[A\n",
            "Iteration:  50%|█████     | 2/4 [00:08<00:08,  4.14s/it]\u001b[A\n",
            "Iteration:  75%|███████▌  | 3/4 [00:12<00:04,  4.14s/it]\u001b[A\n",
            "Iteration: 100%|██████████| 4/4 [00:13<00:00,  3.45s/it]\n",
            "Epoch:  20%|██        | 4/20 [00:58<03:49, 14.36s/it]\n",
            "Iteration:   0%|          | 0/4 [00:00<?, ?it/s]\u001b[A\n",
            "Iteration:  25%|██▌       | 1/4 [00:04<00:12,  4.11s/it]\u001b[A\n",
            "Iteration:  50%|█████     | 2/4 [00:08<00:08,  4.12s/it]\u001b[A\n",
            "Iteration:  75%|███████▌  | 3/4 [00:12<00:04,  4.14s/it]\u001b[A\n",
            "Iteration: 100%|██████████| 4/4 [00:13<00:00,  3.45s/it]\n",
            "Epoch:  25%|██▌       | 5/20 [01:12<03:32, 14.16s/it]\n",
            "Iteration:   0%|          | 0/4 [00:00<?, ?it/s]\u001b[A"
          ]
        },
        {
          "output_type": "stream",
          "name": "stdout",
          "text": [
            "\n",
            "Epoch 5 Evaluation\n"
          ]
        },
        {
          "output_type": "stream",
          "name": "stderr",
          "text": [
            "\n",
            "\n",
            "Eval:   0%|          | 0/1 [00:00<?, ?it/s]\u001b[A\u001b[A\n",
            "\n",
            "Eval: 100%|██████████| 1/1 [00:02<00:00,  2.22s/it]\n",
            "/usr/local/lib/python3.7/dist-packages/transformers/data/metrics/__init__.py:36: FutureWarning: This metric will be removed from the library soon, metrics should be handled with the 🤗 Datasets library. You can have a look at this example script for pointers: https://github.com/huggingface/transformers/blob/master/examples/pytorch/text-classification/run_glue.py\n",
            "  warnings.warn(DEPRECATION_WARNING, FutureWarning)\n"
          ]
        },
        {
          "output_type": "stream",
          "name": "stdout",
          "text": [
            "\n",
            "=== Eval: loss === 0.36874401569366455\n",
            "=== Eval: acc. === 0.8260869565217391\n",
            "=== Eval: f1 === 0.45238095238095233\n",
            "\n",
            "\n"
          ]
        },
        {
          "output_type": "stream",
          "name": "stderr",
          "text": [
            "\n",
            "Iteration:  25%|██▌       | 1/4 [00:06<00:19,  6.37s/it]\u001b[A\n",
            "Iteration:  50%|█████     | 2/4 [00:10<00:10,  5.06s/it]\u001b[A\n",
            "Iteration:  75%|███████▌  | 3/4 [00:14<00:04,  4.65s/it]\u001b[A\n",
            "Iteration: 100%|██████████| 4/4 [00:16<00:00,  4.02s/it]\n",
            "Epoch:  30%|███       | 6/20 [01:28<03:27, 14.82s/it]\n",
            "Iteration:   0%|          | 0/4 [00:00<?, ?it/s]\u001b[A\n",
            "Iteration:  25%|██▌       | 1/4 [00:04<00:12,  4.17s/it]\u001b[A\n",
            "Iteration:  50%|█████     | 2/4 [00:08<00:08,  4.16s/it]\u001b[A\n",
            "Iteration:  75%|███████▌  | 3/4 [00:12<00:04,  4.16s/it]\u001b[A\n",
            "Iteration: 100%|██████████| 4/4 [00:13<00:00,  3.47s/it]\n",
            "Epoch:  35%|███▌      | 7/20 [01:42<03:08, 14.52s/it]\n",
            "Iteration:   0%|          | 0/4 [00:00<?, ?it/s]\u001b[A\n",
            "Iteration:  25%|██▌       | 1/4 [00:04<00:12,  4.16s/it]\u001b[A\n",
            "Iteration:  50%|█████     | 2/4 [00:08<00:08,  4.16s/it]\u001b[A\n",
            "Iteration:  75%|███████▌  | 3/4 [00:12<00:04,  4.16s/it]\u001b[A\n",
            "Iteration: 100%|██████████| 4/4 [00:13<00:00,  3.48s/it]\n",
            "Epoch:  40%|████      | 8/20 [01:55<02:51, 14.33s/it]\n",
            "Iteration:   0%|          | 0/4 [00:00<?, ?it/s]\u001b[A\n",
            "Iteration:  25%|██▌       | 1/4 [00:04<00:12,  4.17s/it]\u001b[A\n",
            "Iteration:  50%|█████     | 2/4 [00:08<00:08,  4.17s/it]\u001b[A\n",
            "Iteration:  75%|███████▌  | 3/4 [00:12<00:04,  4.17s/it]\u001b[A\n",
            "Iteration: 100%|██████████| 4/4 [00:13<00:00,  3.48s/it]\n",
            "Epoch:  45%|████▌     | 9/20 [02:09<02:36, 14.20s/it]\n",
            "Iteration:   0%|          | 0/4 [00:00<?, ?it/s]\u001b[A\n",
            "Iteration:  25%|██▌       | 1/4 [00:04<00:12,  4.18s/it]\u001b[A\n",
            "Iteration:  50%|█████     | 2/4 [00:08<00:08,  4.17s/it]\u001b[A\n",
            "Iteration:  75%|███████▌  | 3/4 [00:12<00:04,  4.17s/it]\u001b[A\n",
            "Iteration: 100%|██████████| 4/4 [00:13<00:00,  3.47s/it]\n",
            "Epoch:  50%|█████     | 10/20 [02:23<02:21, 14.11s/it]\n",
            "Iteration:   0%|          | 0/4 [00:00<?, ?it/s]\u001b[A"
          ]
        },
        {
          "output_type": "stream",
          "name": "stdout",
          "text": [
            "\n",
            "Epoch 10 Evaluation\n"
          ]
        },
        {
          "output_type": "stream",
          "name": "stderr",
          "text": [
            "\n",
            "\n",
            "Eval:   0%|          | 0/1 [00:00<?, ?it/s]\u001b[A\u001b[A\n",
            "\n",
            "Eval: 100%|██████████| 1/1 [00:02<00:00,  2.22s/it]\n",
            "/usr/local/lib/python3.7/dist-packages/transformers/data/metrics/__init__.py:36: FutureWarning: This metric will be removed from the library soon, metrics should be handled with the 🤗 Datasets library. You can have a look at this example script for pointers: https://github.com/huggingface/transformers/blob/master/examples/pytorch/text-classification/run_glue.py\n",
            "  warnings.warn(DEPRECATION_WARNING, FutureWarning)\n"
          ]
        },
        {
          "output_type": "stream",
          "name": "stdout",
          "text": [
            "\n",
            "=== Eval: loss === 0.3641958236694336\n",
            "=== Eval: acc. === 0.9130434782608695\n",
            "=== Eval: f1 === 0.8578296703296704\n",
            "\n",
            "\n"
          ]
        },
        {
          "output_type": "stream",
          "name": "stderr",
          "text": [
            "\n",
            "Iteration:  25%|██▌       | 1/4 [00:06<00:19,  6.55s/it]\u001b[A\n",
            "Iteration:  50%|█████     | 2/4 [00:10<00:10,  5.14s/it]\u001b[A\n",
            "Iteration:  75%|███████▌  | 3/4 [00:14<00:04,  4.70s/it]\u001b[A\n",
            "Iteration: 100%|██████████| 4/4 [00:16<00:00,  4.07s/it]\n",
            "Epoch:  55%|█████▌    | 11/20 [02:40<02:13, 14.78s/it]\n",
            "Iteration:   0%|          | 0/4 [00:00<?, ?it/s]\u001b[A\n",
            "Iteration:  25%|██▌       | 1/4 [00:04<00:12,  4.17s/it]\u001b[A\n",
            "Iteration:  50%|█████     | 2/4 [00:08<00:08,  4.15s/it]\u001b[A\n",
            "Iteration:  75%|███████▌  | 3/4 [00:12<00:04,  4.17s/it]\u001b[A\n",
            "Iteration: 100%|██████████| 4/4 [00:13<00:00,  3.47s/it]\n",
            "Epoch:  60%|██████    | 12/20 [02:54<01:56, 14.51s/it]\n",
            "Iteration:   0%|          | 0/4 [00:00<?, ?it/s]\u001b[A\n",
            "Iteration:  25%|██▌       | 1/4 [00:04<00:12,  4.16s/it]\u001b[A\n",
            "Iteration:  50%|█████     | 2/4 [00:08<00:08,  4.16s/it]\u001b[A\n",
            "Iteration:  75%|███████▌  | 3/4 [00:12<00:04,  4.27s/it]\u001b[A\n",
            "Iteration: 100%|██████████| 4/4 [00:14<00:00,  3.55s/it]\n",
            "Epoch:  65%|██████▌   | 13/20 [03:08<01:40, 14.42s/it]\n",
            "Iteration:   0%|          | 0/4 [00:00<?, ?it/s]\u001b[A\n",
            "Iteration:  25%|██▌       | 1/4 [00:04<00:13,  4.35s/it]\u001b[A\n",
            "Iteration:  50%|█████     | 2/4 [00:08<00:08,  4.39s/it]\u001b[A\n",
            "Iteration:  75%|███████▌  | 3/4 [00:13<00:04,  4.40s/it]\u001b[A\n",
            "Iteration: 100%|██████████| 4/4 [00:14<00:00,  3.66s/it]\n",
            "Epoch:  70%|███████   | 14/20 [03:22<01:27, 14.50s/it]\n",
            "Iteration:   0%|          | 0/4 [00:00<?, ?it/s]\u001b[A\n",
            "Iteration:  25%|██▌       | 1/4 [00:04<00:13,  4.35s/it]\u001b[A\n",
            "Iteration:  50%|█████     | 2/4 [00:08<00:08,  4.39s/it]\u001b[A\n",
            "Iteration:  75%|███████▌  | 3/4 [00:13<00:04,  4.39s/it]\u001b[A\n",
            "Iteration: 100%|██████████| 4/4 [00:14<00:00,  3.66s/it]\n",
            "Epoch:  75%|███████▌  | 15/20 [03:37<01:12, 14.54s/it]\n",
            "Iteration:   0%|          | 0/4 [00:00<?, ?it/s]\u001b[A\n",
            "Iteration:  25%|██▌       | 1/4 [00:04<00:13,  4.35s/it]\u001b[A\n",
            "Iteration:  50%|█████     | 2/4 [00:08<00:08,  4.38s/it]\u001b[A\n",
            "Iteration:  75%|███████▌  | 3/4 [00:13<00:04,  4.38s/it]\u001b[A\n",
            "Iteration: 100%|██████████| 4/4 [00:14<00:00,  3.66s/it]\n",
            "Epoch:  80%|████████  | 16/20 [03:52<00:58, 14.58s/it]\n",
            "Iteration:   0%|          | 0/4 [00:00<?, ?it/s]\u001b[A\n",
            "Iteration:  25%|██▌       | 1/4 [00:04<00:13,  4.37s/it]\u001b[A\n",
            "Iteration:  50%|█████     | 2/4 [00:08<00:08,  4.39s/it]\u001b[A\n",
            "Iteration:  75%|███████▌  | 3/4 [00:13<00:04,  4.38s/it]\u001b[A\n",
            "Iteration: 100%|██████████| 4/4 [00:14<00:00,  3.65s/it]\n",
            "Epoch:  85%|████████▌ | 17/20 [04:06<00:43, 14.59s/it]\n",
            "Iteration:   0%|          | 0/4 [00:00<?, ?it/s]\u001b[A\n",
            "Iteration:  25%|██▌       | 1/4 [00:04<00:13,  4.37s/it]\u001b[A\n",
            "Iteration:  50%|█████     | 2/4 [00:08<00:08,  4.39s/it]\u001b[A\n",
            "Iteration:  75%|███████▌  | 3/4 [00:13<00:04,  4.38s/it]\u001b[A\n",
            "Iteration: 100%|██████████| 4/4 [00:14<00:00,  3.65s/it]\n",
            "Epoch:  90%|█████████ | 18/20 [04:21<00:29, 14.60s/it]\n",
            "Iteration:   0%|          | 0/4 [00:00<?, ?it/s]\u001b[A\n",
            "Iteration:  25%|██▌       | 1/4 [00:04<00:13,  4.40s/it]\u001b[A\n",
            "Iteration:  50%|█████     | 2/4 [00:08<00:08,  4.39s/it]\u001b[A\n",
            "Iteration:  75%|███████▌  | 3/4 [00:13<00:04,  4.39s/it]\u001b[A\n",
            "Iteration: 100%|██████████| 4/4 [00:14<00:00,  3.66s/it]\n",
            "Epoch:  95%|█████████▌| 19/20 [04:36<00:14, 14.62s/it]\n",
            "Iteration:   0%|          | 0/4 [00:00<?, ?it/s]\u001b[A\n",
            "Iteration:  25%|██▌       | 1/4 [00:04<00:13,  4.38s/it]\u001b[A\n",
            "Iteration:  50%|█████     | 2/4 [00:08<00:08,  4.37s/it]\u001b[A\n",
            "Iteration:  75%|███████▌  | 3/4 [00:13<00:04,  4.39s/it]\u001b[A\n",
            "Iteration: 100%|██████████| 4/4 [00:14<00:00,  3.66s/it]\n",
            "Epoch: 100%|██████████| 20/20 [04:50<00:00, 14.54s/it]\n"
          ]
        },
        {
          "output_type": "stream",
          "name": "stdout",
          "text": [
            "\n",
            "Final Evaluation\n"
          ]
        },
        {
          "output_type": "stream",
          "name": "stderr",
          "text": [
            "Eval: 100%|██████████| 1/1 [00:02<00:00,  2.21s/it]\n",
            "/usr/local/lib/python3.7/dist-packages/transformers/data/metrics/__init__.py:36: FutureWarning: This metric will be removed from the library soon, metrics should be handled with the 🤗 Datasets library. You can have a look at this example script for pointers: https://github.com/huggingface/transformers/blob/master/examples/pytorch/text-classification/run_glue.py\n",
            "  warnings.warn(DEPRECATION_WARNING, FutureWarning)\n"
          ]
        },
        {
          "output_type": "stream",
          "name": "stdout",
          "text": [
            "\n",
            "=== Eval: loss === 0.3094286024570465\n",
            "=== Eval: acc. === 0.8695652173913043\n",
            "=== Eval: f1 === 0.8035431825371717\n",
            "\n",
            "\n",
            "Training Done\n",
            "\n",
            "Storing the results\n",
            "nrtri, 1.7038986682891846, 0.17391304347826086, 0.14814814814814817, 0.36874401569366455, 0.8260869565217391, 0.45238095238095233, 0.3641958236694336, 0.9130434782608695, 0.8578296703296704, 0.3094286024570465, 0.8695652173913043, 0.8035431825371717\n",
            "Done\n",
            "Problem: sate\n",
            "Algorithms: \n",
            "['bfs_lee', 'dfs', 'brute']\n",
            "Creation of the dataset for the problem\n",
            "['bfs_lee', 'dfs', 'brute']\n",
            "/content/drive/MyDrive/ProblemClassif/problems/sate/bfs_lee/train\n",
            "/content/drive/MyDrive/ProblemClassif/problems/sate/dfs/train\n",
            "🔥🔥\n",
            "['bfs_lee', 'dfs', 'brute']\n",
            "/content/drive/MyDrive/ProblemClassif/problems/sate/bfs_lee/test\n",
            "/content/drive/MyDrive/ProblemClassif/problems/sate/dfs/test\n",
            "🔥🔥\n",
            "Dataset done\n",
            "\n",
            "Loading CodeBERTa\n"
          ]
        },
        {
          "output_type": "stream",
          "name": "stderr",
          "text": [
            "Some weights of the model checkpoint at huggingface/CodeBERTa-small-v1 were not used when initializing RobertaForSequenceClassification: ['lm_head.bias', 'lm_head.layer_norm.weight', 'lm_head.dense.weight', 'lm_head.decoder.weight', 'roberta.pooler.dense.bias', 'lm_head.decoder.bias', 'lm_head.dense.bias', 'lm_head.layer_norm.bias', 'roberta.pooler.dense.weight']\n",
            "- This IS expected if you are initializing RobertaForSequenceClassification from the checkpoint of a model trained on another task or with another architecture (e.g. initializing a BertForSequenceClassification model from a BertForPreTraining model).\n",
            "- This IS NOT expected if you are initializing RobertaForSequenceClassification from the checkpoint of a model that you expect to be exactly identical (initializing a BertForSequenceClassification model from a BertForSequenceClassification model).\n",
            "Some weights of RobertaForSequenceClassification were not initialized from the model checkpoint at huggingface/CodeBERTa-small-v1 and are newly initialized: ['classifier.out_proj.bias', 'classifier.dense.bias', 'classifier.dense.weight', 'classifier.out_proj.weight']\n",
            "You should probably TRAIN this model on a down-stream task to be able to use it for predictions and inference.\n"
          ]
        },
        {
          "output_type": "stream",
          "name": "stdout",
          "text": [
            "num params: 83453187\n",
            "num trainable params: 592899\n",
            "\n",
            "Model loaded\n",
            "\n",
            "Training Loop\n"
          ]
        },
        {
          "output_type": "stream",
          "name": "stderr",
          "text": [
            "Epoch:   0%|          | 0/20 [00:00<?, ?it/s]\n",
            "Iteration:   0%|          | 0/3 [00:00<?, ?it/s]\u001b[A\n",
            "Iteration:  33%|███▎      | 1/3 [00:04<00:09,  4.55s/it]\u001b[A\n",
            "Iteration:  67%|██████▋   | 2/3 [00:08<00:04,  4.44s/it]\u001b[A\n",
            "Iteration: 100%|██████████| 3/3 [00:13<00:00,  4.36s/it]\n",
            "Epoch:   5%|▌         | 1/20 [00:13<04:09, 13.11s/it]\n",
            "Iteration:   0%|          | 0/3 [00:00<?, ?it/s]\u001b[A"
          ]
        },
        {
          "output_type": "stream",
          "name": "stdout",
          "text": [
            "\n",
            "Epoch 1 Evaluation\n"
          ]
        },
        {
          "output_type": "stream",
          "name": "stderr",
          "text": [
            "\n",
            "\n",
            "Eval:   0%|          | 0/1 [00:00<?, ?it/s]\u001b[A\u001b[A\n",
            "\n",
            "Eval: 100%|██████████| 1/1 [00:04<00:00,  4.08s/it]\n",
            "/usr/local/lib/python3.7/dist-packages/transformers/data/metrics/__init__.py:36: FutureWarning: This metric will be removed from the library soon, metrics should be handled with the 🤗 Datasets library. You can have a look at this example script for pointers: https://github.com/huggingface/transformers/blob/master/examples/pytorch/text-classification/run_glue.py\n",
            "  warnings.warn(DEPRECATION_WARNING, FutureWarning)\n"
          ]
        },
        {
          "output_type": "stream",
          "name": "stdout",
          "text": [
            "\n",
            "=== Eval: loss === 0.5734885334968567\n",
            "=== Eval: acc. === 0.75\n",
            "=== Eval: f1 === 0.7309442150206482\n",
            "\n",
            "\n"
          ]
        },
        {
          "output_type": "stream",
          "name": "stderr",
          "text": [
            "\n",
            "Iteration:  33%|███▎      | 1/3 [00:08<00:16,  8.26s/it]\u001b[A\n",
            "Iteration:  67%|██████▋   | 2/3 [00:12<00:05,  5.86s/it]\u001b[A\n",
            "Iteration: 100%|██████████| 3/3 [00:16<00:00,  5.47s/it]\n",
            "Epoch:  10%|█         | 2/20 [00:29<04:31, 15.07s/it]\n",
            "Iteration:   0%|          | 0/3 [00:00<?, ?it/s]\u001b[A\n",
            "Iteration:  33%|███▎      | 1/3 [00:04<00:08,  4.17s/it]\u001b[A\n",
            "Iteration:  67%|██████▋   | 2/3 [00:08<00:04,  4.19s/it]\u001b[A\n",
            "Iteration: 100%|██████████| 3/3 [00:12<00:00,  4.12s/it]\n",
            "Epoch:  15%|█▌        | 3/20 [00:41<03:55, 13.83s/it]\n",
            "Iteration:   0%|          | 0/3 [00:00<?, ?it/s]\u001b[A\n",
            "Iteration:  33%|███▎      | 1/3 [00:04<00:08,  4.16s/it]\u001b[A\n",
            "Iteration:  67%|██████▋   | 2/3 [00:08<00:04,  4.18s/it]\u001b[A\n",
            "Iteration: 100%|██████████| 3/3 [00:12<00:00,  4.11s/it]\n",
            "Epoch:  20%|██        | 4/20 [00:54<03:31, 13.25s/it]\n",
            "Iteration:   0%|          | 0/3 [00:00<?, ?it/s]\u001b[A\n",
            "Iteration:  33%|███▎      | 1/3 [00:04<00:08,  4.16s/it]\u001b[A\n",
            "Iteration:  67%|██████▋   | 2/3 [00:08<00:04,  4.17s/it]\u001b[A\n",
            "Iteration: 100%|██████████| 3/3 [00:12<00:00,  4.11s/it]\n",
            "Epoch:  25%|██▌       | 5/20 [01:06<03:13, 12.92s/it]\n",
            "Iteration:   0%|          | 0/3 [00:00<?, ?it/s]\u001b[A"
          ]
        },
        {
          "output_type": "stream",
          "name": "stdout",
          "text": [
            "\n",
            "Epoch 5 Evaluation\n"
          ]
        },
        {
          "output_type": "stream",
          "name": "stderr",
          "text": [
            "\n",
            "\n",
            "Eval:   0%|          | 0/1 [00:00<?, ?it/s]\u001b[A\u001b[A\n",
            "\n",
            "Eval: 100%|██████████| 1/1 [00:04<00:00,  4.05s/it]\n",
            "/usr/local/lib/python3.7/dist-packages/transformers/data/metrics/__init__.py:36: FutureWarning: This metric will be removed from the library soon, metrics should be handled with the 🤗 Datasets library. You can have a look at this example script for pointers: https://github.com/huggingface/transformers/blob/master/examples/pytorch/text-classification/run_glue.py\n",
            "  warnings.warn(DEPRECATION_WARNING, FutureWarning)\n"
          ]
        },
        {
          "output_type": "stream",
          "name": "stdout",
          "text": [
            "\n",
            "=== Eval: loss === 0.389171302318573\n",
            "=== Eval: acc. === 0.7419354838709677\n",
            "=== Eval: f1 === 0.572965992251399\n",
            "\n",
            "\n"
          ]
        },
        {
          "output_type": "stream",
          "name": "stderr",
          "text": [
            "\n",
            "Iteration:  33%|███▎      | 1/3 [00:08<00:16,  8.23s/it]\u001b[A\n",
            "Iteration:  67%|██████▋   | 2/3 [00:12<00:05,  5.87s/it]\u001b[A\n",
            "Iteration: 100%|██████████| 3/3 [00:16<00:00,  5.47s/it]\n",
            "Epoch:  30%|███       | 6/20 [01:23<03:17, 14.11s/it]\n",
            "Iteration:   0%|          | 0/3 [00:00<?, ?it/s]\u001b[A\n",
            "Iteration:  33%|███▎      | 1/3 [00:04<00:08,  4.18s/it]\u001b[A\n",
            "Iteration:  67%|██████▋   | 2/3 [00:08<00:04,  4.20s/it]\u001b[A\n",
            "Iteration: 100%|██████████| 3/3 [00:12<00:00,  4.13s/it]\n",
            "Epoch:  35%|███▌      | 7/20 [01:35<02:56, 13.55s/it]\n",
            "Iteration:   0%|          | 0/3 [00:00<?, ?it/s]\u001b[A\n",
            "Iteration:  33%|███▎      | 1/3 [00:04<00:08,  4.15s/it]\u001b[A\n",
            "Iteration:  67%|██████▋   | 2/3 [00:08<00:04,  4.18s/it]\u001b[A\n",
            "Iteration: 100%|██████████| 3/3 [00:12<00:00,  4.11s/it]\n",
            "Epoch:  40%|████      | 8/20 [01:47<02:37, 13.16s/it]\n",
            "Iteration:   0%|          | 0/3 [00:00<?, ?it/s]\u001b[A\n",
            "Iteration:  33%|███▎      | 1/3 [00:04<00:08,  4.18s/it]\u001b[A\n",
            "Iteration:  67%|██████▋   | 2/3 [00:08<00:04,  4.17s/it]\u001b[A\n",
            "Iteration: 100%|██████████| 3/3 [00:12<00:00,  4.10s/it]\n",
            "Epoch:  45%|████▌     | 9/20 [02:00<02:21, 12.90s/it]\n",
            "Iteration:   0%|          | 0/3 [00:00<?, ?it/s]\u001b[A\n",
            "Iteration:  33%|███▎      | 1/3 [00:04<00:08,  4.16s/it]\u001b[A\n",
            "Iteration:  67%|██████▋   | 2/3 [00:08<00:04,  4.18s/it]\u001b[A\n",
            "Iteration: 100%|██████████| 3/3 [00:12<00:00,  4.11s/it]\n",
            "Epoch:  50%|█████     | 10/20 [02:12<02:07, 12.73s/it]\n",
            "Iteration:   0%|          | 0/3 [00:00<?, ?it/s]\u001b[A"
          ]
        },
        {
          "output_type": "stream",
          "name": "stdout",
          "text": [
            "\n",
            "Epoch 10 Evaluation\n"
          ]
        },
        {
          "output_type": "stream",
          "name": "stderr",
          "text": [
            "\n",
            "\n",
            "Eval:   0%|          | 0/1 [00:00<?, ?it/s]\u001b[A\u001b[A\n",
            "\n",
            "Eval: 100%|██████████| 1/1 [00:04<00:00,  4.05s/it]\n",
            "/usr/local/lib/python3.7/dist-packages/transformers/data/metrics/__init__.py:36: FutureWarning: This metric will be removed from the library soon, metrics should be handled with the 🤗 Datasets library. You can have a look at this example script for pointers: https://github.com/huggingface/transformers/blob/master/examples/pytorch/text-classification/run_glue.py\n",
            "  warnings.warn(DEPRECATION_WARNING, FutureWarning)\n"
          ]
        },
        {
          "output_type": "stream",
          "name": "stdout",
          "text": [
            "\n",
            "=== Eval: loss === 0.2661711871623993\n",
            "=== Eval: acc. === 0.8870967741935484\n",
            "=== Eval: f1 === 0.8790412486064659\n",
            "\n",
            "\n"
          ]
        },
        {
          "output_type": "stream",
          "name": "stderr",
          "text": [
            "\n",
            "Iteration:  33%|███▎      | 1/3 [00:08<00:16,  8.24s/it]\u001b[A\n",
            "Iteration:  67%|██████▋   | 2/3 [00:12<00:05,  5.86s/it]\u001b[A\n",
            "Iteration: 100%|██████████| 3/3 [00:16<00:00,  5.46s/it]\n",
            "Epoch:  55%|█████▌    | 11/20 [02:28<02:04, 13.85s/it]\n",
            "Iteration:   0%|          | 0/3 [00:00<?, ?it/s]\u001b[A\n",
            "Iteration:  33%|███▎      | 1/3 [00:04<00:08,  4.16s/it]\u001b[A\n",
            "Iteration:  67%|██████▋   | 2/3 [00:08<00:04,  4.19s/it]\u001b[A\n",
            "Iteration: 100%|██████████| 3/3 [00:12<00:00,  4.11s/it]\n",
            "Epoch:  60%|██████    | 12/20 [02:41<01:47, 13.40s/it]\n",
            "Iteration:   0%|          | 0/3 [00:00<?, ?it/s]\u001b[A\n",
            "Iteration:  33%|███▎      | 1/3 [00:04<00:08,  4.15s/it]\u001b[A\n",
            "Iteration:  67%|██████▋   | 2/3 [00:08<00:04,  4.18s/it]\u001b[A\n",
            "Iteration: 100%|██████████| 3/3 [00:12<00:00,  4.11s/it]\n",
            "Epoch:  65%|██████▌   | 13/20 [02:53<01:31, 13.08s/it]\n",
            "Iteration:   0%|          | 0/3 [00:00<?, ?it/s]\u001b[A\n",
            "Iteration:  33%|███▎      | 1/3 [00:04<00:08,  4.18s/it]\u001b[A\n",
            "Iteration:  67%|██████▋   | 2/3 [00:08<00:04,  4.19s/it]\u001b[A\n",
            "Iteration: 100%|██████████| 3/3 [00:12<00:00,  4.11s/it]\n",
            "Epoch:  70%|███████   | 14/20 [03:05<01:17, 12.86s/it]\n",
            "Iteration:   0%|          | 0/3 [00:00<?, ?it/s]\u001b[A\n",
            "Iteration:  33%|███▎      | 1/3 [00:04<00:08,  4.16s/it]\u001b[A\n",
            "Iteration:  67%|██████▋   | 2/3 [00:08<00:04,  4.17s/it]\u001b[A\n",
            "Iteration: 100%|██████████| 3/3 [00:12<00:00,  4.11s/it]\n",
            "Epoch:  75%|███████▌  | 15/20 [03:18<01:03, 12.71s/it]\n",
            "Iteration:   0%|          | 0/3 [00:00<?, ?it/s]\u001b[A\n",
            "Iteration:  33%|███▎      | 1/3 [00:04<00:08,  4.18s/it]\u001b[A\n",
            "Iteration:  67%|██████▋   | 2/3 [00:08<00:04,  4.17s/it]\u001b[A\n",
            "Iteration: 100%|██████████| 3/3 [00:12<00:00,  4.11s/it]\n",
            "Epoch:  80%|████████  | 16/20 [03:30<00:50, 12.60s/it]\n",
            "Iteration:   0%|          | 0/3 [00:00<?, ?it/s]\u001b[A\n",
            "Iteration:  33%|███▎      | 1/3 [00:04<00:08,  4.17s/it]\u001b[A\n",
            "Iteration:  67%|██████▋   | 2/3 [00:08<00:04,  4.18s/it]\u001b[A\n",
            "Iteration: 100%|██████████| 3/3 [00:12<00:00,  4.17s/it]\n",
            "Epoch:  85%|████████▌ | 17/20 [03:43<00:37, 12.58s/it]\n",
            "Iteration:   0%|          | 0/3 [00:00<?, ?it/s]\u001b[A\n",
            "Iteration:  33%|███▎      | 1/3 [00:04<00:08,  4.37s/it]\u001b[A\n",
            "Iteration:  67%|██████▋   | 2/3 [00:08<00:04,  4.38s/it]\u001b[A\n",
            "Iteration: 100%|██████████| 3/3 [00:12<00:00,  4.30s/it]\n",
            "Epoch:  90%|█████████ | 18/20 [03:56<00:25, 12.68s/it]\n",
            "Iteration:   0%|          | 0/3 [00:00<?, ?it/s]\u001b[A\n",
            "Iteration:  33%|███▎      | 1/3 [00:04<00:08,  4.38s/it]\u001b[A\n",
            "Iteration:  67%|██████▋   | 2/3 [00:08<00:04,  4.40s/it]\u001b[A\n",
            "Iteration: 100%|██████████| 3/3 [00:12<00:00,  4.32s/it]\n",
            "Epoch:  95%|█████████▌| 19/20 [04:08<00:12, 12.76s/it]\n",
            "Iteration:   0%|          | 0/3 [00:00<?, ?it/s]\u001b[A\n",
            "Iteration:  33%|███▎      | 1/3 [00:04<00:08,  4.39s/it]\u001b[A\n",
            "Iteration:  67%|██████▋   | 2/3 [00:08<00:04,  4.38s/it]\u001b[A\n",
            "Iteration: 100%|██████████| 3/3 [00:12<00:00,  4.32s/it]\n",
            "Epoch: 100%|██████████| 20/20 [04:21<00:00, 13.10s/it]\n"
          ]
        },
        {
          "output_type": "stream",
          "name": "stdout",
          "text": [
            "\n",
            "Final Evaluation\n"
          ]
        },
        {
          "output_type": "stream",
          "name": "stderr",
          "text": [
            "Eval: 100%|██████████| 1/1 [00:04<00:00,  4.06s/it]\n",
            "/usr/local/lib/python3.7/dist-packages/transformers/data/metrics/__init__.py:36: FutureWarning: This metric will be removed from the library soon, metrics should be handled with the 🤗 Datasets library. You can have a look at this example script for pointers: https://github.com/huggingface/transformers/blob/master/examples/pytorch/text-classification/run_glue.py\n",
            "  warnings.warn(DEPRECATION_WARNING, FutureWarning)\n"
          ]
        },
        {
          "output_type": "stream",
          "name": "stdout",
          "text": [
            "\n",
            "=== Eval: loss === 0.2520027458667755\n",
            "=== Eval: acc. === 0.8709677419354839\n",
            "=== Eval: f1 === 0.8629455650732247\n",
            "\n",
            "\n",
            "Training Done\n",
            "\n",
            "Storing the results\n",
            "sate, 0.5734885334968567, 0.75, 0.7309442150206482, 0.389171302318573, 0.7419354838709677, 0.572965992251399, 0.2661711871623993, 0.8870967741935484, 0.8790412486064659, 0.2520027458667755, 0.8709677419354839, 0.8629455650732247\n",
            "Done\n",
            "Problem: apm\n",
            "Algorithms: \n",
            "['kruskal', 'prim']\n",
            "Creation of the dataset for the problem\n",
            "['kruskal', 'prim']\n",
            "/content/drive/MyDrive/ProblemClassif/problems/apm/kruskal/train\n",
            "/content/drive/MyDrive/ProblemClassif/problems/apm/prim/train\n",
            "🔥🔥\n",
            "['kruskal', 'prim']\n",
            "/content/drive/MyDrive/ProblemClassif/problems/apm/kruskal/test\n",
            "/content/drive/MyDrive/ProblemClassif/problems/apm/prim/test\n",
            "🔥🔥\n",
            "Dataset done\n",
            "\n",
            "Loading CodeBERTa\n"
          ]
        },
        {
          "output_type": "stream",
          "name": "stderr",
          "text": [
            "Some weights of the model checkpoint at huggingface/CodeBERTa-small-v1 were not used when initializing RobertaForSequenceClassification: ['lm_head.bias', 'lm_head.layer_norm.weight', 'lm_head.dense.weight', 'lm_head.decoder.weight', 'roberta.pooler.dense.bias', 'lm_head.decoder.bias', 'lm_head.dense.bias', 'lm_head.layer_norm.bias', 'roberta.pooler.dense.weight']\n",
            "- This IS expected if you are initializing RobertaForSequenceClassification from the checkpoint of a model trained on another task or with another architecture (e.g. initializing a BertForSequenceClassification model from a BertForPreTraining model).\n",
            "- This IS NOT expected if you are initializing RobertaForSequenceClassification from the checkpoint of a model that you expect to be exactly identical (initializing a BertForSequenceClassification model from a BertForSequenceClassification model).\n",
            "Some weights of RobertaForSequenceClassification were not initialized from the model checkpoint at huggingface/CodeBERTa-small-v1 and are newly initialized: ['classifier.out_proj.bias', 'classifier.dense.bias', 'classifier.dense.weight', 'classifier.out_proj.weight']\n",
            "You should probably TRAIN this model on a down-stream task to be able to use it for predictions and inference.\n"
          ]
        },
        {
          "output_type": "stream",
          "name": "stdout",
          "text": [
            "num params: 83452418\n",
            "num trainable params: 592130\n",
            "\n",
            "Model loaded\n",
            "\n",
            "Training Loop\n"
          ]
        },
        {
          "output_type": "stream",
          "name": "stderr",
          "text": [
            "Epoch:   0%|          | 0/20 [00:00<?, ?it/s]\n",
            "Iteration:   0%|          | 0/4 [00:00<?, ?it/s]\u001b[A\n",
            "Iteration:  25%|██▌       | 1/4 [00:04<00:13,  4.50s/it]\u001b[A\n",
            "Iteration:  50%|█████     | 2/4 [00:08<00:08,  4.42s/it]\u001b[A\n",
            "Iteration:  75%|███████▌  | 3/4 [00:13<00:04,  4.42s/it]\u001b[A\n",
            "Iteration: 100%|██████████| 4/4 [00:16<00:00,  4.14s/it]\n",
            "Epoch:   5%|▌         | 1/20 [00:16<05:15, 16.60s/it]\n",
            "Iteration:   0%|          | 0/4 [00:00<?, ?it/s]\u001b[A"
          ]
        },
        {
          "output_type": "stream",
          "name": "stdout",
          "text": [
            "\n",
            "Epoch 1 Evaluation\n"
          ]
        },
        {
          "output_type": "stream",
          "name": "stderr",
          "text": [
            "\n",
            "\n",
            "Eval:   0%|          | 0/1 [00:00<?, ?it/s]\u001b[A\u001b[A\n",
            "\n",
            "Eval: 100%|██████████| 1/1 [00:06<00:00,  6.23s/it]\n",
            "/usr/local/lib/python3.7/dist-packages/transformers/data/metrics/__init__.py:36: FutureWarning: This metric will be removed from the library soon, metrics should be handled with the 🤗 Datasets library. You can have a look at this example script for pointers: https://github.com/huggingface/transformers/blob/master/examples/pytorch/text-classification/run_glue.py\n",
            "  warnings.warn(DEPRECATION_WARNING, FutureWarning)\n"
          ]
        },
        {
          "output_type": "stream",
          "name": "stdout",
          "text": [
            "\n",
            "=== Eval: loss === 1.7151705026626587\n",
            "=== Eval: acc. === 0.44\n",
            "=== Eval: f1 === 0.3055555555555556\n",
            "\n",
            "\n"
          ]
        },
        {
          "output_type": "stream",
          "name": "stderr",
          "text": [
            "\n",
            "Iteration:  25%|██▌       | 1/4 [00:10<00:31, 10.45s/it]\u001b[A\n",
            "Iteration:  50%|█████     | 2/4 [00:14<00:13,  6.76s/it]\u001b[A\n",
            "Iteration:  75%|███████▌  | 3/4 [00:18<00:05,  5.59s/it]\u001b[A\n",
            "Iteration: 100%|██████████| 4/4 [00:21<00:00,  5.50s/it]\n",
            "Epoch:  10%|█         | 2/20 [00:38<05:56, 19.78s/it]\n",
            "Iteration:   0%|          | 0/4 [00:00<?, ?it/s]\u001b[A\n",
            "Iteration:  25%|██▌       | 1/4 [00:04<00:12,  4.18s/it]\u001b[A\n",
            "Iteration:  50%|█████     | 2/4 [00:08<00:08,  4.16s/it]\u001b[A\n",
            "Iteration:  75%|███████▌  | 3/4 [00:12<00:04,  4.19s/it]\u001b[A\n",
            "Iteration: 100%|██████████| 4/4 [00:15<00:00,  3.93s/it]\n",
            "Epoch:  15%|█▌        | 3/20 [00:54<05:04, 17.93s/it]\n",
            "Iteration:   0%|          | 0/4 [00:00<?, ?it/s]\u001b[A\n",
            "Iteration:  25%|██▌       | 1/4 [00:04<00:12,  4.15s/it]\u001b[A\n",
            "Iteration:  50%|█████     | 2/4 [00:08<00:08,  4.19s/it]\u001b[A\n",
            "Iteration:  75%|███████▌  | 3/4 [00:12<00:04,  4.20s/it]\u001b[A\n",
            "Iteration: 100%|██████████| 4/4 [00:15<00:00,  3.93s/it]\n",
            "Epoch:  20%|██        | 4/20 [01:10<04:33, 17.07s/it]\n",
            "Iteration:   0%|          | 0/4 [00:00<?, ?it/s]\u001b[A\n",
            "Iteration:  25%|██▌       | 1/4 [00:04<00:12,  4.21s/it]\u001b[A\n",
            "Iteration:  50%|█████     | 2/4 [00:08<00:08,  4.20s/it]\u001b[A\n",
            "Iteration:  75%|███████▌  | 3/4 [00:12<00:04,  4.19s/it]\u001b[A\n",
            "Iteration: 100%|██████████| 4/4 [00:15<00:00,  3.94s/it]\n",
            "Epoch:  25%|██▌       | 5/20 [01:25<04:08, 16.60s/it]\n",
            "Iteration:   0%|          | 0/4 [00:00<?, ?it/s]\u001b[A"
          ]
        },
        {
          "output_type": "stream",
          "name": "stdout",
          "text": [
            "\n",
            "Epoch 5 Evaluation\n"
          ]
        },
        {
          "output_type": "stream",
          "name": "stderr",
          "text": [
            "\n",
            "\n",
            "Eval:   0%|          | 0/1 [00:00<?, ?it/s]\u001b[A\u001b[A\n",
            "\n",
            "Eval: 100%|██████████| 1/1 [00:05<00:00,  5.76s/it]\n",
            "/usr/local/lib/python3.7/dist-packages/transformers/data/metrics/__init__.py:36: FutureWarning: This metric will be removed from the library soon, metrics should be handled with the 🤗 Datasets library. You can have a look at this example script for pointers: https://github.com/huggingface/transformers/blob/master/examples/pytorch/text-classification/run_glue.py\n",
            "  warnings.warn(DEPRECATION_WARNING, FutureWarning)\n"
          ]
        },
        {
          "output_type": "stream",
          "name": "stdout",
          "text": [
            "\n",
            "=== Eval: loss === 0.5093084573745728\n",
            "=== Eval: acc. === 0.6685714285714286\n",
            "=== Eval: f1 === 0.5837434383202099\n",
            "\n",
            "\n"
          ]
        },
        {
          "output_type": "stream",
          "name": "stderr",
          "text": [
            "\n",
            "Iteration:  25%|██▌       | 1/4 [00:09<00:29,  9.97s/it]\u001b[A\n",
            "Iteration:  50%|█████     | 2/4 [00:14<00:13,  6.59s/it]\u001b[A\n",
            "Iteration:  75%|███████▌  | 3/4 [00:18<00:05,  5.49s/it]\u001b[A\n",
            "Iteration: 100%|██████████| 4/4 [00:21<00:00,  5.39s/it]\n",
            "Epoch:  30%|███       | 6/20 [01:47<04:15, 18.29s/it]\n",
            "Iteration:   0%|          | 0/4 [00:00<?, ?it/s]\u001b[A\n",
            "Iteration:  25%|██▌       | 1/4 [00:04<00:12,  4.19s/it]\u001b[A\n",
            "Iteration:  50%|█████     | 2/4 [00:08<00:08,  4.19s/it]\u001b[A\n",
            "Iteration:  75%|███████▌  | 3/4 [00:12<00:04,  4.21s/it]\u001b[A\n",
            "Iteration: 100%|██████████| 4/4 [00:15<00:00,  3.94s/it]\n",
            "Epoch:  35%|███▌      | 7/20 [02:03<03:47, 17.47s/it]\n",
            "Iteration:   0%|          | 0/4 [00:00<?, ?it/s]\u001b[A\n",
            "Iteration:  25%|██▌       | 1/4 [00:04<00:12,  4.17s/it]\u001b[A\n",
            "Iteration:  50%|█████     | 2/4 [00:08<00:08,  4.19s/it]\u001b[A\n",
            "Iteration:  75%|███████▌  | 3/4 [00:12<00:04,  4.20s/it]\u001b[A\n",
            "Iteration: 100%|██████████| 4/4 [00:15<00:00,  3.95s/it]\n",
            "Epoch:  40%|████      | 8/20 [02:18<03:23, 16.94s/it]\n",
            "Iteration:   0%|          | 0/4 [00:00<?, ?it/s]\u001b[A\n",
            "Iteration:  25%|██▌       | 1/4 [00:04<00:12,  4.20s/it]\u001b[A\n",
            "Iteration:  50%|█████     | 2/4 [00:08<00:08,  4.22s/it]\u001b[A\n",
            "Iteration:  75%|███████▌  | 3/4 [00:12<00:04,  4.20s/it]\u001b[A\n",
            "Iteration: 100%|██████████| 4/4 [00:15<00:00,  3.95s/it]\n",
            "Epoch:  45%|████▌     | 9/20 [02:34<03:02, 16.59s/it]\n",
            "Iteration:   0%|          | 0/4 [00:00<?, ?it/s]\u001b[A\n",
            "Iteration:  25%|██▌       | 1/4 [00:04<00:12,  4.20s/it]\u001b[A\n",
            "Iteration:  50%|█████     | 2/4 [00:08<00:08,  4.20s/it]\u001b[A\n",
            "Iteration:  75%|███████▌  | 3/4 [00:12<00:04,  4.21s/it]\u001b[A\n",
            "Iteration: 100%|██████████| 4/4 [00:15<00:00,  3.95s/it]\n",
            "Epoch:  50%|█████     | 10/20 [02:50<02:43, 16.35s/it]\n",
            "Iteration:   0%|          | 0/4 [00:00<?, ?it/s]\u001b[A"
          ]
        },
        {
          "output_type": "stream",
          "name": "stdout",
          "text": [
            "\n",
            "Epoch 10 Evaluation\n"
          ]
        },
        {
          "output_type": "stream",
          "name": "stderr",
          "text": [
            "\n",
            "\n",
            "Eval:   0%|          | 0/1 [00:00<?, ?it/s]\u001b[A\u001b[A\n",
            "\n",
            "Eval: 100%|██████████| 1/1 [00:05<00:00,  5.76s/it]\n",
            "/usr/local/lib/python3.7/dist-packages/transformers/data/metrics/__init__.py:36: FutureWarning: This metric will be removed from the library soon, metrics should be handled with the 🤗 Datasets library. You can have a look at this example script for pointers: https://github.com/huggingface/transformers/blob/master/examples/pytorch/text-classification/run_glue.py\n",
            "  warnings.warn(DEPRECATION_WARNING, FutureWarning)\n"
          ]
        },
        {
          "output_type": "stream",
          "name": "stdout",
          "text": [
            "\n",
            "=== Eval: loss === 0.25046488642692566\n",
            "=== Eval: acc. === 0.8914285714285715\n",
            "=== Eval: f1 === 0.8902676479324114\n",
            "\n",
            "\n"
          ]
        },
        {
          "output_type": "stream",
          "name": "stderr",
          "text": [
            "\n",
            "Iteration:  25%|██▌       | 1/4 [00:10<00:30, 10.04s/it]\u001b[A\n",
            "Iteration:  50%|█████     | 2/4 [00:14<00:13,  6.60s/it]\u001b[A\n",
            "Iteration:  75%|███████▌  | 3/4 [00:18<00:05,  5.52s/it]\u001b[A\n",
            "Iteration: 100%|██████████| 4/4 [00:21<00:00,  5.41s/it]\n",
            "Epoch:  55%|█████▌    | 11/20 [03:12<02:41, 17.97s/it]\n",
            "Iteration:   0%|          | 0/4 [00:00<?, ?it/s]\u001b[A\n",
            "Iteration:  25%|██▌       | 1/4 [00:04<00:12,  4.18s/it]\u001b[A\n",
            "Iteration:  50%|█████     | 2/4 [00:08<00:08,  4.18s/it]\u001b[A\n",
            "Iteration:  75%|███████▌  | 3/4 [00:12<00:04,  4.20s/it]\u001b[A\n",
            "Iteration: 100%|██████████| 4/4 [00:15<00:00,  3.94s/it]\n",
            "Epoch:  60%|██████    | 12/20 [03:28<02:18, 17.31s/it]\n",
            "Iteration:   0%|          | 0/4 [00:00<?, ?it/s]\u001b[A\n",
            "Iteration:  25%|██▌       | 1/4 [00:04<00:12,  4.16s/it]\u001b[A\n",
            "Iteration:  50%|█████     | 2/4 [00:08<00:08,  4.21s/it]\u001b[A\n",
            "Iteration:  75%|███████▌  | 3/4 [00:12<00:04,  4.28s/it]\u001b[A\n",
            "Iteration: 100%|██████████| 4/4 [00:16<00:00,  4.03s/it]\n",
            "Epoch:  65%|██████▌   | 13/20 [03:44<01:58, 16.95s/it]\n",
            "Iteration:   0%|          | 0/4 [00:00<?, ?it/s]\u001b[A\n",
            "Iteration:  25%|██▌       | 1/4 [00:04<00:13,  4.37s/it]\u001b[A\n",
            "Iteration:  50%|█████     | 2/4 [00:08<00:08,  4.41s/it]\u001b[A\n",
            "Iteration:  75%|███████▌  | 3/4 [00:13<00:04,  4.42s/it]\u001b[A\n",
            "Iteration: 100%|██████████| 4/4 [00:16<00:00,  4.14s/it]\n",
            "Epoch:  70%|███████   | 14/20 [04:00<01:41, 16.84s/it]\n",
            "Iteration:   0%|          | 0/4 [00:00<?, ?it/s]\u001b[A\n",
            "Iteration:  25%|██▌       | 1/4 [00:04<00:13,  4.38s/it]\u001b[A\n",
            "Iteration:  50%|█████     | 2/4 [00:08<00:08,  4.38s/it]\u001b[A\n",
            "Iteration:  75%|███████▌  | 3/4 [00:13<00:04,  4.39s/it]\u001b[A\n",
            "Iteration: 100%|██████████| 4/4 [00:16<00:00,  4.13s/it]\n",
            "Epoch:  75%|███████▌  | 15/20 [04:17<01:23, 16.75s/it]\n",
            "Iteration:   0%|          | 0/4 [00:00<?, ?it/s]\u001b[A\n",
            "Iteration:  25%|██▌       | 1/4 [00:04<00:13,  4.39s/it]\u001b[A\n",
            "Iteration:  50%|█████     | 2/4 [00:08<00:08,  4.40s/it]\u001b[A\n",
            "Iteration:  75%|███████▌  | 3/4 [00:13<00:04,  4.40s/it]\u001b[A\n",
            "Iteration: 100%|██████████| 4/4 [00:16<00:00,  4.13s/it]\n",
            "Epoch:  80%|████████  | 16/20 [04:33<01:06, 16.69s/it]\n",
            "Iteration:   0%|          | 0/4 [00:00<?, ?it/s]\u001b[A\n",
            "Iteration:  25%|██▌       | 1/4 [00:04<00:13,  4.37s/it]\u001b[A\n",
            "Iteration:  50%|█████     | 2/4 [00:08<00:08,  4.40s/it]\u001b[A\n",
            "Iteration:  75%|███████▌  | 3/4 [00:13<00:04,  4.39s/it]\u001b[A\n",
            "Iteration: 100%|██████████| 4/4 [00:16<00:00,  4.12s/it]\n",
            "Epoch:  85%|████████▌ | 17/20 [04:50<00:49, 16.63s/it]\n",
            "Iteration:   0%|          | 0/4 [00:00<?, ?it/s]\u001b[A\n",
            "Iteration:  25%|██▌       | 1/4 [00:04<00:13,  4.34s/it]\u001b[A\n",
            "Iteration:  50%|█████     | 2/4 [00:08<00:08,  4.37s/it]\u001b[A\n",
            "Iteration:  75%|███████▌  | 3/4 [00:13<00:04,  4.39s/it]\u001b[A\n",
            "Iteration: 100%|██████████| 4/4 [00:16<00:00,  4.12s/it]\n",
            "Epoch:  90%|█████████ | 18/20 [05:06<00:33, 16.59s/it]\n",
            "Iteration:   0%|          | 0/4 [00:00<?, ?it/s]\u001b[A\n",
            "Iteration:  25%|██▌       | 1/4 [00:04<00:13,  4.41s/it]\u001b[A\n",
            "Iteration:  50%|█████     | 2/4 [00:08<00:08,  4.38s/it]\u001b[A\n",
            "Iteration:  75%|███████▌  | 3/4 [00:13<00:04,  4.39s/it]\u001b[A\n",
            "Iteration: 100%|██████████| 4/4 [00:16<00:00,  4.13s/it]\n",
            "Epoch:  95%|█████████▌| 19/20 [05:23<00:16, 16.57s/it]\n",
            "Iteration:   0%|          | 0/4 [00:00<?, ?it/s]\u001b[A\n",
            "Iteration:  25%|██▌       | 1/4 [00:04<00:13,  4.40s/it]\u001b[A\n",
            "Iteration:  50%|█████     | 2/4 [00:08<00:08,  4.43s/it]\u001b[A\n",
            "Iteration:  75%|███████▌  | 3/4 [00:13<00:04,  4.40s/it]\u001b[A\n",
            "Iteration: 100%|██████████| 4/4 [00:16<00:00,  4.14s/it]\n",
            "Epoch: 100%|██████████| 20/20 [05:39<00:00, 17.00s/it]\n"
          ]
        },
        {
          "output_type": "stream",
          "name": "stdout",
          "text": [
            "\n",
            "Final Evaluation\n"
          ]
        },
        {
          "output_type": "stream",
          "name": "stderr",
          "text": [
            "Eval: 100%|██████████| 1/1 [00:05<00:00,  5.77s/it]\n",
            "/usr/local/lib/python3.7/dist-packages/transformers/data/metrics/__init__.py:36: FutureWarning: This metric will be removed from the library soon, metrics should be handled with the 🤗 Datasets library. You can have a look at this example script for pointers: https://github.com/huggingface/transformers/blob/master/examples/pytorch/text-classification/run_glue.py\n",
            "  warnings.warn(DEPRECATION_WARNING, FutureWarning)\n"
          ]
        },
        {
          "output_type": "stream",
          "name": "stdout",
          "text": [
            "\n",
            "=== Eval: loss === 0.16300004720687866\n",
            "=== Eval: acc. === 0.9428571428571428\n",
            "=== Eval: f1 === 0.9410059331175836\n",
            "\n",
            "\n",
            "Training Done\n",
            "\n",
            "Storing the results\n",
            "apm, 1.7151705026626587, 0.44, 0.3055555555555556, 0.5093084573745728, 0.6685714285714286, 0.5837434383202099, 0.25046488642692566, 0.8914285714285715, 0.8902676479324114, 0.16300004720687866, 0.9428571428571428, 0.9410059331175836\n",
            "Done\n",
            "Problem: ctc\n",
            "Algorithms: \n",
            "['tarjan', 'kosaraju']\n",
            "Creation of the dataset for the problem\n",
            "['tarjan', 'kosaraju']\n",
            "/content/drive/MyDrive/ProblemClassif/problems/ctc/tarjan/train\n",
            "/content/drive/MyDrive/ProblemClassif/problems/ctc/kosaraju/train\n",
            "🔥🔥\n",
            "['tarjan', 'kosaraju']\n",
            "/content/drive/MyDrive/ProblemClassif/problems/ctc/tarjan/test\n",
            "/content/drive/MyDrive/ProblemClassif/problems/ctc/kosaraju/test\n",
            "🔥🔥\n",
            "Dataset done\n",
            "\n",
            "Loading CodeBERTa\n"
          ]
        },
        {
          "output_type": "stream",
          "name": "stderr",
          "text": [
            "Some weights of the model checkpoint at huggingface/CodeBERTa-small-v1 were not used when initializing RobertaForSequenceClassification: ['lm_head.bias', 'lm_head.layer_norm.weight', 'lm_head.dense.weight', 'lm_head.decoder.weight', 'roberta.pooler.dense.bias', 'lm_head.decoder.bias', 'lm_head.dense.bias', 'lm_head.layer_norm.bias', 'roberta.pooler.dense.weight']\n",
            "- This IS expected if you are initializing RobertaForSequenceClassification from the checkpoint of a model trained on another task or with another architecture (e.g. initializing a BertForSequenceClassification model from a BertForPreTraining model).\n",
            "- This IS NOT expected if you are initializing RobertaForSequenceClassification from the checkpoint of a model that you expect to be exactly identical (initializing a BertForSequenceClassification model from a BertForSequenceClassification model).\n",
            "Some weights of RobertaForSequenceClassification were not initialized from the model checkpoint at huggingface/CodeBERTa-small-v1 and are newly initialized: ['classifier.out_proj.bias', 'classifier.dense.bias', 'classifier.dense.weight', 'classifier.out_proj.weight']\n",
            "You should probably TRAIN this model on a down-stream task to be able to use it for predictions and inference.\n"
          ]
        },
        {
          "output_type": "stream",
          "name": "stdout",
          "text": [
            "num params: 83452418\n",
            "num trainable params: 592130\n",
            "\n",
            "Model loaded\n",
            "\n",
            "Training Loop\n"
          ]
        },
        {
          "output_type": "stream",
          "name": "stderr",
          "text": [
            "Epoch:   0%|          | 0/20 [00:00<?, ?it/s]\n",
            "Iteration:   0%|          | 0/4 [00:00<?, ?it/s]\u001b[A\n",
            "Iteration:  25%|██▌       | 1/4 [00:04<00:13,  4.49s/it]\u001b[A\n",
            "Iteration:  50%|█████     | 2/4 [00:08<00:08,  4.42s/it]\u001b[A\n",
            "Iteration:  75%|███████▌  | 3/4 [00:13<00:04,  4.38s/it]\u001b[A\n",
            "Iteration: 100%|██████████| 4/4 [00:17<00:00,  4.25s/it]\n",
            "Epoch:   5%|▌         | 1/20 [00:17<05:23, 17.02s/it]\n",
            "Iteration:   0%|          | 0/4 [00:00<?, ?it/s]\u001b[A"
          ]
        },
        {
          "output_type": "stream",
          "name": "stdout",
          "text": [
            "\n",
            "Epoch 1 Evaluation\n"
          ]
        },
        {
          "output_type": "stream",
          "name": "stderr",
          "text": [
            "\n",
            "\n",
            "Eval:   0%|          | 0/1 [00:00<?, ?it/s]\u001b[A\u001b[A\n",
            "\n",
            "Eval: 100%|██████████| 1/1 [00:05<00:00,  5.39s/it]\n",
            "/usr/local/lib/python3.7/dist-packages/transformers/data/metrics/__init__.py:36: FutureWarning: This metric will be removed from the library soon, metrics should be handled with the 🤗 Datasets library. You can have a look at this example script for pointers: https://github.com/huggingface/transformers/blob/master/examples/pytorch/text-classification/run_glue.py\n",
            "  warnings.warn(DEPRECATION_WARNING, FutureWarning)\n"
          ]
        },
        {
          "output_type": "stream",
          "name": "stdout",
          "text": [
            "\n",
            "=== Eval: loss === 0.5719907283782959\n",
            "=== Eval: acc. === 0.5828220858895705\n",
            "=== Eval: f1 === 0.45474222746950016\n",
            "\n",
            "\n"
          ]
        },
        {
          "output_type": "stream",
          "name": "stderr",
          "text": [
            "\n",
            "Iteration:  25%|██▌       | 1/4 [00:09<00:28,  9.61s/it]\u001b[A\n",
            "Iteration:  50%|█████     | 2/4 [00:13<00:12,  6.39s/it]\u001b[A\n",
            "Iteration:  75%|███████▌  | 3/4 [00:17<00:05,  5.39s/it]\u001b[A\n",
            "Iteration: 100%|██████████| 4/4 [00:21<00:00,  5.40s/it]\n",
            "Epoch:  10%|█         | 2/20 [00:38<05:55, 19.73s/it]\n",
            "Iteration:   0%|          | 0/4 [00:00<?, ?it/s]\u001b[A\n",
            "Iteration:  25%|██▌       | 1/4 [00:04<00:12,  4.19s/it]\u001b[A\n",
            "Iteration:  50%|█████     | 2/4 [00:08<00:08,  4.18s/it]\u001b[A\n",
            "Iteration:  75%|███████▌  | 3/4 [00:12<00:04,  4.20s/it]\u001b[A\n",
            "Iteration: 100%|██████████| 4/4 [00:16<00:00,  4.07s/it]\n",
            "Epoch:  15%|█▌        | 3/20 [00:54<05:08, 18.15s/it]\n",
            "Iteration:   0%|          | 0/4 [00:00<?, ?it/s]\u001b[A\n",
            "Iteration:  25%|██▌       | 1/4 [00:04<00:12,  4.18s/it]\u001b[A\n",
            "Iteration:  50%|█████     | 2/4 [00:08<00:08,  4.18s/it]\u001b[A\n",
            "Iteration:  75%|███████▌  | 3/4 [00:12<00:04,  4.20s/it]\u001b[A\n",
            "Iteration: 100%|██████████| 4/4 [00:16<00:00,  4.07s/it]\n",
            "Epoch:  20%|██        | 4/20 [01:11<04:38, 17.41s/it]\n",
            "Iteration:   0%|          | 0/4 [00:00<?, ?it/s]\u001b[A\n",
            "Iteration:  25%|██▌       | 1/4 [00:04<00:12,  4.23s/it]\u001b[A\n",
            "Iteration:  50%|█████     | 2/4 [00:08<00:08,  4.22s/it]\u001b[A\n",
            "Iteration:  75%|███████▌  | 3/4 [00:12<00:04,  4.22s/it]\u001b[A\n",
            "Iteration: 100%|██████████| 4/4 [00:16<00:00,  4.08s/it]\n",
            "Epoch:  25%|██▌       | 5/20 [01:27<04:15, 17.03s/it]\n",
            "Iteration:   0%|          | 0/4 [00:00<?, ?it/s]\u001b[A"
          ]
        },
        {
          "output_type": "stream",
          "name": "stdout",
          "text": [
            "\n",
            "Epoch 5 Evaluation\n"
          ]
        },
        {
          "output_type": "stream",
          "name": "stderr",
          "text": [
            "\n",
            "\n",
            "Eval:   0%|          | 0/1 [00:00<?, ?it/s]\u001b[A\u001b[A\n",
            "\n",
            "Eval: 100%|██████████| 1/1 [00:05<00:00,  5.39s/it]\n",
            "/usr/local/lib/python3.7/dist-packages/transformers/data/metrics/__init__.py:36: FutureWarning: This metric will be removed from the library soon, metrics should be handled with the 🤗 Datasets library. You can have a look at this example script for pointers: https://github.com/huggingface/transformers/blob/master/examples/pytorch/text-classification/run_glue.py\n",
            "  warnings.warn(DEPRECATION_WARNING, FutureWarning)\n"
          ]
        },
        {
          "output_type": "stream",
          "name": "stdout",
          "text": [
            "\n",
            "=== Eval: loss === 0.5177400708198547\n",
            "=== Eval: acc. === 0.6196319018404908\n",
            "=== Eval: f1 === 0.5241996233521657\n",
            "\n",
            "\n"
          ]
        },
        {
          "output_type": "stream",
          "name": "stderr",
          "text": [
            "\n",
            "Iteration:  25%|██▌       | 1/4 [00:09<00:28,  9.64s/it]\u001b[A\n",
            "Iteration:  50%|█████     | 2/4 [00:13<00:12,  6.44s/it]\u001b[A\n",
            "Iteration:  75%|███████▌  | 3/4 [00:18<00:05,  5.41s/it]\u001b[A\n",
            "Iteration: 100%|██████████| 4/4 [00:21<00:00,  5.42s/it]\n",
            "Epoch:  30%|███       | 6/20 [01:49<04:20, 18.62s/it]\n",
            "Iteration:   0%|          | 0/4 [00:00<?, ?it/s]\u001b[A\n",
            "Iteration:  25%|██▌       | 1/4 [00:04<00:12,  4.23s/it]\u001b[A\n",
            "Iteration:  50%|█████     | 2/4 [00:08<00:08,  4.22s/it]\u001b[A\n",
            "Iteration:  75%|███████▌  | 3/4 [00:12<00:04,  4.22s/it]\u001b[A\n",
            "Iteration: 100%|██████████| 4/4 [00:16<00:00,  4.08s/it]\n",
            "Epoch:  35%|███▌      | 7/20 [02:05<03:52, 17.88s/it]\n",
            "Iteration:   0%|          | 0/4 [00:00<?, ?it/s]\u001b[A\n",
            "Iteration:  25%|██▌       | 1/4 [00:04<00:12,  4.24s/it]\u001b[A\n",
            "Iteration:  50%|█████     | 2/4 [00:08<00:08,  4.21s/it]\u001b[A\n",
            "Iteration:  75%|███████▌  | 3/4 [00:12<00:04,  4.22s/it]\u001b[A\n",
            "Iteration: 100%|██████████| 4/4 [00:16<00:00,  4.09s/it]\n",
            "Epoch:  40%|████      | 8/20 [02:21<03:28, 17.39s/it]\n",
            "Iteration:   0%|          | 0/4 [00:00<?, ?it/s]\u001b[A\n",
            "Iteration:  25%|██▌       | 1/4 [00:04<00:12,  4.19s/it]\u001b[A\n",
            "Iteration:  50%|█████     | 2/4 [00:08<00:08,  4.20s/it]\u001b[A\n",
            "Iteration:  75%|███████▌  | 3/4 [00:12<00:04,  4.20s/it]\u001b[A\n",
            "Iteration: 100%|██████████| 4/4 [00:16<00:00,  4.07s/it]\n",
            "Epoch:  45%|████▌     | 9/20 [02:38<03:07, 17.05s/it]\n",
            "Iteration:   0%|          | 0/4 [00:00<?, ?it/s]\u001b[A\n",
            "Iteration:  25%|██▌       | 1/4 [00:04<00:12,  4.21s/it]\u001b[A\n",
            "Iteration:  50%|█████     | 2/4 [00:08<00:08,  4.21s/it]\u001b[A\n",
            "Iteration:  75%|███████▌  | 3/4 [00:12<00:04,  4.21s/it]\u001b[A\n",
            "Iteration: 100%|██████████| 4/4 [00:16<00:00,  4.08s/it]\n",
            "Epoch:  50%|█████     | 10/20 [02:54<02:48, 16.83s/it]\n",
            "Iteration:   0%|          | 0/4 [00:00<?, ?it/s]\u001b[A"
          ]
        },
        {
          "output_type": "stream",
          "name": "stdout",
          "text": [
            "\n",
            "Epoch 10 Evaluation\n"
          ]
        },
        {
          "output_type": "stream",
          "name": "stderr",
          "text": [
            "\n",
            "\n",
            "Eval:   0%|          | 0/1 [00:00<?, ?it/s]\u001b[A\u001b[A\n",
            "\n",
            "Eval: 100%|██████████| 1/1 [00:05<00:00,  5.38s/it]\n",
            "/usr/local/lib/python3.7/dist-packages/transformers/data/metrics/__init__.py:36: FutureWarning: This metric will be removed from the library soon, metrics should be handled with the 🤗 Datasets library. You can have a look at this example script for pointers: https://github.com/huggingface/transformers/blob/master/examples/pytorch/text-classification/run_glue.py\n",
            "  warnings.warn(DEPRECATION_WARNING, FutureWarning)\n"
          ]
        },
        {
          "output_type": "stream",
          "name": "stdout",
          "text": [
            "\n",
            "=== Eval: loss === 0.2091735154390335\n",
            "=== Eval: acc. === 0.9263803680981595\n",
            "=== Eval: f1 === 0.9262443438914028\n",
            "\n",
            "\n"
          ]
        },
        {
          "output_type": "stream",
          "name": "stderr",
          "text": [
            "\n",
            "Iteration:  25%|██▌       | 1/4 [00:09<00:28,  9.62s/it]\u001b[A\n",
            "Iteration:  50%|█████     | 2/4 [00:13<00:12,  6.44s/it]\u001b[A\n",
            "Iteration:  75%|███████▌  | 3/4 [00:18<00:05,  5.41s/it]\u001b[A\n",
            "Iteration: 100%|██████████| 4/4 [00:21<00:00,  5.42s/it]\n",
            "Epoch:  55%|█████▌    | 11/20 [03:16<02:44, 18.32s/it]\n",
            "Iteration:   0%|          | 0/4 [00:00<?, ?it/s]\u001b[A\n",
            "Iteration:  25%|██▌       | 1/4 [00:04<00:12,  4.23s/it]\u001b[A\n",
            "Iteration:  50%|█████     | 2/4 [00:08<00:08,  4.22s/it]\u001b[A\n",
            "Iteration:  75%|███████▌  | 3/4 [00:12<00:04,  4.21s/it]\u001b[A\n",
            "Iteration: 100%|██████████| 4/4 [00:16<00:00,  4.08s/it]\n",
            "Epoch:  60%|██████    | 12/20 [03:32<02:21, 17.72s/it]\n",
            "Iteration:   0%|          | 0/4 [00:00<?, ?it/s]\u001b[A\n",
            "Iteration:  25%|██▌       | 1/4 [00:04<00:12,  4.18s/it]\u001b[A\n",
            "Iteration:  50%|█████     | 2/4 [00:08<00:08,  4.19s/it]\u001b[A\n",
            "Iteration:  75%|███████▌  | 3/4 [00:12<00:04,  4.28s/it]\u001b[A\n",
            "Iteration: 100%|██████████| 4/4 [00:16<00:00,  4.16s/it]\n",
            "Epoch:  65%|██████▌   | 13/20 [03:49<02:01, 17.39s/it]\n",
            "Iteration:   0%|          | 0/4 [00:00<?, ?it/s]\u001b[A\n",
            "Iteration:  25%|██▌       | 1/4 [00:04<00:13,  4.39s/it]\u001b[A\n",
            "Iteration:  50%|█████     | 2/4 [00:08<00:08,  4.41s/it]\u001b[A\n",
            "Iteration:  75%|███████▌  | 3/4 [00:13<00:04,  4.41s/it]\u001b[A\n",
            "Iteration: 100%|██████████| 4/4 [00:17<00:00,  4.27s/it]\n",
            "Epoch:  70%|███████   | 14/20 [04:06<01:43, 17.30s/it]\n",
            "Iteration:   0%|          | 0/4 [00:00<?, ?it/s]\u001b[A\n",
            "Iteration:  25%|██▌       | 1/4 [00:04<00:13,  4.38s/it]\u001b[A\n",
            "Iteration:  50%|█████     | 2/4 [00:08<00:08,  4.41s/it]\u001b[A\n",
            "Iteration:  75%|███████▌  | 3/4 [00:13<00:04,  4.40s/it]\u001b[A\n",
            "Iteration: 100%|██████████| 4/4 [00:17<00:00,  4.27s/it]\n",
            "Epoch:  75%|███████▌  | 15/20 [04:23<01:26, 17.24s/it]\n",
            "Iteration:   0%|          | 0/4 [00:00<?, ?it/s]\u001b[A\n",
            "Iteration:  25%|██▌       | 1/4 [00:04<00:13,  4.38s/it]\u001b[A\n",
            "Iteration:  50%|█████     | 2/4 [00:08<00:08,  4.41s/it]\u001b[A\n",
            "Iteration:  75%|███████▌  | 3/4 [00:13<00:04,  4.41s/it]\u001b[A\n",
            "Iteration: 100%|██████████| 4/4 [00:17<00:00,  4.27s/it]\n",
            "Epoch:  80%|████████  | 16/20 [04:40<01:08, 17.19s/it]\n",
            "Iteration:   0%|          | 0/4 [00:00<?, ?it/s]\u001b[A\n",
            "Iteration:  25%|██▌       | 1/4 [00:04<00:13,  4.39s/it]\u001b[A\n",
            "Iteration:  50%|█████     | 2/4 [00:08<00:08,  4.41s/it]\u001b[A\n",
            "Iteration:  75%|███████▌  | 3/4 [00:13<00:04,  4.39s/it]\u001b[A\n",
            "Iteration: 100%|██████████| 4/4 [00:17<00:00,  4.26s/it]\n",
            "Epoch:  85%|████████▌ | 17/20 [04:57<00:51, 17.16s/it]\n",
            "Iteration:   0%|          | 0/4 [00:00<?, ?it/s]\u001b[A\n",
            "Iteration:  25%|██▌       | 1/4 [00:04<00:13,  4.38s/it]\u001b[A\n",
            "Iteration:  50%|█████     | 2/4 [00:08<00:08,  4.39s/it]\u001b[A\n",
            "Iteration:  75%|███████▌  | 3/4 [00:13<00:04,  4.39s/it]\u001b[A\n",
            "Iteration: 100%|██████████| 4/4 [00:17<00:00,  4.25s/it]\n",
            "Epoch:  90%|█████████ | 18/20 [05:14<00:34, 17.12s/it]\n",
            "Iteration:   0%|          | 0/4 [00:00<?, ?it/s]\u001b[A\n",
            "Iteration:  25%|██▌       | 1/4 [00:04<00:13,  4.42s/it]\u001b[A\n",
            "Iteration:  50%|█████     | 2/4 [00:08<00:08,  4.40s/it]\u001b[A\n",
            "Iteration:  75%|███████▌  | 3/4 [00:13<00:04,  4.40s/it]\u001b[A\n",
            "Iteration: 100%|██████████| 4/4 [00:17<00:00,  4.26s/it]\n",
            "Epoch:  95%|█████████▌| 19/20 [05:31<00:17, 17.10s/it]\n",
            "Iteration:   0%|          | 0/4 [00:00<?, ?it/s]\u001b[A\n",
            "Iteration:  25%|██▌       | 1/4 [00:04<00:13,  4.43s/it]\u001b[A\n",
            "Iteration:  50%|█████     | 2/4 [00:08<00:08,  4.42s/it]\u001b[A\n",
            "Iteration:  75%|███████▌  | 3/4 [00:13<00:04,  4.39s/it]\u001b[A\n",
            "Iteration: 100%|██████████| 4/4 [00:17<00:00,  4.26s/it]\n",
            "Epoch: 100%|██████████| 20/20 [05:48<00:00, 17.44s/it]\n"
          ]
        },
        {
          "output_type": "stream",
          "name": "stdout",
          "text": [
            "\n",
            "Final Evaluation\n"
          ]
        },
        {
          "output_type": "stream",
          "name": "stderr",
          "text": [
            "Eval: 100%|██████████| 1/1 [00:05<00:00,  5.40s/it]\n",
            "/usr/local/lib/python3.7/dist-packages/transformers/data/metrics/__init__.py:36: FutureWarning: This metric will be removed from the library soon, metrics should be handled with the 🤗 Datasets library. You can have a look at this example script for pointers: https://github.com/huggingface/transformers/blob/master/examples/pytorch/text-classification/run_glue.py\n",
            "  warnings.warn(DEPRECATION_WARNING, FutureWarning)\n"
          ]
        },
        {
          "output_type": "stream",
          "name": "stdout",
          "text": [
            "\n",
            "=== Eval: loss === 0.14764051139354706\n",
            "=== Eval: acc. === 0.9386503067484663\n",
            "=== Eval: f1 === 0.9378052503052503\n",
            "\n",
            "\n",
            "Training Done\n",
            "\n",
            "Storing the results\n",
            "ctc, 0.5719907283782959, 0.5828220858895705, 0.45474222746950016, 0.5177400708198547, 0.6196319018404908, 0.5241996233521657, 0.2091735154390335, 0.9263803680981595, 0.9262443438914028, 0.14764051139354706, 0.9386503067484663, 0.9378052503052503\n",
            "Done\n",
            "Problem: dmin\n",
            "Algorithms: \n",
            "['bellman', 'djikstra']\n",
            "Creation of the dataset for the problem\n",
            "['bellman', 'djikstra']\n",
            "/content/drive/MyDrive/ProblemClassif/problems/dmin/bellman/train\n",
            "/content/drive/MyDrive/ProblemClassif/problems/dmin/djikstra/train\n",
            "🔥🔥\n",
            "['bellman', 'djikstra']\n",
            "/content/drive/MyDrive/ProblemClassif/problems/dmin/bellman/test\n",
            "/content/drive/MyDrive/ProblemClassif/problems/dmin/djikstra/test\n",
            "🔥🔥\n",
            "Dataset done\n",
            "\n",
            "Loading CodeBERTa\n"
          ]
        },
        {
          "output_type": "stream",
          "name": "stderr",
          "text": [
            "Some weights of the model checkpoint at huggingface/CodeBERTa-small-v1 were not used when initializing RobertaForSequenceClassification: ['lm_head.bias', 'lm_head.layer_norm.weight', 'lm_head.dense.weight', 'lm_head.decoder.weight', 'roberta.pooler.dense.bias', 'lm_head.decoder.bias', 'lm_head.dense.bias', 'lm_head.layer_norm.bias', 'roberta.pooler.dense.weight']\n",
            "- This IS expected if you are initializing RobertaForSequenceClassification from the checkpoint of a model trained on another task or with another architecture (e.g. initializing a BertForSequenceClassification model from a BertForPreTraining model).\n",
            "- This IS NOT expected if you are initializing RobertaForSequenceClassification from the checkpoint of a model that you expect to be exactly identical (initializing a BertForSequenceClassification model from a BertForSequenceClassification model).\n",
            "Some weights of RobertaForSequenceClassification were not initialized from the model checkpoint at huggingface/CodeBERTa-small-v1 and are newly initialized: ['classifier.out_proj.bias', 'classifier.dense.bias', 'classifier.dense.weight', 'classifier.out_proj.weight']\n",
            "You should probably TRAIN this model on a down-stream task to be able to use it for predictions and inference.\n"
          ]
        },
        {
          "output_type": "stream",
          "name": "stdout",
          "text": [
            "num params: 83452418\n",
            "num trainable params: 592130\n",
            "\n",
            "Model loaded\n",
            "\n",
            "Training Loop\n"
          ]
        },
        {
          "output_type": "stream",
          "name": "stderr",
          "text": [
            "Epoch:   0%|          | 0/20 [00:00<?, ?it/s]\n",
            "Iteration:   0%|          | 0/3 [00:00<?, ?it/s]\u001b[A\n",
            "Iteration:  33%|███▎      | 1/3 [00:04<00:09,  4.52s/it]\u001b[A\n",
            "Iteration:  67%|██████▋   | 2/3 [00:08<00:04,  4.41s/it]\u001b[A\n",
            "Iteration: 100%|██████████| 3/3 [00:10<00:00,  3.48s/it]\n",
            "Epoch:   5%|▌         | 1/20 [00:10<03:18, 10.45s/it]\n",
            "Iteration:   0%|          | 0/3 [00:00<?, ?it/s]\u001b[A"
          ]
        },
        {
          "output_type": "stream",
          "name": "stdout",
          "text": [
            "\n",
            "Epoch 1 Evaluation\n"
          ]
        },
        {
          "output_type": "stream",
          "name": "stderr",
          "text": [
            "\n",
            "\n",
            "Eval:   0%|          | 0/1 [00:00<?, ?it/s]\u001b[A\u001b[A\n",
            "\n",
            "Eval: 100%|██████████| 1/1 [00:03<00:00,  3.24s/it]\n",
            "/usr/local/lib/python3.7/dist-packages/transformers/data/metrics/__init__.py:36: FutureWarning: This metric will be removed from the library soon, metrics should be handled with the 🤗 Datasets library. You can have a look at this example script for pointers: https://github.com/huggingface/transformers/blob/master/examples/pytorch/text-classification/run_glue.py\n",
            "  warnings.warn(DEPRECATION_WARNING, FutureWarning)\n"
          ]
        },
        {
          "output_type": "stream",
          "name": "stdout",
          "text": [
            "\n",
            "=== Eval: loss === 2.40995717048645\n",
            "=== Eval: acc. === 0.49\n",
            "=== Eval: f1 === 0.32885906040268453\n",
            "\n",
            "\n"
          ]
        },
        {
          "output_type": "stream",
          "name": "stderr",
          "text": [
            "\n",
            "Iteration:  33%|███▎      | 1/3 [00:07<00:14,  7.40s/it]\u001b[A\n",
            "Iteration:  67%|██████▋   | 2/3 [00:11<00:05,  5.51s/it]\u001b[A\n",
            "Iteration: 100%|██████████| 3/3 [00:13<00:00,  4.36s/it]\n",
            "Epoch:  10%|█         | 2/20 [00:23<03:36, 12.02s/it]\n",
            "Iteration:   0%|          | 0/3 [00:00<?, ?it/s]\u001b[A\n",
            "Iteration:  33%|███▎      | 1/3 [00:04<00:08,  4.20s/it]\u001b[A\n",
            "Iteration:  67%|██████▋   | 2/3 [00:08<00:04,  4.18s/it]\u001b[A\n",
            "Iteration: 100%|██████████| 3/3 [00:09<00:00,  3.30s/it]\n",
            "Epoch:  15%|█▌        | 3/20 [00:33<03:07, 11.06s/it]\n",
            "Iteration:   0%|          | 0/3 [00:00<?, ?it/s]\u001b[A\n",
            "Iteration:  33%|███▎      | 1/3 [00:04<00:08,  4.20s/it]\u001b[A\n",
            "Iteration:  67%|██████▋   | 2/3 [00:08<00:04,  4.19s/it]\u001b[A\n",
            "Iteration: 100%|██████████| 3/3 [00:09<00:00,  3.30s/it]\n",
            "Epoch:  20%|██        | 4/20 [00:43<02:49, 10.60s/it]\n",
            "Iteration:   0%|          | 0/3 [00:00<?, ?it/s]\u001b[A\n",
            "Iteration:  33%|███▎      | 1/3 [00:04<00:08,  4.16s/it]\u001b[A\n",
            "Iteration:  67%|██████▋   | 2/3 [00:08<00:04,  4.18s/it]\u001b[A\n",
            "Iteration: 100%|██████████| 3/3 [00:09<00:00,  3.29s/it]\n",
            "Epoch:  25%|██▌       | 5/20 [00:53<02:35, 10.35s/it]\n",
            "Iteration:   0%|          | 0/3 [00:00<?, ?it/s]\u001b[A"
          ]
        },
        {
          "output_type": "stream",
          "name": "stdout",
          "text": [
            "\n",
            "Epoch 5 Evaluation\n"
          ]
        },
        {
          "output_type": "stream",
          "name": "stderr",
          "text": [
            "\n",
            "\n",
            "Eval:   0%|          | 0/1 [00:00<?, ?it/s]\u001b[A\u001b[A\n",
            "\n",
            "Eval: 100%|██████████| 1/1 [00:03<00:00,  3.29s/it]\n",
            "/usr/local/lib/python3.7/dist-packages/transformers/data/metrics/__init__.py:36: FutureWarning: This metric will be removed from the library soon, metrics should be handled with the 🤗 Datasets library. You can have a look at this example script for pointers: https://github.com/huggingface/transformers/blob/master/examples/pytorch/text-classification/run_glue.py\n",
            "  warnings.warn(DEPRECATION_WARNING, FutureWarning)\n"
          ]
        },
        {
          "output_type": "stream",
          "name": "stdout",
          "text": [
            "\n",
            "=== Eval: loss === 0.9821498990058899\n",
            "=== Eval: acc. === 0.49\n",
            "=== Eval: f1 === 0.32885906040268453\n",
            "\n",
            "\n"
          ]
        },
        {
          "output_type": "stream",
          "name": "stderr",
          "text": [
            "\n",
            "Iteration:  33%|███▎      | 1/3 [00:07<00:14,  7.49s/it]\u001b[A\n",
            "Iteration:  67%|██████▋   | 2/3 [00:11<00:05,  5.57s/it]\u001b[A\n",
            "Iteration: 100%|██████████| 3/3 [00:13<00:00,  4.41s/it]\n",
            "Epoch:  30%|███       | 6/20 [01:06<02:38, 11.33s/it]\n",
            "Iteration:   0%|          | 0/3 [00:00<?, ?it/s]\u001b[A\n",
            "Iteration:  33%|███▎      | 1/3 [00:04<00:08,  4.19s/it]\u001b[A\n",
            "Iteration:  67%|██████▋   | 2/3 [00:08<00:04,  4.21s/it]\u001b[A\n",
            "Iteration: 100%|██████████| 3/3 [00:09<00:00,  3.31s/it]\n",
            "Epoch:  35%|███▌      | 7/20 [01:16<02:21, 10.88s/it]\n",
            "Iteration:   0%|          | 0/3 [00:00<?, ?it/s]\u001b[A\n",
            "Iteration:  33%|███▎      | 1/3 [00:04<00:08,  4.20s/it]\u001b[A\n",
            "Iteration:  67%|██████▋   | 2/3 [00:08<00:04,  4.20s/it]\u001b[A\n",
            "Iteration: 100%|██████████| 3/3 [00:09<00:00,  3.31s/it]\n",
            "Epoch:  40%|████      | 8/20 [01:26<02:06, 10.58s/it]\n",
            "Iteration:   0%|          | 0/3 [00:00<?, ?it/s]\u001b[A\n",
            "Iteration:  33%|███▎      | 1/3 [00:04<00:08,  4.21s/it]\u001b[A\n",
            "Iteration:  67%|██████▋   | 2/3 [00:08<00:04,  4.18s/it]\u001b[A\n",
            "Iteration: 100%|██████████| 3/3 [00:09<00:00,  3.29s/it]\n",
            "Epoch:  45%|████▌     | 9/20 [01:36<01:54, 10.37s/it]\n",
            "Iteration:   0%|          | 0/3 [00:00<?, ?it/s]\u001b[A\n",
            "Iteration:  33%|███▎      | 1/3 [00:04<00:08,  4.18s/it]\u001b[A\n",
            "Iteration:  67%|██████▋   | 2/3 [00:08<00:04,  4.21s/it]\u001b[A\n",
            "Iteration: 100%|██████████| 3/3 [00:09<00:00,  3.31s/it]\n",
            "Epoch:  50%|█████     | 10/20 [01:46<01:42, 10.24s/it]\n",
            "Iteration:   0%|          | 0/3 [00:00<?, ?it/s]\u001b[A"
          ]
        },
        {
          "output_type": "stream",
          "name": "stdout",
          "text": [
            "\n",
            "Epoch 10 Evaluation\n"
          ]
        },
        {
          "output_type": "stream",
          "name": "stderr",
          "text": [
            "\n",
            "\n",
            "Eval:   0%|          | 0/1 [00:00<?, ?it/s]\u001b[A\u001b[A\n",
            "\n",
            "Eval: 100%|██████████| 1/1 [00:03<00:00,  3.26s/it]\n",
            "/usr/local/lib/python3.7/dist-packages/transformers/data/metrics/__init__.py:36: FutureWarning: This metric will be removed from the library soon, metrics should be handled with the 🤗 Datasets library. You can have a look at this example script for pointers: https://github.com/huggingface/transformers/blob/master/examples/pytorch/text-classification/run_glue.py\n",
            "  warnings.warn(DEPRECATION_WARNING, FutureWarning)\n"
          ]
        },
        {
          "output_type": "stream",
          "name": "stdout",
          "text": [
            "\n",
            "=== Eval: loss === 0.7135769724845886\n",
            "=== Eval: acc. === 0.5\n",
            "=== Eval: f1 === 0.3658041603247083\n",
            "\n",
            "\n"
          ]
        },
        {
          "output_type": "stream",
          "name": "stderr",
          "text": [
            "\n",
            "Iteration:  33%|███▎      | 1/3 [00:07<00:14,  7.49s/it]\u001b[A\n",
            "Iteration:  67%|██████▋   | 2/3 [00:11<00:05,  5.56s/it]\u001b[A\n",
            "Iteration: 100%|██████████| 3/3 [00:13<00:00,  4.41s/it]\n",
            "Epoch:  55%|█████▌    | 11/20 [01:59<01:40, 11.16s/it]\n",
            "Iteration:   0%|          | 0/3 [00:00<?, ?it/s]\u001b[A\n",
            "Iteration:  33%|███▎      | 1/3 [00:04<00:08,  4.18s/it]\u001b[A\n",
            "Iteration:  67%|██████▋   | 2/3 [00:08<00:04,  4.19s/it]\u001b[A\n",
            "Iteration: 100%|██████████| 3/3 [00:09<00:00,  3.29s/it]\n",
            "Epoch:  60%|██████    | 12/20 [02:09<01:26, 10.77s/it]\n",
            "Iteration:   0%|          | 0/3 [00:00<?, ?it/s]\u001b[A\n",
            "Iteration:  33%|███▎      | 1/3 [00:04<00:08,  4.19s/it]\u001b[A\n",
            "Iteration:  67%|██████▋   | 2/3 [00:08<00:04,  4.20s/it]\u001b[A\n",
            "Iteration: 100%|██████████| 3/3 [00:09<00:00,  3.31s/it]\n",
            "Epoch:  65%|██████▌   | 13/20 [02:19<01:13, 10.52s/it]\n",
            "Iteration:   0%|          | 0/3 [00:00<?, ?it/s]\u001b[A\n",
            "Iteration:  33%|███▎      | 1/3 [00:04<00:08,  4.20s/it]\u001b[A\n",
            "Iteration:  67%|██████▋   | 2/3 [00:08<00:04,  4.19s/it]\u001b[A\n",
            "Iteration: 100%|██████████| 3/3 [00:09<00:00,  3.30s/it]\n",
            "Epoch:  70%|███████   | 14/20 [02:29<01:02, 10.34s/it]\n",
            "Iteration:   0%|          | 0/3 [00:00<?, ?it/s]\u001b[A\n",
            "Iteration:  33%|███▎      | 1/3 [00:04<00:08,  4.20s/it]\u001b[A\n",
            "Iteration:  67%|██████▋   | 2/3 [00:08<00:04,  4.20s/it]\u001b[A\n",
            "Iteration: 100%|██████████| 3/3 [00:09<00:00,  3.30s/it]\n",
            "Epoch:  75%|███████▌  | 15/20 [02:39<00:51, 10.22s/it]\n",
            "Iteration:   0%|          | 0/3 [00:00<?, ?it/s]\u001b[A\n",
            "Iteration:  33%|███▎      | 1/3 [00:04<00:08,  4.18s/it]\u001b[A\n",
            "Iteration:  67%|██████▋   | 2/3 [00:08<00:04,  4.21s/it]\u001b[A\n",
            "Iteration: 100%|██████████| 3/3 [00:09<00:00,  3.31s/it]\n",
            "Epoch:  80%|████████  | 16/20 [02:49<00:40, 10.14s/it]\n",
            "Iteration:   0%|          | 0/3 [00:00<?, ?it/s]\u001b[A\n",
            "Iteration:  33%|███▎      | 1/3 [00:04<00:08,  4.18s/it]\u001b[A\n",
            "Iteration:  67%|██████▋   | 2/3 [00:08<00:04,  4.20s/it]\u001b[A\n",
            "Iteration: 100%|██████████| 3/3 [00:09<00:00,  3.33s/it]\n",
            "Epoch:  85%|████████▌ | 17/20 [02:59<00:30, 10.10s/it]\n",
            "Iteration:   0%|          | 0/3 [00:00<?, ?it/s]\u001b[A\n",
            "Iteration:  33%|███▎      | 1/3 [00:04<00:08,  4.37s/it]\u001b[A\n",
            "Iteration:  67%|██████▋   | 2/3 [00:08<00:04,  4.40s/it]\u001b[A\n",
            "Iteration: 100%|██████████| 3/3 [00:10<00:00,  3.46s/it]\n",
            "Epoch:  90%|█████████ | 18/20 [03:09<00:20, 10.19s/it]\n",
            "Iteration:   0%|          | 0/3 [00:00<?, ?it/s]\u001b[A\n",
            "Iteration:  33%|███▎      | 1/3 [00:04<00:08,  4.37s/it]\u001b[A\n",
            "Iteration:  67%|██████▋   | 2/3 [00:08<00:04,  4.38s/it]\u001b[A\n",
            "Iteration: 100%|██████████| 3/3 [00:10<00:00,  3.44s/it]\n",
            "Epoch:  95%|█████████▌| 19/20 [03:19<00:10, 10.24s/it]\n",
            "Iteration:   0%|          | 0/3 [00:00<?, ?it/s]\u001b[A\n",
            "Iteration:  33%|███▎      | 1/3 [00:04<00:08,  4.39s/it]\u001b[A\n",
            "Iteration:  67%|██████▋   | 2/3 [00:08<00:04,  4.39s/it]\u001b[A\n",
            "Iteration: 100%|██████████| 3/3 [00:10<00:00,  3.46s/it]\n",
            "Epoch: 100%|██████████| 20/20 [03:30<00:00, 10.52s/it]\n"
          ]
        },
        {
          "output_type": "stream",
          "name": "stdout",
          "text": [
            "\n",
            "Final Evaluation\n"
          ]
        },
        {
          "output_type": "stream",
          "name": "stderr",
          "text": [
            "Eval: 100%|██████████| 1/1 [00:03<00:00,  3.26s/it]\n",
            "/usr/local/lib/python3.7/dist-packages/transformers/data/metrics/__init__.py:36: FutureWarning: This metric will be removed from the library soon, metrics should be handled with the 🤗 Datasets library. You can have a look at this example script for pointers: https://github.com/huggingface/transformers/blob/master/examples/pytorch/text-classification/run_glue.py\n",
            "  warnings.warn(DEPRECATION_WARNING, FutureWarning)\n"
          ]
        },
        {
          "output_type": "stream",
          "name": "stdout",
          "text": [
            "\n",
            "=== Eval: loss === 0.6160953044891357\n",
            "=== Eval: acc. === 0.7\n",
            "=== Eval: f1 === 0.6989160979526294\n",
            "\n",
            "\n",
            "Training Done\n",
            "\n",
            "Storing the results\n",
            "dmin, 2.40995717048645, 0.49, 0.32885906040268453, 0.9821498990058899, 0.49, 0.32885906040268453, 0.7135769724845886, 0.5, 0.3658041603247083, 0.6160953044891357, 0.7, 0.6989160979526294\n",
            "Done\n",
            "Problem: cmap\n",
            "Algorithms: \n",
            "['distance_search', 'divide_conquer']\n",
            "Creation of the dataset for the problem\n",
            "['distance_search', 'divide_conquer']\n",
            "/content/drive/MyDrive/ProblemClassif/problems/cmap/distance_search/train\n",
            "/content/drive/MyDrive/ProblemClassif/problems/cmap/divide_conquer/train\n",
            "🔥🔥\n",
            "['distance_search', 'divide_conquer']\n",
            "/content/drive/MyDrive/ProblemClassif/problems/cmap/distance_search/test\n",
            "/content/drive/MyDrive/ProblemClassif/problems/cmap/divide_conquer/test\n",
            "🔥🔥\n",
            "Dataset done\n",
            "\n",
            "Loading CodeBERTa\n"
          ]
        },
        {
          "output_type": "stream",
          "name": "stderr",
          "text": [
            "Some weights of the model checkpoint at huggingface/CodeBERTa-small-v1 were not used when initializing RobertaForSequenceClassification: ['lm_head.bias', 'lm_head.layer_norm.weight', 'lm_head.dense.weight', 'lm_head.decoder.weight', 'roberta.pooler.dense.bias', 'lm_head.decoder.bias', 'lm_head.dense.bias', 'lm_head.layer_norm.bias', 'roberta.pooler.dense.weight']\n",
            "- This IS expected if you are initializing RobertaForSequenceClassification from the checkpoint of a model trained on another task or with another architecture (e.g. initializing a BertForSequenceClassification model from a BertForPreTraining model).\n",
            "- This IS NOT expected if you are initializing RobertaForSequenceClassification from the checkpoint of a model that you expect to be exactly identical (initializing a BertForSequenceClassification model from a BertForSequenceClassification model).\n",
            "Some weights of RobertaForSequenceClassification were not initialized from the model checkpoint at huggingface/CodeBERTa-small-v1 and are newly initialized: ['classifier.out_proj.bias', 'classifier.dense.bias', 'classifier.dense.weight', 'classifier.out_proj.weight']\n",
            "You should probably TRAIN this model on a down-stream task to be able to use it for predictions and inference.\n"
          ]
        },
        {
          "output_type": "stream",
          "name": "stdout",
          "text": [
            "num params: 83452418\n",
            "num trainable params: 592130\n",
            "\n",
            "Model loaded\n",
            "\n",
            "Training Loop\n"
          ]
        },
        {
          "output_type": "stream",
          "name": "stderr",
          "text": [
            "Epoch:   0%|          | 0/20 [00:00<?, ?it/s]\n",
            "Iteration:   0%|          | 0/5 [00:00<?, ?it/s]\u001b[A\n",
            "Iteration:  20%|██        | 1/5 [00:04<00:17,  4.45s/it]\u001b[A\n",
            "Iteration:  40%|████      | 2/5 [00:08<00:13,  4.40s/it]\u001b[A\n",
            "Iteration:  60%|██████    | 3/5 [00:13<00:08,  4.39s/it]\u001b[A\n",
            "Iteration:  80%|████████  | 4/5 [00:17<00:04,  4.36s/it]\u001b[A\n",
            "Iteration: 100%|██████████| 5/5 [00:18<00:00,  3.80s/it]\n",
            "Epoch:   5%|▌         | 1/20 [00:19<06:01, 19.01s/it]\n",
            "Iteration:   0%|          | 0/5 [00:00<?, ?it/s]\u001b[A"
          ]
        },
        {
          "output_type": "stream",
          "name": "stdout",
          "text": [
            "\n",
            "Epoch 1 Evaluation\n"
          ]
        },
        {
          "output_type": "stream",
          "name": "stderr",
          "text": [
            "\n",
            "\n",
            "Eval:   0%|          | 0/1 [00:00<?, ?it/s]\u001b[A\u001b[A\n",
            "\n",
            "Eval: 100%|██████████| 1/1 [00:06<00:00,  6.72s/it]\n",
            "/usr/local/lib/python3.7/dist-packages/transformers/data/metrics/__init__.py:36: FutureWarning: This metric will be removed from the library soon, metrics should be handled with the 🤗 Datasets library. You can have a look at this example script for pointers: https://github.com/huggingface/transformers/blob/master/examples/pytorch/text-classification/run_glue.py\n",
            "  warnings.warn(DEPRECATION_WARNING, FutureWarning)\n"
          ]
        },
        {
          "output_type": "stream",
          "name": "stdout",
          "text": [
            "\n",
            "=== Eval: loss === 0.9236664772033691\n",
            "=== Eval: acc. === 0.5621621621621622\n",
            "=== Eval: f1 === 0.3709332101926871\n",
            "\n",
            "\n"
          ]
        },
        {
          "output_type": "stream",
          "name": "stderr",
          "text": [
            "\n",
            "Iteration:  20%|██        | 1/5 [00:10<00:43, 10.90s/it]\u001b[A\n",
            "Iteration:  40%|████      | 2/5 [00:15<00:20,  6.95s/it]\u001b[A\n",
            "Iteration:  60%|██████    | 3/5 [00:19<00:11,  5.67s/it]\u001b[A\n",
            "Iteration:  80%|████████  | 4/5 [00:23<00:05,  5.09s/it]\u001b[A\n",
            "Iteration: 100%|██████████| 5/5 [00:24<00:00,  4.97s/it]\n",
            "Epoch:  10%|█         | 2/20 [00:43<06:44, 22.46s/it]\n",
            "Iteration:   0%|          | 0/5 [00:00<?, ?it/s]\u001b[A\n",
            "Iteration:  20%|██        | 1/5 [00:04<00:16,  4.18s/it]\u001b[A\n",
            "Iteration:  40%|████      | 2/5 [00:08<00:12,  4.17s/it]\u001b[A\n",
            "Iteration:  60%|██████    | 3/5 [00:12<00:08,  4.19s/it]\u001b[A\n",
            "Iteration:  80%|████████  | 4/5 [00:16<00:04,  4.20s/it]\u001b[A\n",
            "Iteration: 100%|██████████| 5/5 [00:18<00:00,  3.64s/it]\n",
            "Epoch:  15%|█▌        | 3/20 [01:02<05:48, 20.51s/it]\n",
            "Iteration:   0%|          | 0/5 [00:00<?, ?it/s]\u001b[A\n",
            "Iteration:  20%|██        | 1/5 [00:04<00:16,  4.17s/it]\u001b[A\n",
            "Iteration:  40%|████      | 2/5 [00:08<00:12,  4.18s/it]\u001b[A\n",
            "Iteration:  60%|██████    | 3/5 [00:12<00:08,  4.19s/it]\u001b[A\n",
            "Iteration:  80%|████████  | 4/5 [00:16<00:04,  4.19s/it]\u001b[A\n",
            "Iteration: 100%|██████████| 5/5 [00:18<00:00,  3.63s/it]\n",
            "Epoch:  20%|██        | 4/20 [01:20<05:13, 19.59s/it]\n",
            "Iteration:   0%|          | 0/5 [00:00<?, ?it/s]\u001b[A\n",
            "Iteration:  20%|██        | 1/5 [00:04<00:16,  4.20s/it]\u001b[A\n",
            "Iteration:  40%|████      | 2/5 [00:08<00:12,  4.19s/it]\u001b[A\n",
            "Iteration:  60%|██████    | 3/5 [00:12<00:08,  4.18s/it]\u001b[A\n",
            "Iteration:  80%|████████  | 4/5 [00:16<00:04,  4.20s/it]\u001b[A\n",
            "Iteration: 100%|██████████| 5/5 [00:18<00:00,  3.64s/it]\n",
            "Epoch:  25%|██▌       | 5/20 [01:38<04:46, 19.10s/it]\n",
            "Iteration:   0%|          | 0/5 [00:00<?, ?it/s]\u001b[A"
          ]
        },
        {
          "output_type": "stream",
          "name": "stdout",
          "text": [
            "\n",
            "Epoch 5 Evaluation\n"
          ]
        },
        {
          "output_type": "stream",
          "name": "stderr",
          "text": [
            "\n",
            "\n",
            "Eval:   0%|          | 0/1 [00:00<?, ?it/s]\u001b[A\u001b[A\n",
            "\n",
            "Eval: 100%|██████████| 1/1 [00:06<00:00,  6.12s/it]\n",
            "/usr/local/lib/python3.7/dist-packages/transformers/data/metrics/__init__.py:36: FutureWarning: This metric will be removed from the library soon, metrics should be handled with the 🤗 Datasets library. You can have a look at this example script for pointers: https://github.com/huggingface/transformers/blob/master/examples/pytorch/text-classification/run_glue.py\n",
            "  warnings.warn(DEPRECATION_WARNING, FutureWarning)\n"
          ]
        },
        {
          "output_type": "stream",
          "name": "stdout",
          "text": [
            "\n",
            "=== Eval: loss === 0.235647052526474\n",
            "=== Eval: acc. === 0.9243243243243243\n",
            "=== Eval: f1 === 0.9218372766779335\n",
            "\n",
            "\n"
          ]
        },
        {
          "output_type": "stream",
          "name": "stderr",
          "text": [
            "\n",
            "Iteration:  20%|██        | 1/5 [00:10<00:41, 10.34s/it]\u001b[A\n",
            "Iteration:  40%|████      | 2/5 [00:14<00:20,  6.71s/it]\u001b[A\n",
            "Iteration:  60%|██████    | 3/5 [00:18<00:11,  5.58s/it]\u001b[A\n",
            "Iteration:  80%|████████  | 4/5 [00:22<00:05,  5.02s/it]\u001b[A\n",
            "Iteration: 100%|██████████| 5/5 [00:24<00:00,  4.86s/it]\n",
            "Epoch:  30%|███       | 6/20 [02:02<04:52, 20.88s/it]\n",
            "Iteration:   0%|          | 0/5 [00:00<?, ?it/s]\u001b[A\n",
            "Iteration:  20%|██        | 1/5 [00:04<00:16,  4.17s/it]\u001b[A\n",
            "Iteration:  40%|████      | 2/5 [00:08<00:12,  4.21s/it]\u001b[A\n",
            "Iteration:  60%|██████    | 3/5 [00:12<00:08,  4.19s/it]\u001b[A\n",
            "Iteration:  80%|████████  | 4/5 [00:16<00:04,  4.20s/it]\u001b[A\n",
            "Iteration: 100%|██████████| 5/5 [00:18<00:00,  3.64s/it]\n",
            "Epoch:  35%|███▌      | 7/20 [02:21<04:20, 20.01s/it]\n",
            "Iteration:   0%|          | 0/5 [00:00<?, ?it/s]\u001b[A\n",
            "Iteration:  20%|██        | 1/5 [00:04<00:16,  4.20s/it]\u001b[A\n",
            "Iteration:  40%|████      | 2/5 [00:08<00:12,  4.20s/it]\u001b[A\n",
            "Iteration:  60%|██████    | 3/5 [00:12<00:08,  4.22s/it]\u001b[A\n",
            "Iteration:  80%|████████  | 4/5 [00:16<00:04,  4.20s/it]\u001b[A\n",
            "Iteration: 100%|██████████| 5/5 [00:18<00:00,  3.65s/it]\n",
            "Epoch:  40%|████      | 8/20 [02:39<03:53, 19.46s/it]\n",
            "Iteration:   0%|          | 0/5 [00:00<?, ?it/s]\u001b[A\n",
            "Iteration:  20%|██        | 1/5 [00:04<00:16,  4.17s/it]\u001b[A\n",
            "Iteration:  40%|████      | 2/5 [00:08<00:12,  4.19s/it]\u001b[A\n",
            "Iteration:  60%|██████    | 3/5 [00:12<00:08,  4.18s/it]\u001b[A\n",
            "Iteration:  80%|████████  | 4/5 [00:16<00:04,  4.19s/it]\u001b[A\n",
            "Iteration: 100%|██████████| 5/5 [00:18<00:00,  3.63s/it]\n",
            "Epoch:  45%|████▌     | 9/20 [02:57<03:29, 19.05s/it]\n",
            "Iteration:   0%|          | 0/5 [00:00<?, ?it/s]\u001b[A\n",
            "Iteration:  20%|██        | 1/5 [00:04<00:16,  4.21s/it]\u001b[A\n",
            "Iteration:  40%|████      | 2/5 [00:08<00:12,  4.20s/it]\u001b[A\n",
            "Iteration:  60%|██████    | 3/5 [00:12<00:08,  4.20s/it]\u001b[A\n",
            "Iteration:  80%|████████  | 4/5 [00:16<00:04,  4.20s/it]\u001b[A\n",
            "Iteration: 100%|██████████| 5/5 [00:18<00:00,  3.64s/it]\n",
            "Epoch:  50%|█████     | 10/20 [03:15<03:07, 18.80s/it]\n",
            "Iteration:   0%|          | 0/5 [00:00<?, ?it/s]\u001b[A"
          ]
        },
        {
          "output_type": "stream",
          "name": "stdout",
          "text": [
            "\n",
            "Epoch 10 Evaluation\n"
          ]
        },
        {
          "output_type": "stream",
          "name": "stderr",
          "text": [
            "\n",
            "\n",
            "Eval:   0%|          | 0/1 [00:00<?, ?it/s]\u001b[A\u001b[A\n",
            "\n",
            "Eval: 100%|██████████| 1/1 [00:06<00:00,  6.08s/it]\n",
            "/usr/local/lib/python3.7/dist-packages/transformers/data/metrics/__init__.py:36: FutureWarning: This metric will be removed from the library soon, metrics should be handled with the 🤗 Datasets library. You can have a look at this example script for pointers: https://github.com/huggingface/transformers/blob/master/examples/pytorch/text-classification/run_glue.py\n",
            "  warnings.warn(DEPRECATION_WARNING, FutureWarning)\n"
          ]
        },
        {
          "output_type": "stream",
          "name": "stdout",
          "text": [
            "\n",
            "=== Eval: loss === 0.10503128916025162\n",
            "=== Eval: acc. === 0.9621621621621622\n",
            "=== Eval: f1 === 0.9615144580819639\n",
            "\n",
            "\n"
          ]
        },
        {
          "output_type": "stream",
          "name": "stderr",
          "text": [
            "\n",
            "Iteration:  20%|██        | 1/5 [00:10<00:41, 10.28s/it]\u001b[A\n",
            "Iteration:  40%|████      | 2/5 [00:14<00:20,  6.70s/it]\u001b[A\n",
            "Iteration:  60%|██████    | 3/5 [00:18<00:11,  5.55s/it]\u001b[A\n",
            "Iteration:  80%|████████  | 4/5 [00:22<00:05,  5.01s/it]\u001b[A\n",
            "Iteration: 100%|██████████| 5/5 [00:24<00:00,  4.85s/it]\n",
            "Epoch:  55%|█████▌    | 11/20 [03:39<03:04, 20.48s/it]\n",
            "Iteration:   0%|          | 0/5 [00:00<?, ?it/s]\u001b[A\n",
            "Iteration:  20%|██        | 1/5 [00:04<00:16,  4.16s/it]\u001b[A\n",
            "Iteration:  40%|████      | 2/5 [00:08<00:12,  4.20s/it]\u001b[A\n",
            "Iteration:  60%|██████    | 3/5 [00:12<00:08,  4.20s/it]\u001b[A\n",
            "Iteration:  80%|████████  | 4/5 [00:16<00:04,  4.21s/it]\u001b[A\n",
            "Iteration: 100%|██████████| 5/5 [00:18<00:00,  3.65s/it]\n",
            "Epoch:  60%|██████    | 12/20 [03:58<02:38, 19.80s/it]\n",
            "Iteration:   0%|          | 0/5 [00:00<?, ?it/s]\u001b[A\n",
            "Iteration:  20%|██        | 1/5 [00:04<00:16,  4.18s/it]\u001b[A\n",
            "Iteration:  40%|████      | 2/5 [00:08<00:12,  4.19s/it]\u001b[A\n",
            "Iteration:  60%|██████    | 3/5 [00:12<00:08,  4.20s/it]\u001b[A\n",
            "Iteration:  80%|████████  | 4/5 [00:16<00:04,  4.19s/it]\u001b[A\n",
            "Iteration: 100%|██████████| 5/5 [00:18<00:00,  3.64s/it]\n",
            "Epoch:  65%|██████▌   | 13/20 [04:16<02:15, 19.32s/it]\n",
            "Iteration:   0%|          | 0/5 [00:00<?, ?it/s]\u001b[A\n",
            "Iteration:  20%|██        | 1/5 [00:04<00:16,  4.16s/it]\u001b[A\n",
            "Iteration:  40%|████      | 2/5 [00:08<00:12,  4.19s/it]\u001b[A\n",
            "Iteration:  60%|██████    | 3/5 [00:12<00:08,  4.19s/it]\u001b[A\n",
            "Iteration:  80%|████████  | 4/5 [00:16<00:04,  4.21s/it]\u001b[A\n",
            "Iteration: 100%|██████████| 5/5 [00:18<00:00,  3.64s/it]\n",
            "Epoch:  70%|███████   | 14/20 [04:34<01:53, 18.99s/it]\n",
            "Iteration:   0%|          | 0/5 [00:00<?, ?it/s]\u001b[A\n",
            "Iteration:  20%|██        | 1/5 [00:04<00:16,  4.19s/it]\u001b[A\n",
            "Iteration:  40%|████      | 2/5 [00:08<00:12,  4.19s/it]\u001b[A\n",
            "Iteration:  60%|██████    | 3/5 [00:12<00:08,  4.22s/it]\u001b[A\n",
            "Iteration:  80%|████████  | 4/5 [00:16<00:04,  4.21s/it]\u001b[A\n",
            "Iteration: 100%|██████████| 5/5 [00:18<00:00,  3.65s/it]\n",
            "Epoch:  75%|███████▌  | 15/20 [04:52<01:33, 18.77s/it]\n",
            "Iteration:   0%|          | 0/5 [00:00<?, ?it/s]\u001b[A\n",
            "Iteration:  20%|██        | 1/5 [00:04<00:16,  4.17s/it]\u001b[A\n",
            "Iteration:  40%|████      | 2/5 [00:08<00:12,  4.19s/it]\u001b[A\n",
            "Iteration:  60%|██████    | 3/5 [00:12<00:08,  4.19s/it]\u001b[A\n",
            "Iteration:  80%|████████  | 4/5 [00:16<00:04,  4.19s/it]\u001b[A\n",
            "Iteration: 100%|██████████| 5/5 [00:18<00:00,  3.64s/it]\n",
            "Epoch:  80%|████████  | 16/20 [05:11<01:14, 18.60s/it]\n",
            "Iteration:   0%|          | 0/5 [00:00<?, ?it/s]\u001b[A\n",
            "Iteration:  20%|██        | 1/5 [00:04<00:16,  4.19s/it]\u001b[A\n",
            "Iteration:  40%|████      | 2/5 [00:08<00:12,  4.18s/it]\u001b[A\n",
            "Iteration:  60%|██████    | 3/5 [00:12<00:08,  4.20s/it]\u001b[A\n",
            "Iteration:  80%|████████  | 4/5 [00:16<00:04,  4.19s/it]\u001b[A\n",
            "Iteration: 100%|██████████| 5/5 [00:18<00:00,  3.63s/it]\n",
            "Epoch:  85%|████████▌ | 17/20 [05:29<00:55, 18.48s/it]\n",
            "Iteration:   0%|          | 0/5 [00:00<?, ?it/s]\u001b[A\n",
            "Iteration:  20%|██        | 1/5 [00:04<00:16,  4.14s/it]\u001b[A\n",
            "Iteration:  40%|████      | 2/5 [00:08<00:12,  4.19s/it]\u001b[A\n",
            "Iteration:  60%|██████    | 3/5 [00:12<00:08,  4.19s/it]\u001b[A\n",
            "Iteration:  80%|████████  | 4/5 [00:16<00:04,  4.20s/it]\u001b[A\n",
            "Iteration: 100%|██████████| 5/5 [00:18<00:00,  3.64s/it]\n",
            "Epoch:  90%|█████████ | 18/20 [05:47<00:36, 18.39s/it]\n",
            "Iteration:   0%|          | 0/5 [00:00<?, ?it/s]\u001b[A\n",
            "Iteration:  20%|██        | 1/5 [00:04<00:16,  4.21s/it]\u001b[A\n",
            "Iteration:  40%|████      | 2/5 [00:08<00:12,  4.19s/it]\u001b[A\n",
            "Iteration:  60%|██████    | 3/5 [00:12<00:08,  4.19s/it]\u001b[A\n",
            "Iteration:  80%|████████  | 4/5 [00:16<00:04,  4.19s/it]\u001b[A\n",
            "Iteration: 100%|██████████| 5/5 [00:18<00:00,  3.64s/it]\n",
            "Epoch:  95%|█████████▌| 19/20 [06:05<00:18, 18.34s/it]\n",
            "Iteration:   0%|          | 0/5 [00:00<?, ?it/s]\u001b[A\n",
            "Iteration:  20%|██        | 1/5 [00:04<00:16,  4.17s/it]\u001b[A\n",
            "Iteration:  40%|████      | 2/5 [00:08<00:12,  4.20s/it]\u001b[A\n",
            "Iteration:  60%|██████    | 3/5 [00:12<00:08,  4.19s/it]\u001b[A\n",
            "Iteration:  80%|████████  | 4/5 [00:16<00:04,  4.19s/it]\u001b[A\n",
            "Iteration: 100%|██████████| 5/5 [00:18<00:00,  3.63s/it]\n",
            "Epoch: 100%|██████████| 20/20 [06:23<00:00, 19.20s/it]\n"
          ]
        },
        {
          "output_type": "stream",
          "name": "stdout",
          "text": [
            "\n",
            "Final Evaluation\n"
          ]
        },
        {
          "output_type": "stream",
          "name": "stderr",
          "text": [
            "Eval: 100%|██████████| 1/1 [00:06<00:00,  6.07s/it]\n",
            "/usr/local/lib/python3.7/dist-packages/transformers/data/metrics/__init__.py:36: FutureWarning: This metric will be removed from the library soon, metrics should be handled with the 🤗 Datasets library. You can have a look at this example script for pointers: https://github.com/huggingface/transformers/blob/master/examples/pytorch/text-classification/run_glue.py\n",
            "  warnings.warn(DEPRECATION_WARNING, FutureWarning)\n"
          ]
        },
        {
          "output_type": "stream",
          "name": "stdout",
          "text": [
            "\n",
            "=== Eval: loss === 0.03750622645020485\n",
            "=== Eval: acc. === 1.0\n",
            "=== Eval: f1 === 1.0\n",
            "\n",
            "\n",
            "Training Done\n",
            "\n",
            "Storing the results\n",
            "cmap, 0.9236664772033691, 0.5621621621621622, 0.3709332101926871, 0.235647052526474, 0.9243243243243243, 0.9218372766779335, 0.10503128916025162, 0.9621621621621622, 0.9615144580819639, 0.03750622645020485, 1.0, 1.0\n",
            "Done\n",
            "Problem: swap\n",
            "Algorithms: \n",
            "['aib', 'merge']\n",
            "Creation of the dataset for the problem\n",
            "['aib', 'merge']\n",
            "/content/drive/MyDrive/ProblemClassif/problems/swap/aib/train\n",
            "/content/drive/MyDrive/ProblemClassif/problems/swap/merge/train\n",
            "🔥🔥\n",
            "['aib', 'merge']\n",
            "/content/drive/MyDrive/ProblemClassif/problems/swap/aib/test\n",
            "/content/drive/MyDrive/ProblemClassif/problems/swap/merge/test\n",
            "🔥🔥\n",
            "Dataset done\n",
            "\n",
            "Loading CodeBERTa\n"
          ]
        },
        {
          "output_type": "stream",
          "name": "stderr",
          "text": [
            "Some weights of the model checkpoint at huggingface/CodeBERTa-small-v1 were not used when initializing RobertaForSequenceClassification: ['lm_head.bias', 'lm_head.layer_norm.weight', 'lm_head.dense.weight', 'lm_head.decoder.weight', 'roberta.pooler.dense.bias', 'lm_head.decoder.bias', 'lm_head.dense.bias', 'lm_head.layer_norm.bias', 'roberta.pooler.dense.weight']\n",
            "- This IS expected if you are initializing RobertaForSequenceClassification from the checkpoint of a model trained on another task or with another architecture (e.g. initializing a BertForSequenceClassification model from a BertForPreTraining model).\n",
            "- This IS NOT expected if you are initializing RobertaForSequenceClassification from the checkpoint of a model that you expect to be exactly identical (initializing a BertForSequenceClassification model from a BertForSequenceClassification model).\n",
            "Some weights of RobertaForSequenceClassification were not initialized from the model checkpoint at huggingface/CodeBERTa-small-v1 and are newly initialized: ['classifier.out_proj.bias', 'classifier.dense.bias', 'classifier.dense.weight', 'classifier.out_proj.weight']\n",
            "You should probably TRAIN this model on a down-stream task to be able to use it for predictions and inference.\n"
          ]
        },
        {
          "output_type": "stream",
          "name": "stdout",
          "text": [
            "num params: 83452418\n",
            "num trainable params: 592130\n",
            "\n",
            "Model loaded\n",
            "\n",
            "Training Loop\n"
          ]
        },
        {
          "output_type": "stream",
          "name": "stderr",
          "text": [
            "Epoch:   0%|          | 0/20 [00:00<?, ?it/s]\n",
            "Iteration:   0%|          | 0/5 [00:00<?, ?it/s]\u001b[A\n",
            "Iteration:  20%|██        | 1/5 [00:04<00:17,  4.49s/it]\u001b[A\n",
            "Iteration:  40%|████      | 2/5 [00:08<00:13,  4.39s/it]\u001b[A\n",
            "Iteration:  60%|██████    | 3/5 [00:13<00:08,  4.38s/it]\u001b[A\n",
            "Iteration:  80%|████████  | 4/5 [00:17<00:04,  4.36s/it]\u001b[A\n",
            "Iteration: 100%|██████████| 5/5 [00:17<00:00,  3.54s/it]\n",
            "Epoch:   5%|▌         | 1/20 [00:17<05:36, 17.70s/it]\n",
            "Iteration:   0%|          | 0/5 [00:00<?, ?it/s]\u001b[A"
          ]
        },
        {
          "output_type": "stream",
          "name": "stdout",
          "text": [
            "\n",
            "Epoch 1 Evaluation\n"
          ]
        },
        {
          "output_type": "stream",
          "name": "stderr",
          "text": [
            "\n",
            "\n",
            "Eval:   0%|          | 0/1 [00:00<?, ?it/s]\u001b[A\u001b[A\n",
            "\n",
            "Eval: 100%|██████████| 1/1 [00:05<00:00,  5.62s/it]\n",
            "/usr/local/lib/python3.7/dist-packages/transformers/data/metrics/__init__.py:36: FutureWarning: This metric will be removed from the library soon, metrics should be handled with the 🤗 Datasets library. You can have a look at this example script for pointers: https://github.com/huggingface/transformers/blob/master/examples/pytorch/text-classification/run_glue.py\n",
            "  warnings.warn(DEPRECATION_WARNING, FutureWarning)\n"
          ]
        },
        {
          "output_type": "stream",
          "name": "stdout",
          "text": [
            "\n",
            "=== Eval: loss === 1.1621438264846802\n",
            "=== Eval: acc. === 0.5348837209302325\n",
            "=== Eval: f1 === 0.34848484848484845\n",
            "\n",
            "\n"
          ]
        },
        {
          "output_type": "stream",
          "name": "stderr",
          "text": [
            "\n",
            "Iteration:  20%|██        | 1/5 [00:09<00:39,  9.80s/it]\u001b[A\n",
            "Iteration:  40%|████      | 2/5 [00:14<00:19,  6.52s/it]\u001b[A\n",
            "Iteration:  60%|██████    | 3/5 [00:18<00:10,  5.44s/it]\u001b[A\n",
            "Iteration:  80%|████████  | 4/5 [00:22<00:04,  4.94s/it]\u001b[A\n",
            "Iteration: 100%|██████████| 5/5 [00:22<00:00,  4.51s/it]\n",
            "Epoch:  10%|█         | 2/20 [00:40<06:09, 20.55s/it]\n",
            "Iteration:   0%|          | 0/5 [00:00<?, ?it/s]\u001b[A\n",
            "Iteration:  20%|██        | 1/5 [00:04<00:16,  4.17s/it]\u001b[A\n",
            "Iteration:  40%|████      | 2/5 [00:08<00:12,  4.19s/it]\u001b[A\n",
            "Iteration:  60%|██████    | 3/5 [00:12<00:08,  4.20s/it]\u001b[A\n",
            "Iteration:  80%|████████  | 4/5 [00:16<00:04,  4.18s/it]\u001b[A\n",
            "Iteration: 100%|██████████| 5/5 [00:16<00:00,  3.38s/it]\n",
            "Epoch:  15%|█▌        | 3/20 [00:57<05:21, 18.89s/it]\n",
            "Iteration:   0%|          | 0/5 [00:00<?, ?it/s]\u001b[A\n",
            "Iteration:  20%|██        | 1/5 [00:04<00:16,  4.20s/it]\u001b[A\n",
            "Iteration:  40%|████      | 2/5 [00:08<00:12,  4.19s/it]\u001b[A\n",
            "Iteration:  60%|██████    | 3/5 [00:12<00:08,  4.22s/it]\u001b[A\n",
            "Iteration:  80%|████████  | 4/5 [00:16<00:04,  4.21s/it]\u001b[A\n",
            "Iteration: 100%|██████████| 5/5 [00:16<00:00,  3.40s/it]\n",
            "Epoch:  20%|██        | 4/20 [01:14<04:50, 18.14s/it]\n",
            "Iteration:   0%|          | 0/5 [00:00<?, ?it/s]\u001b[A\n",
            "Iteration:  20%|██        | 1/5 [00:04<00:16,  4.18s/it]\u001b[A\n",
            "Iteration:  40%|████      | 2/5 [00:08<00:12,  4.19s/it]\u001b[A\n",
            "Iteration:  60%|██████    | 3/5 [00:12<00:08,  4.20s/it]\u001b[A\n",
            "Iteration:  80%|████████  | 4/5 [00:16<00:04,  4.20s/it]\u001b[A\n",
            "Iteration: 100%|██████████| 5/5 [00:16<00:00,  3.39s/it]\n",
            "Epoch:  25%|██▌       | 5/20 [01:31<04:25, 17.72s/it]\n",
            "Iteration:   0%|          | 0/5 [00:00<?, ?it/s]\u001b[A"
          ]
        },
        {
          "output_type": "stream",
          "name": "stdout",
          "text": [
            "\n",
            "Epoch 5 Evaluation\n"
          ]
        },
        {
          "output_type": "stream",
          "name": "stderr",
          "text": [
            "\n",
            "\n",
            "Eval:   0%|          | 0/1 [00:00<?, ?it/s]\u001b[A\u001b[A\n",
            "\n",
            "Eval: 100%|██████████| 1/1 [00:05<00:00,  5.67s/it]\n",
            "/usr/local/lib/python3.7/dist-packages/transformers/data/metrics/__init__.py:36: FutureWarning: This metric will be removed from the library soon, metrics should be handled with the 🤗 Datasets library. You can have a look at this example script for pointers: https://github.com/huggingface/transformers/blob/master/examples/pytorch/text-classification/run_glue.py\n",
            "  warnings.warn(DEPRECATION_WARNING, FutureWarning)\n"
          ]
        },
        {
          "output_type": "stream",
          "name": "stdout",
          "text": [
            "\n",
            "=== Eval: loss === 0.5724323391914368\n",
            "=== Eval: acc. === 0.627906976744186\n",
            "=== Eval: f1 === 0.5992427552060579\n",
            "\n",
            "\n"
          ]
        },
        {
          "output_type": "stream",
          "name": "stderr",
          "text": [
            "\n",
            "Iteration:  20%|██        | 1/5 [00:09<00:39,  9.88s/it]\u001b[A\n",
            "Iteration:  40%|████      | 2/5 [00:14<00:19,  6.54s/it]\u001b[A\n",
            "Iteration:  60%|██████    | 3/5 [00:18<00:10,  5.48s/it]\u001b[A\n",
            "Iteration:  80%|████████  | 4/5 [00:22<00:04,  4.98s/it]\u001b[A\n",
            "Iteration: 100%|██████████| 5/5 [00:22<00:00,  4.53s/it]\n",
            "Epoch:  30%|███       | 6/20 [01:53<04:31, 19.41s/it]\n",
            "Iteration:   0%|          | 0/5 [00:00<?, ?it/s]\u001b[A\n",
            "Iteration:  20%|██        | 1/5 [00:04<00:16,  4.19s/it]\u001b[A\n",
            "Iteration:  40%|████      | 2/5 [00:08<00:12,  4.18s/it]\u001b[A\n",
            "Iteration:  60%|██████    | 3/5 [00:12<00:08,  4.20s/it]\u001b[A\n",
            "Iteration:  80%|████████  | 4/5 [00:16<00:04,  4.19s/it]\u001b[A\n",
            "Iteration: 100%|██████████| 5/5 [00:16<00:00,  3.39s/it]\n",
            "Epoch:  35%|███▌      | 7/20 [02:10<04:01, 18.61s/it]\n",
            "Iteration:   0%|          | 0/5 [00:00<?, ?it/s]\u001b[A\n",
            "Iteration:  20%|██        | 1/5 [00:04<00:16,  4.20s/it]\u001b[A\n",
            "Iteration:  40%|████      | 2/5 [00:08<00:12,  4.20s/it]\u001b[A\n",
            "Iteration:  60%|██████    | 3/5 [00:12<00:08,  4.19s/it]\u001b[A\n",
            "Iteration:  80%|████████  | 4/5 [00:16<00:04,  4.20s/it]\u001b[A\n",
            "Iteration: 100%|██████████| 5/5 [00:16<00:00,  3.39s/it]\n",
            "Epoch:  40%|████      | 8/20 [02:27<03:37, 18.09s/it]\n",
            "Iteration:   0%|          | 0/5 [00:00<?, ?it/s]\u001b[A\n",
            "Iteration:  20%|██        | 1/5 [00:04<00:16,  4.19s/it]\u001b[A\n",
            "Iteration:  40%|████      | 2/5 [00:08<00:12,  4.19s/it]\u001b[A\n",
            "Iteration:  60%|██████    | 3/5 [00:12<00:08,  4.19s/it]\u001b[A\n",
            "Iteration:  80%|████████  | 4/5 [00:16<00:04,  4.20s/it]\u001b[A\n",
            "Iteration: 100%|██████████| 5/5 [00:16<00:00,  3.39s/it]\n",
            "Epoch:  45%|████▌     | 9/20 [02:44<03:15, 17.74s/it]\n",
            "Iteration:   0%|          | 0/5 [00:00<?, ?it/s]\u001b[A\n",
            "Iteration:  20%|██        | 1/5 [00:04<00:16,  4.18s/it]\u001b[A\n",
            "Iteration:  40%|████      | 2/5 [00:08<00:12,  4.19s/it]\u001b[A\n",
            "Iteration:  60%|██████    | 3/5 [00:12<00:08,  4.19s/it]\u001b[A\n",
            "Iteration:  80%|████████  | 4/5 [00:16<00:04,  4.20s/it]\u001b[A\n",
            "Iteration: 100%|██████████| 5/5 [00:16<00:00,  3.39s/it]\n",
            "Epoch:  50%|█████     | 10/20 [03:01<02:55, 17.51s/it]\n",
            "Iteration:   0%|          | 0/5 [00:00<?, ?it/s]\u001b[A"
          ]
        },
        {
          "output_type": "stream",
          "name": "stdout",
          "text": [
            "\n",
            "Epoch 10 Evaluation\n"
          ]
        },
        {
          "output_type": "stream",
          "name": "stderr",
          "text": [
            "\n",
            "\n",
            "Eval:   0%|          | 0/1 [00:00<?, ?it/s]\u001b[A\u001b[A\n",
            "\n",
            "Eval: 100%|██████████| 1/1 [00:05<00:00,  5.64s/it]\n",
            "/usr/local/lib/python3.7/dist-packages/transformers/data/metrics/__init__.py:36: FutureWarning: This metric will be removed from the library soon, metrics should be handled with the 🤗 Datasets library. You can have a look at this example script for pointers: https://github.com/huggingface/transformers/blob/master/examples/pytorch/text-classification/run_glue.py\n",
            "  warnings.warn(DEPRECATION_WARNING, FutureWarning)\n"
          ]
        },
        {
          "output_type": "stream",
          "name": "stdout",
          "text": [
            "\n",
            "=== Eval: loss === 0.3366178572177887\n",
            "=== Eval: acc. === 0.8604651162790697\n",
            "=== Eval: f1 === 0.860446247464503\n",
            "\n",
            "\n"
          ]
        },
        {
          "output_type": "stream",
          "name": "stderr",
          "text": [
            "\n",
            "Iteration:  20%|██        | 1/5 [00:09<00:39,  9.87s/it]\u001b[A\n",
            "Iteration:  40%|████      | 2/5 [00:14<00:19,  6.54s/it]\u001b[A\n",
            "Iteration:  60%|██████    | 3/5 [00:18<00:10,  5.46s/it]\u001b[A\n",
            "Iteration:  80%|████████  | 4/5 [00:22<00:04,  4.98s/it]\u001b[A\n",
            "Iteration: 100%|██████████| 5/5 [00:22<00:00,  4.53s/it]\n",
            "Epoch:  55%|█████▌    | 11/20 [03:24<02:51, 19.09s/it]\n",
            "Iteration:   0%|          | 0/5 [00:00<?, ?it/s]\u001b[A\n",
            "Iteration:  20%|██        | 1/5 [00:04<00:16,  4.17s/it]\u001b[A\n",
            "Iteration:  40%|████      | 2/5 [00:08<00:12,  4.19s/it]\u001b[A\n",
            "Iteration:  60%|██████    | 3/5 [00:12<00:08,  4.20s/it]\u001b[A\n",
            "Iteration:  80%|████████  | 4/5 [00:16<00:04,  4.19s/it]\u001b[A\n",
            "Iteration: 100%|██████████| 5/5 [00:16<00:00,  3.38s/it]\n",
            "Epoch:  60%|██████    | 12/20 [03:41<02:27, 18.43s/it]\n",
            "Iteration:   0%|          | 0/5 [00:00<?, ?it/s]\u001b[A\n",
            "Iteration:  20%|██        | 1/5 [00:04<00:16,  4.17s/it]\u001b[A\n",
            "Iteration:  40%|████      | 2/5 [00:08<00:12,  4.17s/it]\u001b[A\n",
            "Iteration:  60%|██████    | 3/5 [00:12<00:08,  4.20s/it]\u001b[A\n",
            "Iteration:  80%|████████  | 4/5 [00:16<00:04,  4.19s/it]\u001b[A\n",
            "Iteration: 100%|██████████| 5/5 [00:16<00:00,  3.38s/it]\n",
            "Epoch:  65%|██████▌   | 13/20 [03:58<02:05, 17.98s/it]\n",
            "Iteration:   0%|          | 0/5 [00:00<?, ?it/s]\u001b[A\n",
            "Iteration:  20%|██        | 1/5 [00:04<00:16,  4.23s/it]\u001b[A\n",
            "Iteration:  40%|████      | 2/5 [00:08<00:12,  4.19s/it]\u001b[A\n",
            "Iteration:  60%|██████    | 3/5 [00:12<00:08,  4.21s/it]\u001b[A\n",
            "Iteration:  80%|████████  | 4/5 [00:16<00:04,  4.21s/it]\u001b[A\n",
            "Iteration: 100%|██████████| 5/5 [00:16<00:00,  3.40s/it]\n",
            "Epoch:  70%|███████   | 14/20 [04:15<01:46, 17.69s/it]\n",
            "Iteration:   0%|          | 0/5 [00:00<?, ?it/s]\u001b[A\n",
            "Iteration:  20%|██        | 1/5 [00:04<00:16,  4.18s/it]\u001b[A\n",
            "Iteration:  40%|████      | 2/5 [00:08<00:12,  4.18s/it]\u001b[A\n",
            "Iteration:  60%|██████    | 3/5 [00:12<00:08,  4.20s/it]\u001b[A\n",
            "Iteration:  80%|████████  | 4/5 [00:16<00:04,  4.20s/it]\u001b[A\n",
            "Iteration: 100%|██████████| 5/5 [00:16<00:00,  3.39s/it]\n",
            "Epoch:  75%|███████▌  | 15/20 [04:32<01:27, 17.46s/it]\n",
            "Iteration:   0%|          | 0/5 [00:00<?, ?it/s]\u001b[A\n",
            "Iteration:  20%|██        | 1/5 [00:04<00:16,  4.19s/it]\u001b[A\n",
            "Iteration:  40%|████      | 2/5 [00:08<00:12,  4.20s/it]\u001b[A\n",
            "Iteration:  60%|██████    | 3/5 [00:12<00:08,  4.21s/it]\u001b[A\n",
            "Iteration:  80%|████████  | 4/5 [00:16<00:04,  4.20s/it]\u001b[A\n",
            "Iteration: 100%|██████████| 5/5 [00:16<00:00,  3.40s/it]\n",
            "Epoch:  80%|████████  | 16/20 [04:49<01:09, 17.32s/it]\n",
            "Iteration:   0%|          | 0/5 [00:00<?, ?it/s]\u001b[A\n",
            "Iteration:  20%|██        | 1/5 [00:04<00:16,  4.17s/it]\u001b[A\n",
            "Iteration:  40%|████      | 2/5 [00:08<00:12,  4.20s/it]\u001b[A\n",
            "Iteration:  60%|██████    | 3/5 [00:12<00:08,  4.20s/it]\u001b[A\n",
            "Iteration:  80%|████████  | 4/5 [00:16<00:04,  4.21s/it]\u001b[A\n",
            "Iteration: 100%|██████████| 5/5 [00:16<00:00,  3.40s/it]\n",
            "Epoch:  85%|████████▌ | 17/20 [05:06<00:51, 17.23s/it]\n",
            "Iteration:   0%|          | 0/5 [00:00<?, ?it/s]\u001b[A\n",
            "Iteration:  20%|██        | 1/5 [00:04<00:16,  4.19s/it]\u001b[A\n",
            "Iteration:  40%|████      | 2/5 [00:08<00:12,  4.20s/it]\u001b[A\n",
            "Iteration:  60%|██████    | 3/5 [00:12<00:08,  4.18s/it]\u001b[A\n",
            "Iteration:  80%|████████  | 4/5 [00:16<00:04,  4.20s/it]\u001b[A\n",
            "Iteration: 100%|██████████| 5/5 [00:16<00:00,  3.39s/it]\n",
            "Epoch:  90%|█████████ | 18/20 [05:23<00:34, 17.15s/it]\n",
            "Iteration:   0%|          | 0/5 [00:00<?, ?it/s]\u001b[A\n",
            "Iteration:  20%|██        | 1/5 [00:04<00:16,  4.18s/it]\u001b[A\n",
            "Iteration:  40%|████      | 2/5 [00:08<00:12,  4.20s/it]\u001b[A\n",
            "Iteration:  60%|██████    | 3/5 [00:12<00:08,  4.20s/it]\u001b[A\n",
            "Iteration:  80%|████████  | 4/5 [00:16<00:04,  4.20s/it]\u001b[A\n",
            "Iteration: 100%|██████████| 5/5 [00:16<00:00,  3.39s/it]\n",
            "Epoch:  95%|█████████▌| 19/20 [05:40<00:17, 17.10s/it]\n",
            "Iteration:   0%|          | 0/5 [00:00<?, ?it/s]\u001b[A\n",
            "Iteration:  20%|██        | 1/5 [00:04<00:16,  4.17s/it]\u001b[A\n",
            "Iteration:  40%|████      | 2/5 [00:08<00:12,  4.19s/it]\u001b[A\n",
            "Iteration:  60%|██████    | 3/5 [00:12<00:08,  4.20s/it]\u001b[A\n",
            "Iteration:  80%|████████  | 4/5 [00:16<00:04,  4.18s/it]\u001b[A\n",
            "Iteration: 100%|██████████| 5/5 [00:16<00:00,  3.38s/it]\n",
            "Epoch: 100%|██████████| 20/20 [05:57<00:00, 17.86s/it]\n"
          ]
        },
        {
          "output_type": "stream",
          "name": "stdout",
          "text": [
            "\n",
            "Final Evaluation\n"
          ]
        },
        {
          "output_type": "stream",
          "name": "stderr",
          "text": [
            "Eval: 100%|██████████| 1/1 [00:05<00:00,  5.63s/it]\n",
            "/usr/local/lib/python3.7/dist-packages/transformers/data/metrics/__init__.py:36: FutureWarning: This metric will be removed from the library soon, metrics should be handled with the 🤗 Datasets library. You can have a look at this example script for pointers: https://github.com/huggingface/transformers/blob/master/examples/pytorch/text-classification/run_glue.py\n",
            "  warnings.warn(DEPRECATION_WARNING, FutureWarning)\n"
          ]
        },
        {
          "output_type": "stream",
          "name": "stdout",
          "text": [
            "\n",
            "=== Eval: loss === 0.20552943646907806\n",
            "=== Eval: acc. === 0.9534883720930233\n",
            "=== Eval: f1 === 0.9534317043454718\n",
            "\n",
            "\n",
            "Training Done\n",
            "\n",
            "Storing the results\n",
            "swap, 1.1621438264846802, 0.5348837209302325, 0.34848484848484845, 0.5724323391914368, 0.627906976744186, 0.5992427552060579, 0.3366178572177887, 0.8604651162790697, 0.860446247464503, 0.20552943646907806, 0.9534883720930233, 0.9534317043454718\n",
            "Done\n",
            "Problem: strmatch\n",
            "Algorithms: \n",
            "['z-algo', 'rk', 'kmp']\n",
            "Creation of the dataset for the problem\n",
            "['z-algo', 'rk', 'kmp']\n",
            "/content/drive/MyDrive/ProblemClassif/problems/strmatch/z-algo/train\n",
            "/content/drive/MyDrive/ProblemClassif/problems/strmatch/rk/train\n",
            "🔥🔥\n",
            "['z-algo', 'rk', 'kmp']\n",
            "/content/drive/MyDrive/ProblemClassif/problems/strmatch/z-algo/test\n",
            "/content/drive/MyDrive/ProblemClassif/problems/strmatch/rk/test\n",
            "🔥🔥\n",
            "Dataset done\n",
            "\n",
            "Loading CodeBERTa\n"
          ]
        },
        {
          "output_type": "stream",
          "name": "stderr",
          "text": [
            "Some weights of the model checkpoint at huggingface/CodeBERTa-small-v1 were not used when initializing RobertaForSequenceClassification: ['lm_head.bias', 'lm_head.layer_norm.weight', 'lm_head.dense.weight', 'lm_head.decoder.weight', 'roberta.pooler.dense.bias', 'lm_head.decoder.bias', 'lm_head.dense.bias', 'lm_head.layer_norm.bias', 'roberta.pooler.dense.weight']\n",
            "- This IS expected if you are initializing RobertaForSequenceClassification from the checkpoint of a model trained on another task or with another architecture (e.g. initializing a BertForSequenceClassification model from a BertForPreTraining model).\n",
            "- This IS NOT expected if you are initializing RobertaForSequenceClassification from the checkpoint of a model that you expect to be exactly identical (initializing a BertForSequenceClassification model from a BertForSequenceClassification model).\n",
            "Some weights of RobertaForSequenceClassification were not initialized from the model checkpoint at huggingface/CodeBERTa-small-v1 and are newly initialized: ['classifier.out_proj.bias', 'classifier.dense.bias', 'classifier.dense.weight', 'classifier.out_proj.weight']\n",
            "You should probably TRAIN this model on a down-stream task to be able to use it for predictions and inference.\n"
          ]
        },
        {
          "output_type": "stream",
          "name": "stdout",
          "text": [
            "num params: 83453187\n",
            "num trainable params: 592899\n",
            "\n",
            "Model loaded\n",
            "\n",
            "Training Loop\n"
          ]
        },
        {
          "output_type": "stream",
          "name": "stderr",
          "text": [
            "Epoch:   0%|          | 0/20 [00:00<?, ?it/s]\n",
            "Iteration:   0%|          | 0/3 [00:00<?, ?it/s]\u001b[A\n",
            "Iteration:  33%|███▎      | 1/3 [00:04<00:08,  4.50s/it]\u001b[A\n",
            "Iteration:  67%|██████▋   | 2/3 [00:08<00:04,  4.41s/it]\u001b[A\n",
            "Iteration: 100%|██████████| 3/3 [00:12<00:00,  4.11s/it]\n",
            "Epoch:   5%|▌         | 1/20 [00:12<03:54, 12.34s/it]\n",
            "Iteration:   0%|          | 0/3 [00:00<?, ?it/s]\u001b[A"
          ]
        },
        {
          "output_type": "stream",
          "name": "stdout",
          "text": [
            "\n",
            "Epoch 1 Evaluation\n"
          ]
        },
        {
          "output_type": "stream",
          "name": "stderr",
          "text": [
            "\n",
            "\n",
            "Eval:   0%|          | 0/1 [00:00<?, ?it/s]\u001b[A\u001b[A\n",
            "\n",
            "Eval: 100%|██████████| 1/1 [00:03<00:00,  3.84s/it]\n",
            "/usr/local/lib/python3.7/dist-packages/transformers/data/metrics/__init__.py:36: FutureWarning: This metric will be removed from the library soon, metrics should be handled with the 🤗 Datasets library. You can have a look at this example script for pointers: https://github.com/huggingface/transformers/blob/master/examples/pytorch/text-classification/run_glue.py\n",
            "  warnings.warn(DEPRECATION_WARNING, FutureWarning)\n"
          ]
        },
        {
          "output_type": "stream",
          "name": "stdout",
          "text": [
            "\n",
            "=== Eval: loss === 0.5537731051445007\n",
            "=== Eval: acc. === 0.5042016806722689\n",
            "=== Eval: f1 === 0.3756336149399733\n",
            "\n",
            "\n"
          ]
        },
        {
          "output_type": "stream",
          "name": "stderr",
          "text": [
            "\n",
            "Iteration:  33%|███▎      | 1/3 [00:08<00:16,  8.01s/it]\u001b[A\n",
            "Iteration:  67%|██████▋   | 2/3 [00:12<00:05,  5.74s/it]\u001b[A\n",
            "Iteration: 100%|██████████| 3/3 [00:15<00:00,  5.16s/it]\n",
            "Epoch:  10%|█         | 2/20 [00:27<04:15, 14.20s/it]\n",
            "Iteration:   0%|          | 0/3 [00:00<?, ?it/s]\u001b[A\n",
            "Iteration:  33%|███▎      | 1/3 [00:04<00:08,  4.17s/it]\u001b[A\n",
            "Iteration:  67%|██████▋   | 2/3 [00:08<00:04,  4.18s/it]\u001b[A\n",
            "Iteration: 100%|██████████| 3/3 [00:11<00:00,  3.88s/it]\n",
            "Epoch:  15%|█▌        | 3/20 [00:39<03:41, 13.04s/it]\n",
            "Iteration:   0%|          | 0/3 [00:00<?, ?it/s]\u001b[A\n",
            "Iteration:  33%|███▎      | 1/3 [00:04<00:08,  4.14s/it]\u001b[A\n",
            "Iteration:  67%|██████▋   | 2/3 [00:08<00:04,  4.17s/it]\u001b[A\n",
            "Iteration: 100%|██████████| 3/3 [00:11<00:00,  3.88s/it]\n",
            "Epoch:  20%|██        | 4/20 [00:51<03:19, 12.50s/it]\n",
            "Iteration:   0%|          | 0/3 [00:00<?, ?it/s]\u001b[A\n",
            "Iteration:  33%|███▎      | 1/3 [00:04<00:08,  4.15s/it]\u001b[A\n",
            "Iteration:  67%|██████▋   | 2/3 [00:08<00:04,  4.19s/it]\u001b[A\n",
            "Iteration: 100%|██████████| 3/3 [00:11<00:00,  3.90s/it]\n",
            "Epoch:  25%|██▌       | 5/20 [01:02<03:03, 12.21s/it]\n",
            "Iteration:   0%|          | 0/3 [00:00<?, ?it/s]\u001b[A"
          ]
        },
        {
          "output_type": "stream",
          "name": "stdout",
          "text": [
            "\n",
            "Epoch 5 Evaluation\n"
          ]
        },
        {
          "output_type": "stream",
          "name": "stderr",
          "text": [
            "\n",
            "\n",
            "Eval:   0%|          | 0/1 [00:00<?, ?it/s]\u001b[A\u001b[A\n",
            "\n",
            "Eval: 100%|██████████| 1/1 [00:03<00:00,  3.92s/it]\n",
            "/usr/local/lib/python3.7/dist-packages/transformers/data/metrics/__init__.py:36: FutureWarning: This metric will be removed from the library soon, metrics should be handled with the 🤗 Datasets library. You can have a look at this example script for pointers: https://github.com/huggingface/transformers/blob/master/examples/pytorch/text-classification/run_glue.py\n",
            "  warnings.warn(DEPRECATION_WARNING, FutureWarning)\n"
          ]
        },
        {
          "output_type": "stream",
          "name": "stdout",
          "text": [
            "\n",
            "=== Eval: loss === 0.14628742635250092\n",
            "=== Eval: acc. === 0.9327731092436975\n",
            "=== Eval: f1 === 0.9325396825396826\n",
            "\n",
            "\n"
          ]
        },
        {
          "output_type": "stream",
          "name": "stderr",
          "text": [
            "\n",
            "Iteration:  33%|███▎      | 1/3 [00:08<00:16,  8.11s/it]\u001b[A\n",
            "Iteration:  67%|██████▋   | 2/3 [00:12<00:05,  5.82s/it]\u001b[A\n",
            "Iteration: 100%|██████████| 3/3 [00:15<00:00,  5.21s/it]\n",
            "Epoch:  30%|███       | 6/20 [01:18<03:07, 13.38s/it]\n",
            "Iteration:   0%|          | 0/3 [00:00<?, ?it/s]\u001b[A\n",
            "Iteration:  33%|███▎      | 1/3 [00:04<00:08,  4.17s/it]\u001b[A\n",
            "Iteration:  67%|██████▋   | 2/3 [00:08<00:04,  4.19s/it]\u001b[A\n",
            "Iteration: 100%|██████████| 3/3 [00:11<00:00,  3.89s/it]\n",
            "Epoch:  35%|███▌      | 7/20 [01:30<02:46, 12.82s/it]\n",
            "Iteration:   0%|          | 0/3 [00:00<?, ?it/s]\u001b[A\n",
            "Iteration:  33%|███▎      | 1/3 [00:04<00:08,  4.15s/it]\u001b[A\n",
            "Iteration:  67%|██████▋   | 2/3 [00:08<00:04,  4.19s/it]\u001b[A\n",
            "Iteration: 100%|██████████| 3/3 [00:11<00:00,  3.88s/it]\n",
            "Epoch:  40%|████      | 8/20 [01:41<02:29, 12.45s/it]\n",
            "Iteration:   0%|          | 0/3 [00:00<?, ?it/s]\u001b[A\n",
            "Iteration:  33%|███▎      | 1/3 [00:04<00:08,  4.17s/it]\u001b[A\n",
            "Iteration:  67%|██████▋   | 2/3 [00:08<00:04,  4.21s/it]\u001b[A\n",
            "Iteration: 100%|██████████| 3/3 [00:11<00:00,  3.90s/it]\n",
            "Epoch:  45%|████▌     | 9/20 [01:53<02:14, 12.22s/it]\n",
            "Iteration:   0%|          | 0/3 [00:00<?, ?it/s]\u001b[A\n",
            "Iteration:  33%|███▎      | 1/3 [00:04<00:08,  4.17s/it]\u001b[A\n",
            "Iteration:  67%|██████▋   | 2/3 [00:08<00:04,  4.18s/it]\u001b[A\n",
            "Iteration: 100%|██████████| 3/3 [00:11<00:00,  3.89s/it]\n",
            "Epoch:  50%|█████     | 10/20 [02:05<02:00, 12.06s/it]\n",
            "Iteration:   0%|          | 0/3 [00:00<?, ?it/s]\u001b[A"
          ]
        },
        {
          "output_type": "stream",
          "name": "stdout",
          "text": [
            "\n",
            "Epoch 10 Evaluation\n"
          ]
        },
        {
          "output_type": "stream",
          "name": "stderr",
          "text": [
            "\n",
            "\n",
            "Eval:   0%|          | 0/1 [00:00<?, ?it/s]\u001b[A\u001b[A\n",
            "\n",
            "Eval: 100%|██████████| 1/1 [00:03<00:00,  3.88s/it]\n",
            "/usr/local/lib/python3.7/dist-packages/transformers/data/metrics/__init__.py:36: FutureWarning: This metric will be removed from the library soon, metrics should be handled with the 🤗 Datasets library. You can have a look at this example script for pointers: https://github.com/huggingface/transformers/blob/master/examples/pytorch/text-classification/run_glue.py\n",
            "  warnings.warn(DEPRECATION_WARNING, FutureWarning)\n"
          ]
        },
        {
          "output_type": "stream",
          "name": "stdout",
          "text": [
            "\n",
            "=== Eval: loss === 0.0520644411444664\n",
            "=== Eval: acc. === 0.9915966386554622\n",
            "=== Eval: f1 === 0.9915871332626369\n",
            "\n",
            "\n"
          ]
        },
        {
          "output_type": "stream",
          "name": "stderr",
          "text": [
            "\n",
            "Iteration:  33%|███▎      | 1/3 [00:08<00:16,  8.09s/it]\u001b[A\n",
            "Iteration:  67%|██████▋   | 2/3 [00:12<00:05,  5.82s/it]\u001b[A\n",
            "Iteration: 100%|██████████| 3/3 [00:15<00:00,  5.21s/it]\n",
            "Epoch:  55%|█████▌    | 11/20 [02:20<01:58, 13.15s/it]\n",
            "Iteration:   0%|          | 0/3 [00:00<?, ?it/s]\u001b[A\n",
            "Iteration:  33%|███▎      | 1/3 [00:04<00:08,  4.20s/it]\u001b[A\n",
            "Iteration:  67%|██████▋   | 2/3 [00:08<00:04,  4.21s/it]\u001b[A\n",
            "Iteration: 100%|██████████| 3/3 [00:11<00:00,  3.90s/it]\n",
            "Epoch:  60%|██████    | 12/20 [02:32<01:41, 12.72s/it]\n",
            "Iteration:   0%|          | 0/3 [00:00<?, ?it/s]\u001b[A\n",
            "Iteration:  33%|███▎      | 1/3 [00:04<00:08,  4.19s/it]\u001b[A\n",
            "Iteration:  67%|██████▋   | 2/3 [00:08<00:04,  4.19s/it]\u001b[A\n",
            "Iteration: 100%|██████████| 3/3 [00:11<00:00,  3.90s/it]\n",
            "Epoch:  65%|██████▌   | 13/20 [02:44<01:26, 12.42s/it]\n",
            "Iteration:   0%|          | 0/3 [00:00<?, ?it/s]\u001b[A\n",
            "Iteration:  33%|███▎      | 1/3 [00:04<00:08,  4.21s/it]\u001b[A\n",
            "Iteration:  67%|██████▋   | 2/3 [00:08<00:04,  4.19s/it]\u001b[A\n",
            "Iteration: 100%|██████████| 3/3 [00:11<00:00,  3.91s/it]\n",
            "Epoch:  70%|███████   | 14/20 [02:56<01:13, 12.21s/it]\n",
            "Iteration:   0%|          | 0/3 [00:00<?, ?it/s]\u001b[A\n",
            "Iteration:  33%|███▎      | 1/3 [00:04<00:08,  4.17s/it]\u001b[A\n",
            "Iteration:  67%|██████▋   | 2/3 [00:08<00:04,  4.18s/it]\u001b[A\n",
            "Iteration: 100%|██████████| 3/3 [00:11<00:00,  3.89s/it]\n",
            "Epoch:  75%|███████▌  | 15/20 [03:07<01:00, 12.06s/it]\n",
            "Iteration:   0%|          | 0/3 [00:00<?, ?it/s]\u001b[A\n",
            "Iteration:  33%|███▎      | 1/3 [00:04<00:08,  4.20s/it]\u001b[A\n",
            "Iteration:  67%|██████▋   | 2/3 [00:08<00:04,  4.18s/it]\u001b[A\n",
            "Iteration: 100%|██████████| 3/3 [00:11<00:00,  3.90s/it]\n",
            "Epoch:  80%|████████  | 16/20 [03:19<00:47, 11.95s/it]\n",
            "Iteration:   0%|          | 0/3 [00:00<?, ?it/s]\u001b[A\n",
            "Iteration:  33%|███▎      | 1/3 [00:04<00:08,  4.20s/it]\u001b[A\n",
            "Iteration:  67%|██████▋   | 2/3 [00:08<00:04,  4.19s/it]\u001b[A\n",
            "Iteration: 100%|██████████| 3/3 [00:11<00:00,  3.94s/it]\n",
            "Epoch:  85%|████████▌ | 17/20 [03:31<00:35, 11.92s/it]\n",
            "Iteration:   0%|          | 0/3 [00:00<?, ?it/s]\u001b[A\n",
            "Iteration:  33%|███▎      | 1/3 [00:04<00:08,  4.35s/it]\u001b[A\n",
            "Iteration:  67%|██████▋   | 2/3 [00:08<00:04,  4.39s/it]\u001b[A\n",
            "Iteration: 100%|██████████| 3/3 [00:12<00:00,  4.08s/it]\n",
            "Epoch:  90%|█████████ | 18/20 [03:43<00:24, 12.02s/it]\n",
            "Iteration:   0%|          | 0/3 [00:00<?, ?it/s]\u001b[A\n",
            "Iteration:  33%|███▎      | 1/3 [00:04<00:08,  4.35s/it]\u001b[A\n",
            "Iteration:  67%|██████▋   | 2/3 [00:08<00:04,  4.38s/it]\u001b[A\n",
            "Iteration: 100%|██████████| 3/3 [00:12<00:00,  4.07s/it]\n",
            "Epoch:  95%|█████████▌| 19/20 [03:55<00:12, 12.08s/it]\n",
            "Iteration:   0%|          | 0/3 [00:00<?, ?it/s]\u001b[A\n",
            "Iteration:  33%|███▎      | 1/3 [00:04<00:08,  4.42s/it]\u001b[A\n",
            "Iteration:  67%|██████▋   | 2/3 [00:08<00:04,  4.39s/it]\u001b[A\n",
            "Iteration: 100%|██████████| 3/3 [00:12<00:00,  4.09s/it]\n",
            "Epoch: 100%|██████████| 20/20 [04:08<00:00, 12.40s/it]\n"
          ]
        },
        {
          "output_type": "stream",
          "name": "stdout",
          "text": [
            "\n",
            "Final Evaluation\n"
          ]
        },
        {
          "output_type": "stream",
          "name": "stderr",
          "text": [
            "Eval: 100%|██████████| 1/1 [00:03<00:00,  3.90s/it]\n",
            "/usr/local/lib/python3.7/dist-packages/transformers/data/metrics/__init__.py:36: FutureWarning: This metric will be removed from the library soon, metrics should be handled with the 🤗 Datasets library. You can have a look at this example script for pointers: https://github.com/huggingface/transformers/blob/master/examples/pytorch/text-classification/run_glue.py\n",
            "  warnings.warn(DEPRECATION_WARNING, FutureWarning)\n"
          ]
        },
        {
          "output_type": "stream",
          "name": "stdout",
          "text": [
            "\n",
            "=== Eval: loss === 0.010725561529397964\n",
            "=== Eval: acc. === 1.0\n",
            "=== Eval: f1 === 1.0\n",
            "\n",
            "\n",
            "Training Done\n",
            "\n",
            "Storing the results\n",
            "strmatch, 0.5537731051445007, 0.5042016806722689, 0.3756336149399733, 0.14628742635250092, 0.9327731092436975, 0.9325396825396826, 0.0520644411444664, 0.9915966386554622, 0.9915871332626369, 0.010725561529397964, 1.0, 1.0\n",
            "Done\n",
            "Problem: schi\n",
            "Algorithms: \n",
            "['treap', 'seg_tree', 'aib']\n",
            "Creation of the dataset for the problem\n",
            "['treap', 'seg_tree', 'aib']\n",
            "/content/drive/MyDrive/ProblemClassif/problems/schi/treap/train\n",
            "/content/drive/MyDrive/ProblemClassif/problems/schi/seg_tree/train\n",
            "🔥🔥\n",
            "['treap', 'seg_tree', 'aib']\n",
            "/content/drive/MyDrive/ProblemClassif/problems/schi/treap/test\n",
            "/content/drive/MyDrive/ProblemClassif/problems/schi/seg_tree/test\n",
            "🔥🔥\n",
            "Dataset done\n",
            "\n",
            "Loading CodeBERTa\n"
          ]
        },
        {
          "output_type": "stream",
          "name": "stderr",
          "text": [
            "Some weights of the model checkpoint at huggingface/CodeBERTa-small-v1 were not used when initializing RobertaForSequenceClassification: ['lm_head.bias', 'lm_head.layer_norm.weight', 'lm_head.dense.weight', 'lm_head.decoder.weight', 'roberta.pooler.dense.bias', 'lm_head.decoder.bias', 'lm_head.dense.bias', 'lm_head.layer_norm.bias', 'roberta.pooler.dense.weight']\n",
            "- This IS expected if you are initializing RobertaForSequenceClassification from the checkpoint of a model trained on another task or with another architecture (e.g. initializing a BertForSequenceClassification model from a BertForPreTraining model).\n",
            "- This IS NOT expected if you are initializing RobertaForSequenceClassification from the checkpoint of a model that you expect to be exactly identical (initializing a BertForSequenceClassification model from a BertForSequenceClassification model).\n",
            "Some weights of RobertaForSequenceClassification were not initialized from the model checkpoint at huggingface/CodeBERTa-small-v1 and are newly initialized: ['classifier.out_proj.bias', 'classifier.dense.bias', 'classifier.dense.weight', 'classifier.out_proj.weight']\n",
            "You should probably TRAIN this model on a down-stream task to be able to use it for predictions and inference.\n"
          ]
        },
        {
          "output_type": "stream",
          "name": "stdout",
          "text": [
            "num params: 83453187\n",
            "num trainable params: 592899\n",
            "\n",
            "Model loaded\n",
            "\n",
            "Training Loop\n"
          ]
        },
        {
          "output_type": "stream",
          "name": "stderr",
          "text": [
            "Epoch:   0%|          | 0/20 [00:00<?, ?it/s]\n",
            "Iteration:   0%|          | 0/2 [00:00<?, ?it/s]\u001b[A\n",
            "Iteration:  50%|█████     | 1/2 [00:04<00:04,  4.49s/it]\u001b[A\n",
            "Iteration: 100%|██████████| 2/2 [00:06<00:00,  3.30s/it]\n",
            "Epoch:   5%|▌         | 1/20 [00:06<02:05,  6.61s/it]\n",
            "Iteration:   0%|          | 0/2 [00:00<?, ?it/s]\u001b[A"
          ]
        },
        {
          "output_type": "stream",
          "name": "stdout",
          "text": [
            "\n",
            "Epoch 1 Evaluation\n"
          ]
        },
        {
          "output_type": "stream",
          "name": "stderr",
          "text": [
            "\n",
            "\n",
            "Eval:   0%|          | 0/1 [00:00<?, ?it/s]\u001b[A\u001b[A\n",
            "\n",
            "Eval: 100%|██████████| 1/1 [00:02<00:00,  2.02s/it]\n",
            "/usr/local/lib/python3.7/dist-packages/transformers/data/metrics/__init__.py:36: FutureWarning: This metric will be removed from the library soon, metrics should be handled with the 🤗 Datasets library. You can have a look at this example script for pointers: https://github.com/huggingface/transformers/blob/master/examples/pytorch/text-classification/run_glue.py\n",
            "  warnings.warn(DEPRECATION_WARNING, FutureWarning)\n"
          ]
        },
        {
          "output_type": "stream",
          "name": "stdout",
          "text": [
            "\n",
            "=== Eval: loss === 0.42566657066345215\n",
            "=== Eval: acc. === 1.0\n",
            "=== Eval: f1 === 1.0\n",
            "\n",
            "\n"
          ]
        },
        {
          "output_type": "stream",
          "name": "stderr",
          "text": [
            "\n",
            "Iteration:  50%|█████     | 1/2 [00:06<00:06,  6.23s/it]\u001b[A\n",
            "Iteration: 100%|██████████| 2/2 [00:08<00:00,  4.12s/it]\n",
            "Epoch:  10%|█         | 2/20 [00:14<02:16,  7.58s/it]\n",
            "Iteration:   0%|          | 0/2 [00:00<?, ?it/s]\u001b[A\n",
            "Iteration:  50%|█████     | 1/2 [00:04<00:04,  4.18s/it]\u001b[A\n",
            "Iteration: 100%|██████████| 2/2 [00:06<00:00,  3.09s/it]\n",
            "Epoch:  15%|█▌        | 3/20 [00:21<01:58,  6.94s/it]\n",
            "Iteration:   0%|          | 0/2 [00:00<?, ?it/s]\u001b[A\n",
            "Iteration:  50%|█████     | 1/2 [00:04<00:04,  4.17s/it]\u001b[A\n",
            "Iteration: 100%|██████████| 2/2 [00:06<00:00,  3.09s/it]\n",
            "Epoch:  20%|██        | 4/20 [00:27<01:46,  6.65s/it]\n",
            "Iteration:   0%|          | 0/2 [00:00<?, ?it/s]\u001b[A\n",
            "Iteration:  50%|█████     | 1/2 [00:04<00:04,  4.19s/it]\u001b[A\n",
            "Iteration: 100%|██████████| 2/2 [00:06<00:00,  3.10s/it]\n",
            "Epoch:  25%|██▌       | 5/20 [00:33<01:37,  6.50s/it]\n",
            "Iteration:   0%|          | 0/2 [00:00<?, ?it/s]\u001b[A"
          ]
        },
        {
          "output_type": "stream",
          "name": "stdout",
          "text": [
            "\n",
            "Epoch 5 Evaluation\n"
          ]
        },
        {
          "output_type": "stream",
          "name": "stderr",
          "text": [
            "\n",
            "\n",
            "Eval:   0%|          | 0/1 [00:00<?, ?it/s]\u001b[A\u001b[A\n",
            "\n",
            "Eval: 100%|██████████| 1/1 [00:02<00:00,  2.04s/it]\n",
            "/usr/local/lib/python3.7/dist-packages/transformers/data/metrics/__init__.py:36: FutureWarning: This metric will be removed from the library soon, metrics should be handled with the 🤗 Datasets library. You can have a look at this example script for pointers: https://github.com/huggingface/transformers/blob/master/examples/pytorch/text-classification/run_glue.py\n",
            "  warnings.warn(DEPRECATION_WARNING, FutureWarning)\n"
          ]
        },
        {
          "output_type": "stream",
          "name": "stdout",
          "text": [
            "\n",
            "=== Eval: loss === 0.09672615677118301\n",
            "=== Eval: acc. === 1.0\n",
            "=== Eval: f1 === 1.0\n",
            "\n",
            "\n"
          ]
        },
        {
          "output_type": "stream",
          "name": "stderr",
          "text": [
            "\n",
            "Iteration:  50%|█████     | 1/2 [00:06<00:06,  6.22s/it]\u001b[A\n",
            "Iteration: 100%|██████████| 2/2 [00:08<00:00,  4.12s/it]\n",
            "Epoch:  30%|███       | 6/20 [00:41<01:39,  7.10s/it]\n",
            "Iteration:   0%|          | 0/2 [00:00<?, ?it/s]\u001b[A\n",
            "Iteration:  50%|█████     | 1/2 [00:04<00:04,  4.16s/it]\u001b[A\n",
            "Iteration: 100%|██████████| 2/2 [00:06<00:00,  3.09s/it]\n",
            "Epoch:  35%|███▌      | 7/20 [00:47<01:28,  6.81s/it]\n",
            "Iteration:   0%|          | 0/2 [00:00<?, ?it/s]\u001b[A\n",
            "Iteration:  50%|█████     | 1/2 [00:04<00:04,  4.15s/it]\u001b[A\n",
            "Iteration: 100%|██████████| 2/2 [00:06<00:00,  3.08s/it]\n",
            "Epoch:  40%|████      | 8/20 [00:54<01:19,  6.61s/it]\n",
            "Iteration:   0%|          | 0/2 [00:00<?, ?it/s]\u001b[A\n",
            "Iteration:  50%|█████     | 1/2 [00:04<00:04,  4.16s/it]\u001b[A\n",
            "Iteration: 100%|██████████| 2/2 [00:06<00:00,  3.08s/it]\n",
            "Epoch:  45%|████▌     | 9/20 [01:00<01:11,  6.47s/it]\n",
            "Iteration:   0%|          | 0/2 [00:00<?, ?it/s]\u001b[A\n",
            "Iteration:  50%|█████     | 1/2 [00:04<00:04,  4.15s/it]\u001b[A\n",
            "Iteration: 100%|██████████| 2/2 [00:06<00:00,  3.08s/it]\n",
            "Epoch:  50%|█████     | 10/20 [01:06<01:03,  6.38s/it]\n",
            "Iteration:   0%|          | 0/2 [00:00<?, ?it/s]\u001b[A"
          ]
        },
        {
          "output_type": "stream",
          "name": "stdout",
          "text": [
            "\n",
            "Epoch 10 Evaluation\n"
          ]
        },
        {
          "output_type": "stream",
          "name": "stderr",
          "text": [
            "\n",
            "\n",
            "Eval:   0%|          | 0/1 [00:00<?, ?it/s]\u001b[A\u001b[A\n",
            "\n",
            "Eval: 100%|██████████| 1/1 [00:02<00:00,  2.02s/it]\n",
            "/usr/local/lib/python3.7/dist-packages/transformers/data/metrics/__init__.py:36: FutureWarning: This metric will be removed from the library soon, metrics should be handled with the 🤗 Datasets library. You can have a look at this example script for pointers: https://github.com/huggingface/transformers/blob/master/examples/pytorch/text-classification/run_glue.py\n",
            "  warnings.warn(DEPRECATION_WARNING, FutureWarning)\n"
          ]
        },
        {
          "output_type": "stream",
          "name": "stdout",
          "text": [
            "\n",
            "=== Eval: loss === 0.018414009362459183\n",
            "=== Eval: acc. === 1.0\n",
            "=== Eval: f1 === 1.0\n",
            "\n",
            "\n"
          ]
        },
        {
          "output_type": "stream",
          "name": "stderr",
          "text": [
            "\n",
            "Iteration:  50%|█████     | 1/2 [00:06<00:06,  6.18s/it]\u001b[A\n",
            "Iteration: 100%|██████████| 2/2 [00:08<00:00,  4.09s/it]\n",
            "Epoch:  55%|█████▌    | 11/20 [01:14<01:02,  6.94s/it]\n",
            "Iteration:   0%|          | 0/2 [00:00<?, ?it/s]\u001b[A\n",
            "Iteration:  50%|█████     | 1/2 [00:04<00:04,  4.17s/it]\u001b[A\n",
            "Iteration: 100%|██████████| 2/2 [00:06<00:00,  3.09s/it]\n",
            "Epoch:  60%|██████    | 12/20 [01:20<00:53,  6.71s/it]\n",
            "Iteration:   0%|          | 0/2 [00:00<?, ?it/s]\u001b[A\n",
            "Iteration:  50%|█████     | 1/2 [00:04<00:04,  4.16s/it]\u001b[A\n",
            "Iteration: 100%|██████████| 2/2 [00:06<00:00,  3.09s/it]\n",
            "Epoch:  65%|██████▌   | 13/20 [01:27<00:45,  6.56s/it]\n",
            "Iteration:   0%|          | 0/2 [00:00<?, ?it/s]\u001b[A\n",
            "Iteration:  50%|█████     | 1/2 [00:04<00:04,  4.16s/it]\u001b[A\n",
            "Iteration: 100%|██████████| 2/2 [00:06<00:00,  3.09s/it]\n",
            "Epoch:  70%|███████   | 14/20 [01:33<00:38,  6.45s/it]\n",
            "Iteration:   0%|          | 0/2 [00:00<?, ?it/s]\u001b[A\n",
            "Iteration:  50%|█████     | 1/2 [00:04<00:04,  4.16s/it]\u001b[A\n",
            "Iteration: 100%|██████████| 2/2 [00:06<00:00,  3.08s/it]\n",
            "Epoch:  75%|███████▌  | 15/20 [01:39<00:31,  6.37s/it]\n",
            "Iteration:   0%|          | 0/2 [00:00<?, ?it/s]\u001b[A\n",
            "Iteration:  50%|█████     | 1/2 [00:04<00:04,  4.18s/it]\u001b[A\n",
            "Iteration: 100%|██████████| 2/2 [00:06<00:00,  3.11s/it]\n",
            "Epoch:  80%|████████  | 16/20 [01:45<00:25,  6.33s/it]\n",
            "Iteration:   0%|          | 0/2 [00:00<?, ?it/s]\u001b[A\n",
            "Iteration:  50%|█████     | 1/2 [00:04<00:04,  4.15s/it]\u001b[A\n",
            "Iteration: 100%|██████████| 2/2 [00:06<00:00,  3.09s/it]\n",
            "Epoch:  85%|████████▌ | 17/20 [01:51<00:18,  6.29s/it]\n",
            "Iteration:   0%|          | 0/2 [00:00<?, ?it/s]\u001b[A\n",
            "Iteration:  50%|█████     | 1/2 [00:04<00:04,  4.18s/it]\u001b[A\n",
            "Iteration: 100%|██████████| 2/2 [00:06<00:00,  3.10s/it]\n",
            "Epoch:  90%|█████████ | 18/20 [01:58<00:12,  6.26s/it]\n",
            "Iteration:   0%|          | 0/2 [00:00<?, ?it/s]\u001b[A\n",
            "Iteration:  50%|█████     | 1/2 [00:04<00:04,  4.17s/it]\u001b[A\n",
            "Iteration: 100%|██████████| 2/2 [00:06<00:00,  3.09s/it]\n",
            "Epoch:  95%|█████████▌| 19/20 [02:04<00:06,  6.24s/it]\n",
            "Iteration:   0%|          | 0/2 [00:00<?, ?it/s]\u001b[A\n",
            "Iteration:  50%|█████     | 1/2 [00:04<00:04,  4.16s/it]\u001b[A\n",
            "Iteration: 100%|██████████| 2/2 [00:06<00:00,  3.09s/it]\n",
            "Epoch: 100%|██████████| 20/20 [02:10<00:00,  6.52s/it]\n"
          ]
        },
        {
          "output_type": "stream",
          "name": "stdout",
          "text": [
            "\n",
            "Final Evaluation\n"
          ]
        },
        {
          "output_type": "stream",
          "name": "stderr",
          "text": [
            "Eval: 100%|██████████| 1/1 [00:02<00:00,  2.03s/it]\n",
            "/usr/local/lib/python3.7/dist-packages/transformers/data/metrics/__init__.py:36: FutureWarning: This metric will be removed from the library soon, metrics should be handled with the 🤗 Datasets library. You can have a look at this example script for pointers: https://github.com/huggingface/transformers/blob/master/examples/pytorch/text-classification/run_glue.py\n",
            "  warnings.warn(DEPRECATION_WARNING, FutureWarning)\n"
          ]
        },
        {
          "output_type": "stream",
          "name": "stdout",
          "text": [
            "\n",
            "=== Eval: loss === 0.002474737586453557\n",
            "=== Eval: acc. === 1.0\n",
            "=== Eval: f1 === 1.0\n",
            "\n",
            "\n",
            "Training Done\n",
            "\n",
            "Storing the results\n",
            "schi, 0.42566657066345215, 1.0, 1.0, 0.09672615677118301, 1.0, 1.0, 0.018414009362459183, 1.0, 1.0, 0.002474737586453557, 1.0, 1.0\n",
            "Done\n",
            "Problem: cmmdc\n",
            "Algorithms: \n",
            "['bruteforce', 'Euclid-impartiri', 'Euclid-scaderi', 'BUILT_IN']\n",
            "Creation of the dataset for the problem\n",
            "['bruteforce', 'Euclid-impartiri', 'Euclid-scaderi', 'BUILT_IN']\n",
            "/content/drive/MyDrive/ProblemClassif/problems/cmmdc/bruteforce/train\n",
            "/content/drive/MyDrive/ProblemClassif/problems/cmmdc/Euclid-impartiri/train\n",
            "🔥🔥\n",
            "['bruteforce', 'Euclid-impartiri', 'Euclid-scaderi', 'BUILT_IN']\n",
            "/content/drive/MyDrive/ProblemClassif/problems/cmmdc/bruteforce/test\n",
            "/content/drive/MyDrive/ProblemClassif/problems/cmmdc/Euclid-impartiri/test\n",
            "🔥🔥\n",
            "Dataset done\n",
            "\n",
            "Loading CodeBERTa\n"
          ]
        },
        {
          "output_type": "stream",
          "name": "stderr",
          "text": [
            "Some weights of the model checkpoint at huggingface/CodeBERTa-small-v1 were not used when initializing RobertaForSequenceClassification: ['lm_head.bias', 'lm_head.layer_norm.weight', 'lm_head.dense.weight', 'lm_head.decoder.weight', 'roberta.pooler.dense.bias', 'lm_head.decoder.bias', 'lm_head.dense.bias', 'lm_head.layer_norm.bias', 'roberta.pooler.dense.weight']\n",
            "- This IS expected if you are initializing RobertaForSequenceClassification from the checkpoint of a model trained on another task or with another architecture (e.g. initializing a BertForSequenceClassification model from a BertForPreTraining model).\n",
            "- This IS NOT expected if you are initializing RobertaForSequenceClassification from the checkpoint of a model that you expect to be exactly identical (initializing a BertForSequenceClassification model from a BertForSequenceClassification model).\n",
            "Some weights of RobertaForSequenceClassification were not initialized from the model checkpoint at huggingface/CodeBERTa-small-v1 and are newly initialized: ['classifier.out_proj.bias', 'classifier.dense.bias', 'classifier.dense.weight', 'classifier.out_proj.weight']\n",
            "You should probably TRAIN this model on a down-stream task to be able to use it for predictions and inference.\n"
          ]
        },
        {
          "output_type": "stream",
          "name": "stdout",
          "text": [
            "num params: 83453956\n",
            "num trainable params: 593668\n",
            "\n",
            "Model loaded\n",
            "\n",
            "Training Loop\n"
          ]
        },
        {
          "output_type": "stream",
          "name": "stderr",
          "text": [
            "Epoch:   0%|          | 0/20 [00:00<?, ?it/s]\n",
            "Iteration:   0%|          | 0/3 [00:00<?, ?it/s]\u001b[A\n",
            "Iteration:  33%|███▎      | 1/3 [00:03<00:07,  3.82s/it]\u001b[A\n",
            "Iteration:  67%|██████▋   | 2/3 [00:07<00:03,  3.73s/it]\u001b[A\n",
            "Iteration: 100%|██████████| 3/3 [00:09<00:00,  3.21s/it]\n",
            "Epoch:   5%|▌         | 1/20 [00:09<03:03,  9.66s/it]\n",
            "Iteration:   0%|          | 0/3 [00:00<?, ?it/s]\u001b[A"
          ]
        },
        {
          "output_type": "stream",
          "name": "stdout",
          "text": [
            "\n",
            "Epoch 1 Evaluation\n"
          ]
        },
        {
          "output_type": "stream",
          "name": "stderr",
          "text": [
            "\n",
            "\n",
            "Eval:   0%|          | 0/1 [00:00<?, ?it/s]\u001b[A\u001b[A\n",
            "\n",
            "Eval: 100%|██████████| 1/1 [00:02<00:00,  2.92s/it]\n",
            "/usr/local/lib/python3.7/dist-packages/transformers/data/metrics/__init__.py:36: FutureWarning: This metric will be removed from the library soon, metrics should be handled with the 🤗 Datasets library. You can have a look at this example script for pointers: https://github.com/huggingface/transformers/blob/master/examples/pytorch/text-classification/run_glue.py\n",
            "  warnings.warn(DEPRECATION_WARNING, FutureWarning)\n"
          ]
        },
        {
          "output_type": "stream",
          "name": "stdout",
          "text": [
            "\n",
            "=== Eval: loss === 0.8707412481307983\n",
            "=== Eval: acc. === 0.3644859813084112\n",
            "=== Eval: f1 === 0.2671232876712329\n",
            "\n",
            "\n"
          ]
        },
        {
          "output_type": "stream",
          "name": "stderr",
          "text": [
            "\n",
            "Iteration:  33%|███▎      | 1/3 [00:06<00:12,  6.42s/it]\u001b[A\n",
            "Iteration:  67%|██████▋   | 2/3 [00:09<00:04,  4.70s/it]\u001b[A\n",
            "Iteration: 100%|██████████| 3/3 [00:11<00:00,  3.76s/it]\n",
            "Epoch:  10%|█         | 2/20 [00:20<03:11, 10.62s/it]\n",
            "Iteration:   0%|          | 0/3 [00:00<?, ?it/s]\u001b[A\n",
            "Iteration:  33%|███▎      | 1/3 [00:03<00:06,  3.48s/it]\u001b[A\n",
            "Iteration:  67%|██████▋   | 2/3 [00:06<00:03,  3.49s/it]\u001b[A\n",
            "Iteration: 100%|██████████| 3/3 [00:09<00:00,  3.01s/it]\n",
            "Epoch:  15%|█▌        | 3/20 [00:30<02:48,  9.90s/it]\n",
            "Iteration:   0%|          | 0/3 [00:00<?, ?it/s]\u001b[A\n",
            "Iteration:  33%|███▎      | 1/3 [00:03<00:06,  3.48s/it]\u001b[A\n",
            "Iteration:  67%|██████▋   | 2/3 [00:06<00:03,  3.49s/it]\u001b[A\n",
            "Iteration: 100%|██████████| 3/3 [00:09<00:00,  3.01s/it]\n",
            "Epoch:  20%|██        | 4/20 [00:39<02:33,  9.57s/it]\n",
            "Iteration:   0%|          | 0/3 [00:00<?, ?it/s]\u001b[A\n",
            "Iteration:  33%|███▎      | 1/3 [00:03<00:07,  3.50s/it]\u001b[A\n",
            "Iteration:  67%|██████▋   | 2/3 [00:07<00:03,  3.51s/it]\u001b[A\n",
            "Iteration: 100%|██████████| 3/3 [00:09<00:00,  3.02s/it]\n",
            "Epoch:  25%|██▌       | 5/20 [00:48<02:20,  9.39s/it]\n",
            "Iteration:   0%|          | 0/3 [00:00<?, ?it/s]\u001b[A"
          ]
        },
        {
          "output_type": "stream",
          "name": "stdout",
          "text": [
            "\n",
            "Epoch 5 Evaluation\n"
          ]
        },
        {
          "output_type": "stream",
          "name": "stderr",
          "text": [
            "\n",
            "\n",
            "Eval:   0%|          | 0/1 [00:00<?, ?it/s]\u001b[A\u001b[A\n",
            "\n",
            "Eval: 100%|██████████| 1/1 [00:02<00:00,  2.93s/it]\n",
            "/usr/local/lib/python3.7/dist-packages/transformers/data/metrics/__init__.py:36: FutureWarning: This metric will be removed from the library soon, metrics should be handled with the 🤗 Datasets library. You can have a look at this example script for pointers: https://github.com/huggingface/transformers/blob/master/examples/pytorch/text-classification/run_glue.py\n",
            "  warnings.warn(DEPRECATION_WARNING, FutureWarning)\n"
          ]
        },
        {
          "output_type": "stream",
          "name": "stdout",
          "text": [
            "\n",
            "=== Eval: loss === 0.48171383142471313\n",
            "=== Eval: acc. === 0.7289719626168224\n",
            "=== Eval: f1 === 0.6162028447742733\n",
            "\n",
            "\n"
          ]
        },
        {
          "output_type": "stream",
          "name": "stderr",
          "text": [
            "\n",
            "Iteration:  33%|███▎      | 1/3 [00:06<00:12,  6.44s/it]\u001b[A\n",
            "Iteration:  67%|██████▋   | 2/3 [00:09<00:04,  4.72s/it]\u001b[A\n",
            "Iteration: 100%|██████████| 3/3 [00:12<00:00,  4.00s/it]\n",
            "Epoch:  30%|███       | 6/20 [01:00<02:24, 10.29s/it]\n",
            "Iteration:   0%|          | 0/3 [00:00<?, ?it/s]\u001b[A\n",
            "Iteration:  33%|███▎      | 1/3 [00:03<00:07,  3.50s/it]\u001b[A\n",
            "Iteration:  67%|██████▋   | 2/3 [00:07<00:03,  3.51s/it]\u001b[A\n",
            "Iteration: 100%|██████████| 3/3 [00:09<00:00,  3.03s/it]\n",
            "Epoch:  35%|███▌      | 7/20 [01:09<02:08,  9.90s/it]\n",
            "Iteration:   0%|          | 0/3 [00:00<?, ?it/s]\u001b[A\n",
            "Iteration:  33%|███▎      | 1/3 [00:03<00:06,  3.50s/it]\u001b[A\n",
            "Iteration:  67%|██████▋   | 2/3 [00:06<00:03,  3.50s/it]\u001b[A\n",
            "Iteration: 100%|██████████| 3/3 [00:09<00:00,  3.01s/it]\n",
            "Epoch:  40%|████      | 8/20 [01:18<01:55,  9.63s/it]\n",
            "Iteration:   0%|          | 0/3 [00:00<?, ?it/s]\u001b[A\n",
            "Iteration:  33%|███▎      | 1/3 [00:03<00:06,  3.44s/it]\u001b[A\n",
            "Iteration:  67%|██████▋   | 2/3 [00:06<00:03,  3.50s/it]\u001b[A\n",
            "Iteration: 100%|██████████| 3/3 [00:09<00:00,  3.01s/it]\n",
            "Epoch:  45%|████▌     | 9/20 [01:27<01:43,  9.45s/it]\n",
            "Iteration:   0%|          | 0/3 [00:00<?, ?it/s]\u001b[A\n",
            "Iteration:  33%|███▎      | 1/3 [00:03<00:07,  3.52s/it]\u001b[A\n",
            "Iteration:  67%|██████▋   | 2/3 [00:07<00:03,  3.54s/it]\u001b[A\n",
            "Iteration: 100%|██████████| 3/3 [00:09<00:00,  3.06s/it]\n",
            "Epoch:  50%|█████     | 10/20 [01:36<01:33,  9.37s/it]\n",
            "Iteration:   0%|          | 0/3 [00:00<?, ?it/s]\u001b[A"
          ]
        },
        {
          "output_type": "stream",
          "name": "stdout",
          "text": [
            "\n",
            "Epoch 10 Evaluation\n"
          ]
        },
        {
          "output_type": "stream",
          "name": "stderr",
          "text": [
            "\n",
            "\n",
            "Eval:   0%|          | 0/1 [00:00<?, ?it/s]\u001b[A\u001b[A\n",
            "\n",
            "Eval: 100%|██████████| 1/1 [00:02<00:00,  2.97s/it]\n",
            "/usr/local/lib/python3.7/dist-packages/transformers/data/metrics/__init__.py:36: FutureWarning: This metric will be removed from the library soon, metrics should be handled with the 🤗 Datasets library. You can have a look at this example script for pointers: https://github.com/huggingface/transformers/blob/master/examples/pytorch/text-classification/run_glue.py\n",
            "  warnings.warn(DEPRECATION_WARNING, FutureWarning)\n"
          ]
        },
        {
          "output_type": "stream",
          "name": "stdout",
          "text": [
            "\n",
            "=== Eval: loss === 0.3132498562335968\n",
            "=== Eval: acc. === 0.897196261682243\n",
            "=== Eval: f1 === 0.8840736728060672\n",
            "\n",
            "\n"
          ]
        },
        {
          "output_type": "stream",
          "name": "stderr",
          "text": [
            "\n",
            "Iteration:  33%|███▎      | 1/3 [00:06<00:13,  6.52s/it]\u001b[A\n",
            "Iteration:  67%|██████▋   | 2/3 [00:10<00:04,  4.78s/it]\u001b[A\n",
            "Iteration: 100%|██████████| 3/3 [00:12<00:00,  4.05s/it]\n",
            "Epoch:  55%|█████▌    | 11/20 [01:48<01:32, 10.22s/it]\n",
            "Iteration:   0%|          | 0/3 [00:00<?, ?it/s]\u001b[A\n",
            "Iteration:  33%|███▎      | 1/3 [00:03<00:07,  3.53s/it]\u001b[A\n",
            "Iteration:  67%|██████▋   | 2/3 [00:07<00:03,  3.52s/it]\u001b[A\n",
            "Iteration: 100%|██████████| 3/3 [00:09<00:00,  3.05s/it]\n",
            "Epoch:  60%|██████    | 12/20 [01:57<01:19,  9.90s/it]\n",
            "Iteration:   0%|          | 0/3 [00:00<?, ?it/s]\u001b[A\n",
            "Iteration:  33%|███▎      | 1/3 [00:03<00:07,  3.52s/it]\u001b[A\n",
            "Iteration:  67%|██████▋   | 2/3 [00:07<00:03,  3.53s/it]\u001b[A\n",
            "Iteration: 100%|██████████| 3/3 [00:08<00:00,  2.89s/it]\n",
            "Epoch:  65%|██████▌   | 13/20 [02:06<01:06,  9.54s/it]\n",
            "Iteration:   0%|          | 0/3 [00:00<?, ?it/s]\u001b[A\n",
            "Iteration:  33%|███▎      | 1/3 [00:03<00:07,  3.54s/it]\u001b[A\n",
            "Iteration:  67%|██████▋   | 2/3 [00:07<00:03,  3.54s/it]\u001b[A\n",
            "Iteration: 100%|██████████| 3/3 [00:09<00:00,  3.06s/it]\n",
            "Epoch:  70%|███████   | 14/20 [02:15<00:56,  9.43s/it]\n",
            "Iteration:   0%|          | 0/3 [00:00<?, ?it/s]\u001b[A\n",
            "Iteration:  33%|███▎      | 1/3 [00:03<00:07,  3.52s/it]\u001b[A\n",
            "Iteration:  67%|██████▋   | 2/3 [00:07<00:03,  3.54s/it]\u001b[A\n",
            "Iteration: 100%|██████████| 3/3 [00:09<00:00,  3.05s/it]\n",
            "Epoch:  75%|███████▌  | 15/20 [02:24<00:46,  9.35s/it]\n",
            "Iteration:   0%|          | 0/3 [00:00<?, ?it/s]\u001b[A\n",
            "Iteration:  33%|███▎      | 1/3 [00:03<00:07,  3.53s/it]\u001b[A\n",
            "Iteration:  67%|██████▋   | 2/3 [00:07<00:03,  3.54s/it]\u001b[A\n",
            "Iteration: 100%|██████████| 3/3 [00:09<00:00,  3.05s/it]\n",
            "Epoch:  80%|████████  | 16/20 [02:34<00:37,  9.30s/it]\n",
            "Iteration:   0%|          | 0/3 [00:00<?, ?it/s]\u001b[A\n",
            "Iteration:  33%|███▎      | 1/3 [00:03<00:07,  3.54s/it]\u001b[A\n",
            "Iteration:  67%|██████▋   | 2/3 [00:07<00:03,  3.53s/it]\u001b[A\n",
            "Iteration: 100%|██████████| 3/3 [00:09<00:00,  3.09s/it]\n",
            "Epoch:  85%|████████▌ | 17/20 [02:43<00:27,  9.29s/it]\n",
            "Iteration:   0%|          | 0/3 [00:00<?, ?it/s]\u001b[A\n",
            "Iteration:  33%|███▎      | 1/3 [00:03<00:07,  3.72s/it]\u001b[A\n",
            "Iteration:  67%|██████▋   | 2/3 [00:07<00:03,  3.73s/it]\u001b[A\n",
            "Iteration: 100%|██████████| 3/3 [00:09<00:00,  3.22s/it]\n",
            "Epoch:  90%|█████████ | 18/20 [02:53<00:18,  9.40s/it]\n",
            "Iteration:   0%|          | 0/3 [00:00<?, ?it/s]\u001b[A\n",
            "Iteration:  33%|███▎      | 1/3 [00:03<00:07,  3.70s/it]\u001b[A\n",
            "Iteration:  67%|██████▋   | 2/3 [00:07<00:03,  3.72s/it]\u001b[A\n",
            "Iteration: 100%|██████████| 3/3 [00:09<00:00,  3.21s/it]\n",
            "Epoch:  95%|█████████▌| 19/20 [03:02<00:09,  9.48s/it]\n",
            "Iteration:   0%|          | 0/3 [00:00<?, ?it/s]\u001b[A\n",
            "Iteration:  33%|███▎      | 1/3 [00:03<00:07,  3.73s/it]\u001b[A\n",
            "Iteration:  67%|██████▋   | 2/3 [00:07<00:03,  3.73s/it]\u001b[A\n",
            "Iteration: 100%|██████████| 3/3 [00:09<00:00,  3.22s/it]\n",
            "Epoch: 100%|██████████| 20/20 [03:12<00:00,  9.62s/it]\n"
          ]
        },
        {
          "output_type": "stream",
          "name": "stdout",
          "text": [
            "\n",
            "Final Evaluation\n"
          ]
        },
        {
          "output_type": "stream",
          "name": "stderr",
          "text": [
            "Eval: 100%|██████████| 1/1 [00:02<00:00,  2.93s/it]\n",
            "/usr/local/lib/python3.7/dist-packages/transformers/data/metrics/__init__.py:36: FutureWarning: This metric will be removed from the library soon, metrics should be handled with the 🤗 Datasets library. You can have a look at this example script for pointers: https://github.com/huggingface/transformers/blob/master/examples/pytorch/text-classification/run_glue.py\n",
            "  warnings.warn(DEPRECATION_WARNING, FutureWarning)\n"
          ]
        },
        {
          "output_type": "stream",
          "name": "stdout",
          "text": [
            "\n",
            "=== Eval: loss === 0.13611477613449097\n",
            "=== Eval: acc. === 0.9439252336448598\n",
            "=== Eval: f1 === 0.9380308880308881\n",
            "\n",
            "\n",
            "Training Done\n",
            "\n",
            "Storing the results\n",
            "cmmdc, 0.8707412481307983, 0.3644859813084112, 0.2671232876712329, 0.48171383142471313, 0.7289719626168224, 0.6162028447742733, 0.3132498562335968, 0.897196261682243, 0.8840736728060672, 0.13611477613449097, 0.9439252336448598, 0.9380308880308881\n",
            "Done\n",
            "Problem: stramosi\n",
            "Algorithms: \n",
            "['dp_log', 'lant']\n",
            "Creation of the dataset for the problem\n",
            "['dp_log', 'lant']\n",
            "/content/drive/MyDrive/ProblemClassif/problems/stramosi/dp_log/train\n",
            "/content/drive/MyDrive/ProblemClassif/problems/stramosi/lant/train\n",
            "🔥🔥\n",
            "['dp_log', 'lant']\n",
            "/content/drive/MyDrive/ProblemClassif/problems/stramosi/dp_log/test\n",
            "/content/drive/MyDrive/ProblemClassif/problems/stramosi/lant/test\n",
            "🔥🔥\n",
            "Dataset done\n",
            "\n",
            "Loading CodeBERTa\n"
          ]
        },
        {
          "output_type": "stream",
          "name": "stderr",
          "text": [
            "Some weights of the model checkpoint at huggingface/CodeBERTa-small-v1 were not used when initializing RobertaForSequenceClassification: ['lm_head.bias', 'lm_head.layer_norm.weight', 'lm_head.dense.weight', 'lm_head.decoder.weight', 'roberta.pooler.dense.bias', 'lm_head.decoder.bias', 'lm_head.dense.bias', 'lm_head.layer_norm.bias', 'roberta.pooler.dense.weight']\n",
            "- This IS expected if you are initializing RobertaForSequenceClassification from the checkpoint of a model trained on another task or with another architecture (e.g. initializing a BertForSequenceClassification model from a BertForPreTraining model).\n",
            "- This IS NOT expected if you are initializing RobertaForSequenceClassification from the checkpoint of a model that you expect to be exactly identical (initializing a BertForSequenceClassification model from a BertForSequenceClassification model).\n",
            "Some weights of RobertaForSequenceClassification were not initialized from the model checkpoint at huggingface/CodeBERTa-small-v1 and are newly initialized: ['classifier.out_proj.bias', 'classifier.dense.bias', 'classifier.dense.weight', 'classifier.out_proj.weight']\n",
            "You should probably TRAIN this model on a down-stream task to be able to use it for predictions and inference.\n"
          ]
        },
        {
          "output_type": "stream",
          "name": "stdout",
          "text": [
            "num params: 83452418\n",
            "num trainable params: 592130\n",
            "\n",
            "Model loaded\n",
            "\n",
            "Training Loop\n"
          ]
        },
        {
          "output_type": "stream",
          "name": "stderr",
          "text": [
            "Epoch:   0%|          | 0/20 [00:00<?, ?it/s]\n",
            "Iteration:   0%|          | 0/3 [00:00<?, ?it/s]\u001b[A\n",
            "Iteration:  33%|███▎      | 1/3 [00:04<00:08,  4.48s/it]\u001b[A\n",
            "Iteration:  67%|██████▋   | 2/3 [00:08<00:04,  4.40s/it]\u001b[A\n",
            "Iteration: 100%|██████████| 3/3 [00:11<00:00,  3.95s/it]\n",
            "Epoch:   5%|▌         | 1/20 [00:11<03:45, 11.87s/it]\n",
            "Iteration:   0%|          | 0/3 [00:00<?, ?it/s]\u001b[A"
          ]
        },
        {
          "output_type": "stream",
          "name": "stdout",
          "text": [
            "\n",
            "Epoch 1 Evaluation\n"
          ]
        },
        {
          "output_type": "stream",
          "name": "stderr",
          "text": [
            "\n",
            "\n",
            "Eval:   0%|          | 0/1 [00:00<?, ?it/s]\u001b[A\u001b[A\n",
            "\n",
            "Eval: 100%|██████████| 1/1 [00:03<00:00,  3.74s/it]\n",
            "/usr/local/lib/python3.7/dist-packages/transformers/data/metrics/__init__.py:36: FutureWarning: This metric will be removed from the library soon, metrics should be handled with the 🤗 Datasets library. You can have a look at this example script for pointers: https://github.com/huggingface/transformers/blob/master/examples/pytorch/text-classification/run_glue.py\n",
            "  warnings.warn(DEPRECATION_WARNING, FutureWarning)\n"
          ]
        },
        {
          "output_type": "stream",
          "name": "stdout",
          "text": [
            "\n",
            "=== Eval: loss === 0.594099760055542\n",
            "=== Eval: acc. === 0.7241379310344828\n",
            "=== Eval: f1 === 0.7043644472762026\n",
            "\n",
            "\n"
          ]
        },
        {
          "output_type": "stream",
          "name": "stderr",
          "text": [
            "\n",
            "Iteration:  33%|███▎      | 1/3 [00:07<00:15,  7.90s/it]\u001b[A\n",
            "Iteration:  67%|██████▋   | 2/3 [00:12<00:05,  5.69s/it]\u001b[A\n",
            "Iteration: 100%|██████████| 3/3 [00:14<00:00,  4.96s/it]\n",
            "Epoch:  10%|█         | 2/20 [00:26<04:05, 13.66s/it]\n",
            "Iteration:   0%|          | 0/3 [00:00<?, ?it/s]\u001b[A\n",
            "Iteration:  33%|███▎      | 1/3 [00:04<00:08,  4.15s/it]\u001b[A\n",
            "Iteration:  67%|██████▋   | 2/3 [00:08<00:04,  4.17s/it]\u001b[A\n",
            "Iteration: 100%|██████████| 3/3 [00:11<00:00,  3.73s/it]\n",
            "Epoch:  15%|█▌        | 3/20 [00:38<03:33, 12.55s/it]\n",
            "Iteration:   0%|          | 0/3 [00:00<?, ?it/s]\u001b[A\n",
            "Iteration:  33%|███▎      | 1/3 [00:04<00:08,  4.17s/it]\u001b[A\n",
            "Iteration:  67%|██████▋   | 2/3 [00:08<00:04,  4.16s/it]\u001b[A\n",
            "Iteration: 100%|██████████| 3/3 [00:11<00:00,  3.74s/it]\n",
            "Epoch:  20%|██        | 4/20 [00:49<03:12, 12.03s/it]\n",
            "Iteration:   0%|          | 0/3 [00:00<?, ?it/s]\u001b[A\n",
            "Iteration:  33%|███▎      | 1/3 [00:04<00:08,  4.14s/it]\u001b[A\n",
            "Iteration:  67%|██████▋   | 2/3 [00:08<00:04,  4.18s/it]\u001b[A\n",
            "Iteration: 100%|██████████| 3/3 [00:11<00:00,  3.73s/it]\n",
            "Epoch:  25%|██▌       | 5/20 [01:00<02:56, 11.74s/it]\n",
            "Iteration:   0%|          | 0/3 [00:00<?, ?it/s]\u001b[A"
          ]
        },
        {
          "output_type": "stream",
          "name": "stdout",
          "text": [
            "\n",
            "Epoch 5 Evaluation\n"
          ]
        },
        {
          "output_type": "stream",
          "name": "stderr",
          "text": [
            "\n",
            "\n",
            "Eval:   0%|          | 0/1 [00:00<?, ?it/s]\u001b[A\u001b[A\n",
            "\n",
            "Eval: 100%|██████████| 1/1 [00:03<00:00,  3.80s/it]\n",
            "/usr/local/lib/python3.7/dist-packages/transformers/data/metrics/__init__.py:36: FutureWarning: This metric will be removed from the library soon, metrics should be handled with the 🤗 Datasets library. You can have a look at this example script for pointers: https://github.com/huggingface/transformers/blob/master/examples/pytorch/text-classification/run_glue.py\n",
            "  warnings.warn(DEPRECATION_WARNING, FutureWarning)\n"
          ]
        },
        {
          "output_type": "stream",
          "name": "stdout",
          "text": [
            "\n",
            "=== Eval: loss === 0.3123962879180908\n",
            "=== Eval: acc. === 0.8448275862068966\n",
            "=== Eval: f1 === 0.8446428571428573\n",
            "\n",
            "\n"
          ]
        },
        {
          "output_type": "stream",
          "name": "stderr",
          "text": [
            "\n",
            "Iteration:  33%|███▎      | 1/3 [00:07<00:15,  7.99s/it]\u001b[A\n",
            "Iteration:  67%|██████▋   | 2/3 [00:12<00:05,  5.74s/it]\u001b[A\n",
            "Iteration: 100%|██████████| 3/3 [00:15<00:00,  5.01s/it]\n",
            "Epoch:  30%|███       | 6/20 [01:15<03:00, 12.86s/it]\n",
            "Iteration:   0%|          | 0/3 [00:00<?, ?it/s]\u001b[A\n",
            "Iteration:  33%|███▎      | 1/3 [00:04<00:08,  4.16s/it]\u001b[A\n",
            "Iteration:  67%|██████▋   | 2/3 [00:08<00:04,  4.16s/it]\u001b[A\n",
            "Iteration: 100%|██████████| 3/3 [00:11<00:00,  3.74s/it]\n",
            "Epoch:  35%|███▌      | 7/20 [01:26<02:40, 12.33s/it]\n",
            "Iteration:   0%|          | 0/3 [00:00<?, ?it/s]\u001b[A\n",
            "Iteration:  33%|███▎      | 1/3 [00:04<00:08,  4.17s/it]\u001b[A\n",
            "Iteration:  67%|██████▋   | 2/3 [00:08<00:04,  4.17s/it]\u001b[A\n",
            "Iteration: 100%|██████████| 3/3 [00:11<00:00,  3.75s/it]\n",
            "Epoch:  40%|████      | 8/20 [01:37<02:23, 11.99s/it]\n",
            "Iteration:   0%|          | 0/3 [00:00<?, ?it/s]\u001b[A\n",
            "Iteration:  33%|███▎      | 1/3 [00:04<00:08,  4.18s/it]\u001b[A\n",
            "Iteration:  67%|██████▋   | 2/3 [00:08<00:04,  4.17s/it]\u001b[A\n",
            "Iteration: 100%|██████████| 3/3 [00:11<00:00,  3.74s/it]\n",
            "Epoch:  45%|████▌     | 9/20 [01:49<02:09, 11.75s/it]\n",
            "Iteration:   0%|          | 0/3 [00:00<?, ?it/s]\u001b[A\n",
            "Iteration:  33%|███▎      | 1/3 [00:04<00:08,  4.16s/it]\u001b[A\n",
            "Iteration:  67%|██████▋   | 2/3 [00:08<00:04,  4.18s/it]\u001b[A\n",
            "Iteration: 100%|██████████| 3/3 [00:11<00:00,  3.74s/it]\n",
            "Epoch:  50%|█████     | 10/20 [02:00<01:55, 11.59s/it]\n",
            "Iteration:   0%|          | 0/3 [00:00<?, ?it/s]\u001b[A"
          ]
        },
        {
          "output_type": "stream",
          "name": "stdout",
          "text": [
            "\n",
            "Epoch 10 Evaluation\n"
          ]
        },
        {
          "output_type": "stream",
          "name": "stderr",
          "text": [
            "\n",
            "\n",
            "Eval:   0%|          | 0/1 [00:00<?, ?it/s]\u001b[A\u001b[A\n",
            "\n",
            "Eval: 100%|██████████| 1/1 [00:03<00:00,  3.76s/it]\n",
            "/usr/local/lib/python3.7/dist-packages/transformers/data/metrics/__init__.py:36: FutureWarning: This metric will be removed from the library soon, metrics should be handled with the 🤗 Datasets library. You can have a look at this example script for pointers: https://github.com/huggingface/transformers/blob/master/examples/pytorch/text-classification/run_glue.py\n",
            "  warnings.warn(DEPRECATION_WARNING, FutureWarning)\n"
          ]
        },
        {
          "output_type": "stream",
          "name": "stdout",
          "text": [
            "\n",
            "=== Eval: loss === 0.18184667825698853\n",
            "=== Eval: acc. === 0.9310344827586207\n",
            "=== Eval: f1 === 0.9305181191973644\n",
            "\n",
            "\n"
          ]
        },
        {
          "output_type": "stream",
          "name": "stderr",
          "text": [
            "\n",
            "Iteration:  33%|███▎      | 1/3 [00:07<00:15,  7.96s/it]\u001b[A\n",
            "Iteration:  67%|██████▋   | 2/3 [00:12<00:05,  5.75s/it]\u001b[A\n",
            "Iteration: 100%|██████████| 3/3 [00:15<00:00,  5.02s/it]\n",
            "Epoch:  55%|█████▌    | 11/20 [02:15<01:53, 12.66s/it]\n",
            "Iteration:   0%|          | 0/3 [00:00<?, ?it/s]\u001b[A\n",
            "Iteration:  33%|███▎      | 1/3 [00:04<00:08,  4.16s/it]\u001b[A\n",
            "Iteration:  67%|██████▋   | 2/3 [00:08<00:04,  4.15s/it]\u001b[A\n",
            "Iteration: 100%|██████████| 3/3 [00:11<00:00,  3.74s/it]\n",
            "Epoch:  60%|██████    | 12/20 [02:26<01:37, 12.22s/it]\n",
            "Iteration:   0%|          | 0/3 [00:00<?, ?it/s]\u001b[A\n",
            "Iteration:  33%|███▎      | 1/3 [00:04<00:08,  4.18s/it]\u001b[A\n",
            "Iteration:  67%|██████▋   | 2/3 [00:08<00:04,  4.18s/it]\u001b[A\n",
            "Iteration: 100%|██████████| 3/3 [00:11<00:00,  3.74s/it]\n",
            "Epoch:  65%|██████▌   | 13/20 [02:37<01:23, 11.92s/it]\n",
            "Iteration:   0%|          | 0/3 [00:00<?, ?it/s]\u001b[A\n",
            "Iteration:  33%|███▎      | 1/3 [00:04<00:08,  4.18s/it]\u001b[A\n",
            "Iteration:  67%|██████▋   | 2/3 [00:08<00:04,  4.18s/it]\u001b[A\n",
            "Iteration: 100%|██████████| 3/3 [00:11<00:00,  3.75s/it]\n",
            "Epoch:  70%|███████   | 14/20 [02:49<01:10, 11.73s/it]\n",
            "Iteration:   0%|          | 0/3 [00:00<?, ?it/s]\u001b[A\n",
            "Iteration:  33%|███▎      | 1/3 [00:04<00:08,  4.16s/it]\u001b[A\n",
            "Iteration:  67%|██████▋   | 2/3 [00:08<00:04,  4.16s/it]\u001b[A\n",
            "Iteration: 100%|██████████| 3/3 [00:11<00:00,  3.74s/it]\n",
            "Epoch:  75%|███████▌  | 15/20 [03:00<00:57, 11.58s/it]\n",
            "Iteration:   0%|          | 0/3 [00:00<?, ?it/s]\u001b[A\n",
            "Iteration:  33%|███▎      | 1/3 [00:04<00:08,  4.21s/it]\u001b[A\n",
            "Iteration:  67%|██████▋   | 2/3 [00:08<00:04,  4.20s/it]\u001b[A\n",
            "Iteration: 100%|██████████| 3/3 [00:11<00:00,  3.76s/it]\n",
            "Epoch:  80%|████████  | 16/20 [03:11<00:45, 11.50s/it]\n",
            "Iteration:   0%|          | 0/3 [00:00<?, ?it/s]\u001b[A\n",
            "Iteration:  33%|███▎      | 1/3 [00:04<00:08,  4.14s/it]\u001b[A\n",
            "Iteration:  67%|██████▋   | 2/3 [00:08<00:04,  4.19s/it]\u001b[A\n",
            "Iteration: 100%|██████████| 3/3 [00:11<00:00,  3.79s/it]\n",
            "Epoch:  85%|████████▌ | 17/20 [03:23<00:34, 11.46s/it]\n",
            "Iteration:   0%|          | 0/3 [00:00<?, ?it/s]\u001b[A\n",
            "Iteration:  33%|███▎      | 1/3 [00:04<00:08,  4.37s/it]\u001b[A\n",
            "Iteration:  67%|██████▋   | 2/3 [00:08<00:04,  4.39s/it]\u001b[A\n",
            "Iteration: 100%|██████████| 3/3 [00:11<00:00,  3.92s/it]\n",
            "Epoch:  90%|█████████ | 18/20 [03:34<00:23, 11.56s/it]\n",
            "Iteration:   0%|          | 0/3 [00:00<?, ?it/s]\u001b[A\n",
            "Iteration:  33%|███▎      | 1/3 [00:04<00:08,  4.40s/it]\u001b[A\n",
            "Iteration:  67%|██████▋   | 2/3 [00:08<00:04,  4.43s/it]\u001b[A\n",
            "Iteration: 100%|██████████| 3/3 [00:11<00:00,  3.95s/it]\n",
            "Epoch:  95%|█████████▌| 19/20 [03:46<00:11, 11.65s/it]\n",
            "Iteration:   0%|          | 0/3 [00:00<?, ?it/s]\u001b[A\n",
            "Iteration:  33%|███▎      | 1/3 [00:04<00:08,  4.34s/it]\u001b[A\n",
            "Iteration:  67%|██████▋   | 2/3 [00:08<00:04,  4.39s/it]\u001b[A\n",
            "Iteration: 100%|██████████| 3/3 [00:11<00:00,  3.94s/it]\n",
            "Epoch: 100%|██████████| 20/20 [03:58<00:00, 11.93s/it]\n"
          ]
        },
        {
          "output_type": "stream",
          "name": "stdout",
          "text": [
            "\n",
            "Final Evaluation\n"
          ]
        },
        {
          "output_type": "stream",
          "name": "stderr",
          "text": [
            "Eval: 100%|██████████| 1/1 [00:03<00:00,  3.78s/it]\n",
            "/usr/local/lib/python3.7/dist-packages/transformers/data/metrics/__init__.py:36: FutureWarning: This metric will be removed from the library soon, metrics should be handled with the 🤗 Datasets library. You can have a look at this example script for pointers: https://github.com/huggingface/transformers/blob/master/examples/pytorch/text-classification/run_glue.py\n",
            "  warnings.warn(DEPRECATION_WARNING, FutureWarning)\n"
          ]
        },
        {
          "output_type": "stream",
          "name": "stdout",
          "text": [
            "\n",
            "=== Eval: loss === 0.08591359108686447\n",
            "=== Eval: acc. === 0.9827586206896551\n",
            "=== Eval: f1 === 0.9827380952380953\n",
            "\n",
            "\n",
            "Training Done\n",
            "\n",
            "Storing the results\n",
            "stramosi, 0.594099760055542, 0.7241379310344828, 0.7043644472762026, 0.3123962879180908, 0.8448275862068966, 0.8446428571428573, 0.18184667825698853, 0.9310344827586207, 0.9305181191973644, 0.08591359108686447, 0.9827586206896551, 0.9827380952380953\n",
            "Done\n",
            "Problem: party\n",
            "Algorithms: \n",
            "['tarjan', 'kosaraju', 'topsort']\n",
            "Creation of the dataset for the problem\n",
            "['tarjan', 'kosaraju', 'topsort']\n",
            "/content/drive/MyDrive/ProblemClassif/problems/party/tarjan/train\n",
            "/content/drive/MyDrive/ProblemClassif/problems/party/kosaraju/train\n",
            "🔥🔥\n",
            "['tarjan', 'kosaraju', 'topsort']\n",
            "/content/drive/MyDrive/ProblemClassif/problems/party/tarjan/test\n",
            "/content/drive/MyDrive/ProblemClassif/problems/party/kosaraju/test\n",
            "🔥🔥\n",
            "Dataset done\n",
            "\n",
            "Loading CodeBERTa\n"
          ]
        },
        {
          "output_type": "stream",
          "name": "stderr",
          "text": [
            "Some weights of the model checkpoint at huggingface/CodeBERTa-small-v1 were not used when initializing RobertaForSequenceClassification: ['lm_head.bias', 'lm_head.layer_norm.weight', 'lm_head.dense.weight', 'lm_head.decoder.weight', 'roberta.pooler.dense.bias', 'lm_head.decoder.bias', 'lm_head.dense.bias', 'lm_head.layer_norm.bias', 'roberta.pooler.dense.weight']\n",
            "- This IS expected if you are initializing RobertaForSequenceClassification from the checkpoint of a model trained on another task or with another architecture (e.g. initializing a BertForSequenceClassification model from a BertForPreTraining model).\n",
            "- This IS NOT expected if you are initializing RobertaForSequenceClassification from the checkpoint of a model that you expect to be exactly identical (initializing a BertForSequenceClassification model from a BertForSequenceClassification model).\n",
            "Some weights of RobertaForSequenceClassification were not initialized from the model checkpoint at huggingface/CodeBERTa-small-v1 and are newly initialized: ['classifier.out_proj.bias', 'classifier.dense.bias', 'classifier.dense.weight', 'classifier.out_proj.weight']\n",
            "You should probably TRAIN this model on a down-stream task to be able to use it for predictions and inference.\n"
          ]
        },
        {
          "output_type": "stream",
          "name": "stdout",
          "text": [
            "num params: 83453187\n",
            "num trainable params: 592899\n",
            "\n",
            "Model loaded\n",
            "\n",
            "Training Loop\n"
          ]
        },
        {
          "output_type": "stream",
          "name": "stderr",
          "text": [
            "Epoch:   0%|          | 0/20 [00:00<?, ?it/s]\n",
            "Iteration:   0%|          | 0/3 [00:00<?, ?it/s]\u001b[A\n",
            "Iteration:  33%|███▎      | 1/3 [00:04<00:08,  4.48s/it]\u001b[A\n",
            "Iteration:  67%|██████▋   | 2/3 [00:08<00:04,  4.40s/it]\u001b[A\n",
            "Iteration: 100%|██████████| 3/3 [00:11<00:00,  3.77s/it]\n",
            "Epoch:   5%|▌         | 1/20 [00:11<03:35, 11.33s/it]\n",
            "Iteration:   0%|          | 0/3 [00:00<?, ?it/s]\u001b[A"
          ]
        },
        {
          "output_type": "stream",
          "name": "stdout",
          "text": [
            "\n",
            "Epoch 1 Evaluation\n"
          ]
        },
        {
          "output_type": "stream",
          "name": "stderr",
          "text": [
            "\n",
            "\n",
            "Eval:   0%|          | 0/1 [00:00<?, ?it/s]\u001b[A\u001b[A\n",
            "\n",
            "Eval: 100%|██████████| 1/1 [00:03<00:00,  3.48s/it]\n",
            "/usr/local/lib/python3.7/dist-packages/transformers/data/metrics/__init__.py:36: FutureWarning: This metric will be removed from the library soon, metrics should be handled with the 🤗 Datasets library. You can have a look at this example script for pointers: https://github.com/huggingface/transformers/blob/master/examples/pytorch/text-classification/run_glue.py\n",
            "  warnings.warn(DEPRECATION_WARNING, FutureWarning)\n"
          ]
        },
        {
          "output_type": "stream",
          "name": "stdout",
          "text": [
            "\n",
            "=== Eval: loss === 0.5889514684677124\n",
            "=== Eval: acc. === 0.7009345794392523\n",
            "=== Eval: f1 === 0.6805970149253732\n",
            "\n",
            "\n"
          ]
        },
        {
          "output_type": "stream",
          "name": "stderr",
          "text": [
            "\n",
            "Iteration:  33%|███▎      | 1/3 [00:07<00:15,  7.64s/it]\u001b[A\n",
            "Iteration:  67%|██████▋   | 2/3 [00:11<00:05,  5.61s/it]\u001b[A\n",
            "Iteration: 100%|██████████| 3/3 [00:14<00:00,  4.73s/it]\n",
            "Epoch:  10%|█         | 2/20 [00:25<03:54, 13.02s/it]\n",
            "Iteration:   0%|          | 0/3 [00:00<?, ?it/s]\u001b[A\n",
            "Iteration:  33%|███▎      | 1/3 [00:04<00:08,  4.17s/it]\u001b[A\n",
            "Iteration:  67%|██████▋   | 2/3 [00:08<00:04,  4.16s/it]\u001b[A\n",
            "Iteration: 100%|██████████| 3/3 [00:10<00:00,  3.57s/it]\n",
            "Epoch:  15%|█▌        | 3/20 [00:36<03:23, 11.98s/it]\n",
            "Iteration:   0%|          | 0/3 [00:00<?, ?it/s]\u001b[A\n",
            "Iteration:  33%|███▎      | 1/3 [00:04<00:08,  4.17s/it]\u001b[A\n",
            "Iteration:  67%|██████▋   | 2/3 [00:08<00:04,  4.18s/it]\u001b[A\n",
            "Iteration: 100%|██████████| 3/3 [00:10<00:00,  3.59s/it]\n",
            "Epoch:  20%|██        | 4/20 [00:47<03:04, 11.51s/it]\n",
            "Iteration:   0%|          | 0/3 [00:00<?, ?it/s]\u001b[A\n",
            "Iteration:  33%|███▎      | 1/3 [00:04<00:08,  4.19s/it]\u001b[A\n",
            "Iteration:  67%|██████▋   | 2/3 [00:08<00:04,  4.21s/it]\u001b[A\n",
            "Iteration: 100%|██████████| 3/3 [00:10<00:00,  3.60s/it]\n",
            "Epoch:  25%|██▌       | 5/20 [00:57<02:48, 11.26s/it]\n",
            "Iteration:   0%|          | 0/3 [00:00<?, ?it/s]\u001b[A"
          ]
        },
        {
          "output_type": "stream",
          "name": "stdout",
          "text": [
            "\n",
            "Epoch 5 Evaluation\n"
          ]
        },
        {
          "output_type": "stream",
          "name": "stderr",
          "text": [
            "\n",
            "\n",
            "Eval:   0%|          | 0/1 [00:00<?, ?it/s]\u001b[A\u001b[A\n",
            "\n",
            "Eval: 100%|██████████| 1/1 [00:03<00:00,  3.50s/it]\n",
            "/usr/local/lib/python3.7/dist-packages/transformers/data/metrics/__init__.py:36: FutureWarning: This metric will be removed from the library soon, metrics should be handled with the 🤗 Datasets library. You can have a look at this example script for pointers: https://github.com/huggingface/transformers/blob/master/examples/pytorch/text-classification/run_glue.py\n",
            "  warnings.warn(DEPRECATION_WARNING, FutureWarning)\n"
          ]
        },
        {
          "output_type": "stream",
          "name": "stdout",
          "text": [
            "\n",
            "=== Eval: loss === 0.4441766142845154\n",
            "=== Eval: acc. === 0.794392523364486\n",
            "=== Eval: f1 === 0.7942307692307693\n",
            "\n",
            "\n"
          ]
        },
        {
          "output_type": "stream",
          "name": "stderr",
          "text": [
            "\n",
            "Iteration:  33%|███▎      | 1/3 [00:07<00:15,  7.68s/it]\u001b[A\n",
            "Iteration:  67%|██████▋   | 2/3 [00:11<00:05,  5.61s/it]\u001b[A\n",
            "Iteration: 100%|██████████| 3/3 [00:14<00:00,  4.75s/it]\n",
            "Epoch:  30%|███       | 6/20 [01:12<02:52, 12.29s/it]\n",
            "Iteration:   0%|          | 0/3 [00:00<?, ?it/s]\u001b[A\n",
            "Iteration:  33%|███▎      | 1/3 [00:04<00:08,  4.21s/it]\u001b[A\n",
            "Iteration:  67%|██████▋   | 2/3 [00:08<00:04,  4.19s/it]\u001b[A\n",
            "Iteration: 100%|██████████| 3/3 [00:10<00:00,  3.60s/it]\n",
            "Epoch:  35%|███▌      | 7/20 [01:22<02:33, 11.81s/it]\n",
            "Iteration:   0%|          | 0/3 [00:00<?, ?it/s]\u001b[A\n",
            "Iteration:  33%|███▎      | 1/3 [00:04<00:08,  4.22s/it]\u001b[A\n",
            "Iteration:  67%|██████▋   | 2/3 [00:08<00:04,  4.19s/it]\u001b[A\n",
            "Iteration: 100%|██████████| 3/3 [00:10<00:00,  3.60s/it]\n",
            "Epoch:  40%|████      | 8/20 [01:33<02:17, 11.49s/it]\n",
            "Iteration:   0%|          | 0/3 [00:00<?, ?it/s]\u001b[A\n",
            "Iteration:  33%|███▎      | 1/3 [00:04<00:08,  4.21s/it]\u001b[A\n",
            "Iteration:  67%|██████▋   | 2/3 [00:08<00:04,  4.21s/it]\u001b[A\n",
            "Iteration: 100%|██████████| 3/3 [00:10<00:00,  3.60s/it]\n",
            "Epoch:  45%|████▌     | 9/20 [01:44<02:04, 11.28s/it]\n",
            "Iteration:   0%|          | 0/3 [00:00<?, ?it/s]\u001b[A\n",
            "Iteration:  33%|███▎      | 1/3 [00:04<00:08,  4.17s/it]\u001b[A\n",
            "Iteration:  67%|██████▋   | 2/3 [00:08<00:04,  4.20s/it]\u001b[A\n",
            "Iteration: 100%|██████████| 3/3 [00:10<00:00,  3.59s/it]\n",
            "Epoch:  50%|█████     | 10/20 [01:55<01:51, 11.12s/it]\n",
            "Iteration:   0%|          | 0/3 [00:00<?, ?it/s]\u001b[A"
          ]
        },
        {
          "output_type": "stream",
          "name": "stdout",
          "text": [
            "\n",
            "Epoch 10 Evaluation\n"
          ]
        },
        {
          "output_type": "stream",
          "name": "stderr",
          "text": [
            "\n",
            "\n",
            "Eval:   0%|          | 0/1 [00:00<?, ?it/s]\u001b[A\u001b[A\n",
            "\n",
            "Eval: 100%|██████████| 1/1 [00:03<00:00,  3.47s/it]\n",
            "/usr/local/lib/python3.7/dist-packages/transformers/data/metrics/__init__.py:36: FutureWarning: This metric will be removed from the library soon, metrics should be handled with the 🤗 Datasets library. You can have a look at this example script for pointers: https://github.com/huggingface/transformers/blob/master/examples/pytorch/text-classification/run_glue.py\n",
            "  warnings.warn(DEPRECATION_WARNING, FutureWarning)\n"
          ]
        },
        {
          "output_type": "stream",
          "name": "stdout",
          "text": [
            "\n",
            "=== Eval: loss === 0.40476375818252563\n",
            "=== Eval: acc. === 0.8411214953271028\n",
            "=== Eval: f1 === 0.8410659676714723\n",
            "\n",
            "\n"
          ]
        },
        {
          "output_type": "stream",
          "name": "stderr",
          "text": [
            "\n",
            "Iteration:  33%|███▎      | 1/3 [00:07<00:15,  7.69s/it]\u001b[A\n",
            "Iteration:  67%|██████▋   | 2/3 [00:11<00:05,  5.63s/it]\u001b[A\n",
            "Iteration: 100%|██████████| 3/3 [00:14<00:00,  4.76s/it]\n",
            "Epoch:  55%|█████▌    | 11/20 [02:09<01:48, 12.10s/it]\n",
            "Iteration:   0%|          | 0/3 [00:00<?, ?it/s]\u001b[A\n",
            "Iteration:  33%|███▎      | 1/3 [00:04<00:08,  4.18s/it]\u001b[A\n",
            "Iteration:  67%|██████▋   | 2/3 [00:08<00:04,  4.19s/it]\u001b[A\n",
            "Iteration: 100%|██████████| 3/3 [00:10<00:00,  3.59s/it]\n",
            "Epoch:  60%|██████    | 12/20 [02:20<01:33, 11.70s/it]\n",
            "Iteration:   0%|          | 0/3 [00:00<?, ?it/s]\u001b[A\n",
            "Iteration:  33%|███▎      | 1/3 [00:04<00:08,  4.16s/it]\u001b[A\n",
            "Iteration:  67%|██████▋   | 2/3 [00:08<00:04,  4.19s/it]\u001b[A\n",
            "Iteration: 100%|██████████| 3/3 [00:10<00:00,  3.60s/it]\n",
            "Epoch:  65%|██████▌   | 13/20 [02:31<01:19, 11.43s/it]\n",
            "Iteration:   0%|          | 0/3 [00:00<?, ?it/s]\u001b[A\n",
            "Iteration:  33%|███▎      | 1/3 [00:04<00:08,  4.17s/it]\u001b[A\n",
            "Iteration:  67%|██████▋   | 2/3 [00:08<00:04,  4.20s/it]\u001b[A\n",
            "Iteration: 100%|██████████| 3/3 [00:10<00:00,  3.60s/it]\n",
            "Epoch:  70%|███████   | 14/20 [02:42<01:07, 11.24s/it]\n",
            "Iteration:   0%|          | 0/3 [00:00<?, ?it/s]\u001b[A\n",
            "Iteration:  33%|███▎      | 1/3 [00:04<00:08,  4.17s/it]\u001b[A\n",
            "Iteration:  67%|██████▋   | 2/3 [00:08<00:04,  4.17s/it]\u001b[A\n",
            "Iteration: 100%|██████████| 3/3 [00:10<00:00,  3.58s/it]\n",
            "Epoch:  75%|███████▌  | 15/20 [02:52<00:55, 11.10s/it]\n",
            "Iteration:   0%|          | 0/3 [00:00<?, ?it/s]\u001b[A\n",
            "Iteration:  33%|███▎      | 1/3 [00:04<00:08,  4.20s/it]\u001b[A\n",
            "Iteration:  67%|██████▋   | 2/3 [00:08<00:04,  4.21s/it]\u001b[A\n",
            "Iteration: 100%|██████████| 3/3 [00:10<00:00,  3.61s/it]\n",
            "Epoch:  80%|████████  | 16/20 [03:03<00:44, 11.02s/it]\n",
            "Iteration:   0%|          | 0/3 [00:00<?, ?it/s]\u001b[A\n",
            "Iteration:  33%|███▎      | 1/3 [00:04<00:08,  4.20s/it]\u001b[A\n",
            "Iteration:  67%|██████▋   | 2/3 [00:08<00:04,  4.19s/it]\u001b[A\n",
            "Iteration: 100%|██████████| 3/3 [00:10<00:00,  3.63s/it]\n",
            "Epoch:  85%|████████▌ | 17/20 [03:14<00:32, 10.98s/it]\n",
            "Iteration:   0%|          | 0/3 [00:00<?, ?it/s]\u001b[A\n",
            "Iteration:  33%|███▎      | 1/3 [00:04<00:08,  4.37s/it]\u001b[A\n",
            "Iteration:  67%|██████▋   | 2/3 [00:08<00:04,  4.38s/it]\u001b[A\n",
            "Iteration: 100%|██████████| 3/3 [00:11<00:00,  3.75s/it]\n",
            "Epoch:  90%|█████████ | 18/20 [03:25<00:22, 11.07s/it]\n",
            "Iteration:   0%|          | 0/3 [00:00<?, ?it/s]\u001b[A\n",
            "Iteration:  33%|███▎      | 1/3 [00:04<00:08,  4.36s/it]\u001b[A\n",
            "Iteration:  67%|██████▋   | 2/3 [00:08<00:04,  4.38s/it]\u001b[A\n",
            "Iteration: 100%|██████████| 3/3 [00:11<00:00,  3.75s/it]\n",
            "Epoch:  95%|█████████▌| 19/20 [03:37<00:11, 11.12s/it]\n",
            "Iteration:   0%|          | 0/3 [00:00<?, ?it/s]\u001b[A\n",
            "Iteration:  33%|███▎      | 1/3 [00:04<00:08,  4.41s/it]\u001b[A\n",
            "Iteration:  67%|██████▋   | 2/3 [00:08<00:04,  4.40s/it]\u001b[A\n",
            "Iteration: 100%|██████████| 3/3 [00:11<00:00,  3.77s/it]\n",
            "Epoch: 100%|██████████| 20/20 [03:48<00:00, 11.42s/it]\n"
          ]
        },
        {
          "output_type": "stream",
          "name": "stdout",
          "text": [
            "\n",
            "Final Evaluation\n"
          ]
        },
        {
          "output_type": "stream",
          "name": "stderr",
          "text": [
            "Eval: 100%|██████████| 1/1 [00:03<00:00,  3.48s/it]\n",
            "/usr/local/lib/python3.7/dist-packages/transformers/data/metrics/__init__.py:36: FutureWarning: This metric will be removed from the library soon, metrics should be handled with the 🤗 Datasets library. You can have a look at this example script for pointers: https://github.com/huggingface/transformers/blob/master/examples/pytorch/text-classification/run_glue.py\n",
            "  warnings.warn(DEPRECATION_WARNING, FutureWarning)\n"
          ]
        },
        {
          "output_type": "stream",
          "name": "stdout",
          "text": [
            "\n",
            "=== Eval: loss === 0.305729478597641\n",
            "=== Eval: acc. === 0.8598130841121495\n",
            "=== Eval: f1 === 0.85961689845185\n",
            "\n",
            "\n",
            "Training Done\n",
            "\n",
            "Storing the results\n",
            "party, 0.5889514684677124, 0.7009345794392523, 0.6805970149253732, 0.4441766142845154, 0.794392523364486, 0.7942307692307693, 0.40476375818252563, 0.8411214953271028, 0.8410659676714723, 0.305729478597641, 0.8598130841121495, 0.85961689845185\n",
            "Done\n",
            "Problem: inversmodular\n",
            "Algorithms: \n",
            "['extended-euclid-algo', 'euler-toutient']\n",
            "Creation of the dataset for the problem\n",
            "['extended-euclid-algo', 'euler-toutient']\n",
            "/content/drive/MyDrive/ProblemClassif/problems/inversmodular/extended-euclid-algo/train\n",
            "/content/drive/MyDrive/ProblemClassif/problems/inversmodular/euler-toutient/train\n",
            "🔥🔥\n",
            "['extended-euclid-algo', 'euler-toutient']\n",
            "/content/drive/MyDrive/ProblemClassif/problems/inversmodular/extended-euclid-algo/test\n",
            "/content/drive/MyDrive/ProblemClassif/problems/inversmodular/euler-toutient/test\n",
            "🔥🔥\n",
            "Dataset done\n",
            "\n",
            "Loading CodeBERTa\n"
          ]
        },
        {
          "output_type": "stream",
          "name": "stderr",
          "text": [
            "Some weights of the model checkpoint at huggingface/CodeBERTa-small-v1 were not used when initializing RobertaForSequenceClassification: ['lm_head.bias', 'lm_head.layer_norm.weight', 'lm_head.dense.weight', 'lm_head.decoder.weight', 'roberta.pooler.dense.bias', 'lm_head.decoder.bias', 'lm_head.dense.bias', 'lm_head.layer_norm.bias', 'roberta.pooler.dense.weight']\n",
            "- This IS expected if you are initializing RobertaForSequenceClassification from the checkpoint of a model trained on another task or with another architecture (e.g. initializing a BertForSequenceClassification model from a BertForPreTraining model).\n",
            "- This IS NOT expected if you are initializing RobertaForSequenceClassification from the checkpoint of a model that you expect to be exactly identical (initializing a BertForSequenceClassification model from a BertForSequenceClassification model).\n",
            "Some weights of RobertaForSequenceClassification were not initialized from the model checkpoint at huggingface/CodeBERTa-small-v1 and are newly initialized: ['classifier.out_proj.bias', 'classifier.dense.bias', 'classifier.dense.weight', 'classifier.out_proj.weight']\n",
            "You should probably TRAIN this model on a down-stream task to be able to use it for predictions and inference.\n"
          ]
        },
        {
          "output_type": "stream",
          "name": "stdout",
          "text": [
            "num params: 83452418\n",
            "num trainable params: 592130\n",
            "\n",
            "Model loaded\n",
            "\n",
            "Training Loop\n"
          ]
        },
        {
          "output_type": "stream",
          "name": "stderr",
          "text": [
            "Epoch:   0%|          | 0/20 [00:00<?, ?it/s]\n",
            "Iteration:   0%|          | 0/4 [00:00<?, ?it/s]\u001b[A\n",
            "Iteration:  25%|██▌       | 1/4 [00:04<00:13,  4.48s/it]\u001b[A\n",
            "Iteration:  50%|█████     | 2/4 [00:08<00:08,  4.40s/it]\u001b[A\n",
            "Iteration:  75%|███████▌  | 3/4 [00:13<00:04,  4.37s/it]\u001b[A\n",
            "Iteration: 100%|██████████| 4/4 [00:15<00:00,  3.97s/it]\n",
            "Epoch:   5%|▌         | 1/20 [00:15<05:02, 15.90s/it]\n",
            "Iteration:   0%|          | 0/4 [00:00<?, ?it/s]\u001b[A"
          ]
        },
        {
          "output_type": "stream",
          "name": "stdout",
          "text": [
            "\n",
            "Epoch 1 Evaluation\n"
          ]
        },
        {
          "output_type": "stream",
          "name": "stderr",
          "text": [
            "\n",
            "\n",
            "Eval:   0%|          | 0/1 [00:00<?, ?it/s]\u001b[A\u001b[A\n",
            "\n",
            "Eval: 100%|██████████| 1/1 [00:04<00:00,  4.82s/it]\n",
            "/usr/local/lib/python3.7/dist-packages/transformers/data/metrics/__init__.py:36: FutureWarning: This metric will be removed from the library soon, metrics should be handled with the 🤗 Datasets library. You can have a look at this example script for pointers: https://github.com/huggingface/transformers/blob/master/examples/pytorch/text-classification/run_glue.py\n",
            "  warnings.warn(DEPRECATION_WARNING, FutureWarning)\n"
          ]
        },
        {
          "output_type": "stream",
          "name": "stdout",
          "text": [
            "\n",
            "=== Eval: loss === 1.2831891775131226\n",
            "=== Eval: acc. === 0.47333333333333333\n",
            "=== Eval: f1 === 0.3212669683257918\n",
            "\n",
            "\n"
          ]
        },
        {
          "output_type": "stream",
          "name": "stderr",
          "text": [
            "\n",
            "Iteration:  25%|██▌       | 1/4 [00:08<00:26,  8.95s/it]\u001b[A\n",
            "Iteration:  50%|█████     | 2/4 [00:13<00:12,  6.11s/it]\u001b[A\n",
            "Iteration:  75%|███████▌  | 3/4 [00:17<00:05,  5.22s/it]\u001b[A\n",
            "Iteration: 100%|██████████| 4/4 [00:19<00:00,  4.96s/it]\n",
            "Epoch:  10%|█         | 2/20 [00:35<05:28, 18.23s/it]\n",
            "Iteration:   0%|          | 0/4 [00:00<?, ?it/s]\u001b[A\n",
            "Iteration:  25%|██▌       | 1/4 [00:04<00:12,  4.16s/it]\u001b[A\n",
            "Iteration:  50%|█████     | 2/4 [00:08<00:08,  4.17s/it]\u001b[A\n",
            "Iteration:  75%|███████▌  | 3/4 [00:12<00:04,  4.16s/it]\u001b[A\n",
            "Iteration: 100%|██████████| 4/4 [00:15<00:00,  3.76s/it]\n",
            "Epoch:  15%|█▌        | 3/20 [00:50<04:45, 16.79s/it]\n",
            "Iteration:   0%|          | 0/4 [00:00<?, ?it/s]\u001b[A\n",
            "Iteration:  25%|██▌       | 1/4 [00:04<00:12,  4.14s/it]\u001b[A\n",
            "Iteration:  50%|█████     | 2/4 [00:08<00:08,  4.14s/it]\u001b[A\n",
            "Iteration:  75%|███████▌  | 3/4 [00:12<00:04,  4.15s/it]\u001b[A\n",
            "Iteration: 100%|██████████| 4/4 [00:15<00:00,  3.77s/it]\n",
            "Epoch:  20%|██        | 4/20 [01:05<04:17, 16.12s/it]\n",
            "Iteration:   0%|          | 0/4 [00:00<?, ?it/s]\u001b[A\n",
            "Iteration:  25%|██▌       | 1/4 [00:04<00:12,  4.12s/it]\u001b[A\n",
            "Iteration:  50%|█████     | 2/4 [00:08<00:08,  4.15s/it]\u001b[A\n",
            "Iteration:  75%|███████▌  | 3/4 [00:12<00:04,  4.16s/it]\u001b[A\n",
            "Iteration: 100%|██████████| 4/4 [00:15<00:00,  3.78s/it]\n",
            "Epoch:  25%|██▌       | 5/20 [01:21<03:56, 15.76s/it]\n",
            "Iteration:   0%|          | 0/4 [00:00<?, ?it/s]\u001b[A"
          ]
        },
        {
          "output_type": "stream",
          "name": "stdout",
          "text": [
            "\n",
            "Epoch 5 Evaluation\n"
          ]
        },
        {
          "output_type": "stream",
          "name": "stderr",
          "text": [
            "\n",
            "\n",
            "Eval:   0%|          | 0/1 [00:00<?, ?it/s]\u001b[A\u001b[A\n",
            "\n",
            "Eval: 100%|██████████| 1/1 [00:04<00:00,  4.87s/it]\n",
            "/usr/local/lib/python3.7/dist-packages/transformers/data/metrics/__init__.py:36: FutureWarning: This metric will be removed from the library soon, metrics should be handled with the 🤗 Datasets library. You can have a look at this example script for pointers: https://github.com/huggingface/transformers/blob/master/examples/pytorch/text-classification/run_glue.py\n",
            "  warnings.warn(DEPRECATION_WARNING, FutureWarning)\n"
          ]
        },
        {
          "output_type": "stream",
          "name": "stdout",
          "text": [
            "\n",
            "=== Eval: loss === 0.32500365376472473\n",
            "=== Eval: acc. === 0.88\n",
            "=== Eval: f1 === 0.876282991202346\n",
            "\n",
            "\n"
          ]
        },
        {
          "output_type": "stream",
          "name": "stderr",
          "text": [
            "\n",
            "Iteration:  25%|██▌       | 1/4 [00:09<00:27,  9.04s/it]\u001b[A\n",
            "Iteration:  50%|█████     | 2/4 [00:13<00:12,  6.16s/it]\u001b[A\n",
            "Iteration:  75%|███████▌  | 3/4 [00:17<00:05,  5.25s/it]\u001b[A\n",
            "Iteration: 100%|██████████| 4/4 [00:19<00:00,  5.00s/it]\n",
            "Epoch:  30%|███       | 6/20 [01:41<04:00, 17.20s/it]\n",
            "Iteration:   0%|          | 0/4 [00:00<?, ?it/s]\u001b[A\n",
            "Iteration:  25%|██▌       | 1/4 [00:04<00:12,  4.13s/it]\u001b[A\n",
            "Iteration:  50%|█████     | 2/4 [00:08<00:08,  4.16s/it]\u001b[A\n",
            "Iteration:  75%|███████▌  | 3/4 [00:12<00:04,  4.11s/it]\u001b[A\n",
            "Iteration: 100%|██████████| 4/4 [00:14<00:00,  3.75s/it]\n",
            "Epoch:  35%|███▌      | 7/20 [01:56<03:34, 16.48s/it]\n",
            "Iteration:   0%|          | 0/4 [00:00<?, ?it/s]\u001b[A\n",
            "Iteration:  25%|██▌       | 1/4 [00:04<00:12,  4.15s/it]\u001b[A\n",
            "Iteration:  50%|█████     | 2/4 [00:08<00:08,  4.15s/it]\u001b[A\n",
            "Iteration:  75%|███████▌  | 3/4 [00:12<00:04,  4.09s/it]\u001b[A\n",
            "Iteration: 100%|██████████| 4/4 [00:14<00:00,  3.74s/it]\n",
            "Epoch:  40%|████      | 8/20 [02:11<03:12, 16.01s/it]\n",
            "Iteration:   0%|          | 0/4 [00:00<?, ?it/s]\u001b[A\n",
            "Iteration:  25%|██▌       | 1/4 [00:04<00:12,  4.16s/it]\u001b[A\n",
            "Iteration:  50%|█████     | 2/4 [00:08<00:08,  4.15s/it]\u001b[A\n",
            "Iteration:  75%|███████▌  | 3/4 [00:12<00:04,  4.10s/it]\u001b[A\n",
            "Iteration: 100%|██████████| 4/4 [00:14<00:00,  3.75s/it]\n",
            "Epoch:  45%|████▌     | 9/20 [02:26<02:52, 15.69s/it]\n",
            "Iteration:   0%|          | 0/4 [00:00<?, ?it/s]\u001b[A\n",
            "Iteration:  25%|██▌       | 1/4 [00:04<00:12,  4.14s/it]\u001b[A\n",
            "Iteration:  50%|█████     | 2/4 [00:08<00:08,  4.02s/it]\u001b[A\n",
            "Iteration:  75%|███████▌  | 3/4 [00:12<00:04,  4.09s/it]\u001b[A\n",
            "Iteration: 100%|██████████| 4/4 [00:14<00:00,  3.72s/it]\n",
            "Epoch:  50%|█████     | 10/20 [02:40<02:34, 15.44s/it]\n",
            "Iteration:   0%|          | 0/4 [00:00<?, ?it/s]\u001b[A"
          ]
        },
        {
          "output_type": "stream",
          "name": "stdout",
          "text": [
            "\n",
            "Epoch 10 Evaluation\n"
          ]
        },
        {
          "output_type": "stream",
          "name": "stderr",
          "text": [
            "\n",
            "\n",
            "Eval:   0%|          | 0/1 [00:00<?, ?it/s]\u001b[A\u001b[A\n",
            "\n",
            "Eval: 100%|██████████| 1/1 [00:04<00:00,  4.92s/it]\n",
            "/usr/local/lib/python3.7/dist-packages/transformers/data/metrics/__init__.py:36: FutureWarning: This metric will be removed from the library soon, metrics should be handled with the 🤗 Datasets library. You can have a look at this example script for pointers: https://github.com/huggingface/transformers/blob/master/examples/pytorch/text-classification/run_glue.py\n",
            "  warnings.warn(DEPRECATION_WARNING, FutureWarning)\n"
          ]
        },
        {
          "output_type": "stream",
          "name": "stdout",
          "text": [
            "\n",
            "=== Eval: loss === 0.12025777250528336\n",
            "=== Eval: acc. === 0.9733333333333334\n",
            "=== Eval: f1 === 0.9732142857142857\n",
            "\n",
            "\n"
          ]
        },
        {
          "output_type": "stream",
          "name": "stderr",
          "text": [
            "\n",
            "Iteration:  25%|██▌       | 1/4 [00:09<00:27,  9.08s/it]\u001b[A\n",
            "Iteration:  50%|█████     | 2/4 [00:13<00:12,  6.18s/it]\u001b[A\n",
            "Iteration:  75%|███████▌  | 3/4 [00:17<00:05,  5.25s/it]\u001b[A\n",
            "Iteration: 100%|██████████| 4/4 [00:19<00:00,  5.00s/it]\n",
            "Epoch:  55%|█████▌    | 11/20 [03:00<02:31, 16.84s/it]\n",
            "Iteration:   0%|          | 0/4 [00:00<?, ?it/s]\u001b[A\n",
            "Iteration:  25%|██▌       | 1/4 [00:04<00:12,  4.14s/it]\u001b[A\n",
            "Iteration:  50%|█████     | 2/4 [00:08<00:08,  4.15s/it]\u001b[A\n",
            "Iteration:  75%|███████▌  | 3/4 [00:12<00:04,  4.16s/it]\u001b[A\n",
            "Iteration: 100%|██████████| 4/4 [00:15<00:00,  3.75s/it]\n",
            "Epoch:  60%|██████    | 12/20 [03:15<02:10, 16.29s/it]\n",
            "Iteration:   0%|          | 0/4 [00:00<?, ?it/s]\u001b[A\n",
            "Iteration:  25%|██▌       | 1/4 [00:04<00:12,  4.14s/it]\u001b[A\n",
            "Iteration:  50%|█████     | 2/4 [00:08<00:08,  4.15s/it]\u001b[A\n",
            "Iteration:  75%|███████▌  | 3/4 [00:12<00:04,  4.26s/it]\u001b[A\n",
            "Iteration: 100%|██████████| 4/4 [00:15<00:00,  3.83s/it]\n",
            "Epoch:  65%|██████▌   | 13/20 [03:31<01:52, 16.00s/it]\n",
            "Iteration:   0%|          | 0/4 [00:00<?, ?it/s]\u001b[A\n",
            "Iteration:  25%|██▌       | 1/4 [00:04<00:13,  4.37s/it]\u001b[A\n",
            "Iteration:  50%|█████     | 2/4 [00:08<00:08,  4.40s/it]\u001b[A\n",
            "Iteration:  75%|███████▌  | 3/4 [00:13<00:04,  4.37s/it]\u001b[A\n",
            "Iteration: 100%|██████████| 4/4 [00:15<00:00,  3.98s/it]\n",
            "Epoch:  70%|███████   | 14/20 [03:47<01:35, 15.99s/it]\n",
            "Iteration:   0%|          | 0/4 [00:00<?, ?it/s]\u001b[A\n",
            "Iteration:  25%|██▌       | 1/4 [00:04<00:13,  4.38s/it]\u001b[A\n",
            "Iteration:  50%|█████     | 2/4 [00:08<00:08,  4.36s/it]\u001b[A\n",
            "Iteration:  75%|███████▌  | 3/4 [00:13<00:04,  4.38s/it]\u001b[A\n",
            "Iteration: 100%|██████████| 4/4 [00:15<00:00,  3.95s/it]\n",
            "Epoch:  75%|███████▌  | 15/20 [04:03<01:19, 15.93s/it]\n",
            "Iteration:   0%|          | 0/4 [00:00<?, ?it/s]\u001b[A\n",
            "Iteration:  25%|██▌       | 1/4 [00:04<00:13,  4.38s/it]\u001b[A\n",
            "Iteration:  50%|█████     | 2/4 [00:08<00:08,  4.40s/it]\u001b[A\n",
            "Iteration:  75%|███████▌  | 3/4 [00:13<00:04,  4.38s/it]\u001b[A\n",
            "Iteration: 100%|██████████| 4/4 [00:15<00:00,  3.95s/it]\n",
            "Epoch:  80%|████████  | 16/20 [04:18<01:03, 15.90s/it]\n",
            "Iteration:   0%|          | 0/4 [00:00<?, ?it/s]\u001b[A\n",
            "Iteration:  25%|██▌       | 1/4 [00:04<00:13,  4.34s/it]\u001b[A\n",
            "Iteration:  50%|█████     | 2/4 [00:08<00:08,  4.37s/it]\u001b[A\n",
            "Iteration:  75%|███████▌  | 3/4 [00:12<00:04,  4.32s/it]\u001b[A\n",
            "Iteration: 100%|██████████| 4/4 [00:15<00:00,  3.94s/it]\n",
            "Epoch:  85%|████████▌ | 17/20 [04:34<00:47, 15.86s/it]\n",
            "Iteration:   0%|          | 0/4 [00:00<?, ?it/s]\u001b[A\n",
            "Iteration:  25%|██▌       | 1/4 [00:04<00:13,  4.36s/it]\u001b[A\n",
            "Iteration:  50%|█████     | 2/4 [00:08<00:08,  4.37s/it]\u001b[A\n",
            "Iteration:  75%|███████▌  | 3/4 [00:13<00:04,  4.39s/it]\u001b[A\n",
            "Iteration: 100%|██████████| 4/4 [00:15<00:00,  3.98s/it]\n",
            "Epoch:  90%|█████████ | 18/20 [04:50<00:31, 15.88s/it]\n",
            "Iteration:   0%|          | 0/4 [00:00<?, ?it/s]\u001b[A\n",
            "Iteration:  25%|██▌       | 1/4 [00:04<00:13,  4.37s/it]\u001b[A\n",
            "Iteration:  50%|█████     | 2/4 [00:08<00:08,  4.39s/it]\u001b[A\n",
            "Iteration:  75%|███████▌  | 3/4 [00:13<00:04,  4.38s/it]\u001b[A\n",
            "Iteration: 100%|██████████| 4/4 [00:15<00:00,  3.99s/it]\n",
            "Epoch:  95%|█████████▌| 19/20 [05:06<00:15, 15.90s/it]\n",
            "Iteration:   0%|          | 0/4 [00:00<?, ?it/s]\u001b[A\n",
            "Iteration:  25%|██▌       | 1/4 [00:04<00:13,  4.34s/it]\u001b[A\n",
            "Iteration:  50%|█████     | 2/4 [00:08<00:08,  4.37s/it]\u001b[A\n",
            "Iteration:  75%|███████▌  | 3/4 [00:13<00:04,  4.40s/it]\u001b[A\n",
            "Iteration: 100%|██████████| 4/4 [00:15<00:00,  3.99s/it]\n",
            "Epoch: 100%|██████████| 20/20 [05:22<00:00, 16.13s/it]\n"
          ]
        },
        {
          "output_type": "stream",
          "name": "stdout",
          "text": [
            "\n",
            "Final Evaluation\n"
          ]
        },
        {
          "output_type": "stream",
          "name": "stderr",
          "text": [
            "Eval: 100%|██████████| 1/1 [00:04<00:00,  4.85s/it]\n",
            "/usr/local/lib/python3.7/dist-packages/transformers/data/metrics/__init__.py:36: FutureWarning: This metric will be removed from the library soon, metrics should be handled with the 🤗 Datasets library. You can have a look at this example script for pointers: https://github.com/huggingface/transformers/blob/master/examples/pytorch/text-classification/run_glue.py\n",
            "  warnings.warn(DEPRECATION_WARNING, FutureWarning)\n"
          ]
        },
        {
          "output_type": "stream",
          "name": "stdout",
          "text": [
            "\n",
            "=== Eval: loss === 0.1135556548833847\n",
            "=== Eval: acc. === 0.98\n",
            "=== Eval: f1 === 0.9798918629071898\n",
            "\n",
            "\n",
            "Training Done\n",
            "\n",
            "Storing the results\n",
            "inversmodular, 1.2831891775131226, 0.47333333333333333, 0.3212669683257918, 0.32500365376472473, 0.88, 0.876282991202346, 0.12025777250528336, 0.9733333333333334, 0.9732142857142857, 0.1135556548833847, 0.98, 0.9798918629071898\n",
            "Done\n",
            "Problem: inv\n",
            "Algorithms: \n",
            "['aib', 'merge']\n",
            "Creation of the dataset for the problem\n",
            "['aib', 'merge']\n",
            "/content/drive/MyDrive/ProblemClassif/problems/inv/aib/train\n",
            "/content/drive/MyDrive/ProblemClassif/problems/inv/merge/train\n",
            "🔥🔥\n",
            "['aib', 'merge']\n",
            "/content/drive/MyDrive/ProblemClassif/problems/inv/aib/test\n",
            "/content/drive/MyDrive/ProblemClassif/problems/inv/merge/test\n",
            "🔥🔥\n",
            "Dataset done\n",
            "\n",
            "Loading CodeBERTa\n"
          ]
        },
        {
          "output_type": "stream",
          "name": "stderr",
          "text": [
            "Some weights of the model checkpoint at huggingface/CodeBERTa-small-v1 were not used when initializing RobertaForSequenceClassification: ['lm_head.bias', 'lm_head.layer_norm.weight', 'lm_head.dense.weight', 'lm_head.decoder.weight', 'roberta.pooler.dense.bias', 'lm_head.decoder.bias', 'lm_head.dense.bias', 'lm_head.layer_norm.bias', 'roberta.pooler.dense.weight']\n",
            "- This IS expected if you are initializing RobertaForSequenceClassification from the checkpoint of a model trained on another task or with another architecture (e.g. initializing a BertForSequenceClassification model from a BertForPreTraining model).\n",
            "- This IS NOT expected if you are initializing RobertaForSequenceClassification from the checkpoint of a model that you expect to be exactly identical (initializing a BertForSequenceClassification model from a BertForSequenceClassification model).\n",
            "Some weights of RobertaForSequenceClassification were not initialized from the model checkpoint at huggingface/CodeBERTa-small-v1 and are newly initialized: ['classifier.out_proj.bias', 'classifier.dense.bias', 'classifier.dense.weight', 'classifier.out_proj.weight']\n",
            "You should probably TRAIN this model on a down-stream task to be able to use it for predictions and inference.\n"
          ]
        },
        {
          "output_type": "stream",
          "name": "stdout",
          "text": [
            "num params: 83452418\n",
            "num trainable params: 592130\n",
            "\n",
            "Model loaded\n",
            "\n",
            "Training Loop\n"
          ]
        },
        {
          "output_type": "stream",
          "name": "stderr",
          "text": [
            "Epoch:   0%|          | 0/20 [00:00<?, ?it/s]\n",
            "Iteration:   0%|          | 0/4 [00:00<?, ?it/s]\u001b[A\n",
            "Iteration:  25%|██▌       | 1/4 [00:04<00:13,  4.48s/it]\u001b[A\n",
            "Iteration:  50%|█████     | 2/4 [00:08<00:08,  4.38s/it]\u001b[A\n",
            "Iteration:  75%|███████▌  | 3/4 [00:13<00:04,  4.38s/it]\u001b[A\n",
            "Iteration: 100%|██████████| 4/4 [00:15<00:00,  3.83s/it]\n",
            "Epoch:   5%|▌         | 1/20 [00:15<04:51, 15.33s/it]\n",
            "Iteration:   0%|          | 0/4 [00:00<?, ?it/s]\u001b[A"
          ]
        },
        {
          "output_type": "stream",
          "name": "stdout",
          "text": [
            "\n",
            "Epoch 1 Evaluation\n"
          ]
        },
        {
          "output_type": "stream",
          "name": "stderr",
          "text": [
            "\n",
            "\n",
            "Eval:   0%|          | 0/1 [00:00<?, ?it/s]\u001b[A\u001b[A\n",
            "\n",
            "Eval: 100%|██████████| 1/1 [00:04<00:00,  4.75s/it]\n",
            "/usr/local/lib/python3.7/dist-packages/transformers/data/metrics/__init__.py:36: FutureWarning: This metric will be removed from the library soon, metrics should be handled with the 🤗 Datasets library. You can have a look at this example script for pointers: https://github.com/huggingface/transformers/blob/master/examples/pytorch/text-classification/run_glue.py\n",
            "  warnings.warn(DEPRECATION_WARNING, FutureWarning)\n"
          ]
        },
        {
          "output_type": "stream",
          "name": "stdout",
          "text": [
            "\n",
            "=== Eval: loss === 0.43593862652778625\n",
            "=== Eval: acc. === 0.9246575342465754\n",
            "=== Eval: f1 === 0.9246257098606092\n",
            "\n",
            "\n"
          ]
        },
        {
          "output_type": "stream",
          "name": "stderr",
          "text": [
            "\n",
            "Iteration:  25%|██▌       | 1/4 [00:08<00:26,  8.91s/it]\u001b[A\n",
            "Iteration:  50%|█████     | 2/4 [00:13<00:12,  6.13s/it]\u001b[A\n",
            "Iteration:  75%|███████▌  | 3/4 [00:17<00:05,  5.24s/it]\u001b[A\n",
            "Iteration: 100%|██████████| 4/4 [00:19<00:00,  4.83s/it]\n",
            "Epoch:  10%|█         | 2/20 [00:34<05:18, 17.70s/it]\n",
            "Iteration:   0%|          | 0/4 [00:00<?, ?it/s]\u001b[A\n",
            "Iteration:  25%|██▌       | 1/4 [00:04<00:12,  4.16s/it]\u001b[A\n",
            "Iteration:  50%|█████     | 2/4 [00:08<00:08,  4.17s/it]\u001b[A\n",
            "Iteration:  75%|███████▌  | 3/4 [00:12<00:04,  4.19s/it]\u001b[A\n",
            "Iteration: 100%|██████████| 4/4 [00:14<00:00,  3.65s/it]\n",
            "Epoch:  15%|█▌        | 3/20 [00:49<04:36, 16.29s/it]\n",
            "Iteration:   0%|          | 0/4 [00:00<?, ?it/s]\u001b[A\n",
            "Iteration:  25%|██▌       | 1/4 [00:04<00:12,  4.18s/it]\u001b[A\n",
            "Iteration:  50%|█████     | 2/4 [00:08<00:08,  4.17s/it]\u001b[A\n",
            "Iteration:  75%|███████▌  | 3/4 [00:12<00:04,  4.18s/it]\u001b[A\n",
            "Iteration: 100%|██████████| 4/4 [00:14<00:00,  3.65s/it]\n",
            "Epoch:  20%|██        | 4/20 [01:03<04:10, 15.64s/it]\n",
            "Iteration:   0%|          | 0/4 [00:00<?, ?it/s]\u001b[A\n",
            "Iteration:  25%|██▌       | 1/4 [00:04<00:12,  4.19s/it]\u001b[A\n",
            "Iteration:  50%|█████     | 2/4 [00:08<00:08,  4.21s/it]\u001b[A\n",
            "Iteration:  75%|███████▌  | 3/4 [00:12<00:04,  4.19s/it]\u001b[A\n",
            "Iteration: 100%|██████████| 4/4 [00:14<00:00,  3.66s/it]\n",
            "Epoch:  25%|██▌       | 5/20 [01:18<03:49, 15.28s/it]\n",
            "Iteration:   0%|          | 0/4 [00:00<?, ?it/s]\u001b[A"
          ]
        },
        {
          "output_type": "stream",
          "name": "stdout",
          "text": [
            "\n",
            "Epoch 5 Evaluation\n"
          ]
        },
        {
          "output_type": "stream",
          "name": "stderr",
          "text": [
            "\n",
            "\n",
            "Eval:   0%|          | 0/1 [00:00<?, ?it/s]\u001b[A\u001b[A\n",
            "\n",
            "Eval: 100%|██████████| 1/1 [00:04<00:00,  4.83s/it]\n",
            "/usr/local/lib/python3.7/dist-packages/transformers/data/metrics/__init__.py:36: FutureWarning: This metric will be removed from the library soon, metrics should be handled with the 🤗 Datasets library. You can have a look at this example script for pointers: https://github.com/huggingface/transformers/blob/master/examples/pytorch/text-classification/run_glue.py\n",
            "  warnings.warn(DEPRECATION_WARNING, FutureWarning)\n"
          ]
        },
        {
          "output_type": "stream",
          "name": "stdout",
          "text": [
            "\n",
            "=== Eval: loss === 0.2614586353302002\n",
            "=== Eval: acc. === 0.910958904109589\n",
            "=== Eval: f1 === 0.9102473164042181\n",
            "\n",
            "\n"
          ]
        },
        {
          "output_type": "stream",
          "name": "stderr",
          "text": [
            "\n",
            "Iteration:  25%|██▌       | 1/4 [00:09<00:27,  9.04s/it]\u001b[A\n",
            "Iteration:  50%|█████     | 2/4 [00:13<00:12,  6.19s/it]\u001b[A\n",
            "Iteration:  75%|███████▌  | 3/4 [00:17<00:05,  5.27s/it]\u001b[A\n",
            "Iteration: 100%|██████████| 4/4 [00:19<00:00,  4.87s/it]\n",
            "Epoch:  30%|███       | 6/20 [01:38<03:53, 16.71s/it]\n",
            "Iteration:   0%|          | 0/4 [00:00<?, ?it/s]\u001b[A\n",
            "Iteration:  25%|██▌       | 1/4 [00:04<00:12,  4.18s/it]\u001b[A\n",
            "Iteration:  50%|█████     | 2/4 [00:08<00:08,  4.20s/it]\u001b[A\n",
            "Iteration:  75%|███████▌  | 3/4 [00:12<00:04,  4.19s/it]\u001b[A\n",
            "Iteration: 100%|██████████| 4/4 [00:14<00:00,  3.66s/it]\n",
            "Epoch:  35%|███▌      | 7/20 [01:52<03:28, 16.03s/it]\n",
            "Iteration:   0%|          | 0/4 [00:00<?, ?it/s]\u001b[A\n",
            "Iteration:  25%|██▌       | 1/4 [00:04<00:12,  4.19s/it]\u001b[A\n",
            "Iteration:  50%|█████     | 2/4 [00:08<00:08,  4.18s/it]\u001b[A\n",
            "Iteration:  75%|███████▌  | 3/4 [00:12<00:04,  4.20s/it]\u001b[A\n",
            "Iteration: 100%|██████████| 4/4 [00:14<00:00,  3.66s/it]\n",
            "Epoch:  40%|████      | 8/20 [02:07<03:07, 15.59s/it]\n",
            "Iteration:   0%|          | 0/4 [00:00<?, ?it/s]\u001b[A\n",
            "Iteration:  25%|██▌       | 1/4 [00:04<00:12,  4.18s/it]\u001b[A\n",
            "Iteration:  50%|█████     | 2/4 [00:08<00:08,  4.18s/it]\u001b[A\n",
            "Iteration:  75%|███████▌  | 3/4 [00:12<00:04,  4.19s/it]\u001b[A\n",
            "Iteration: 100%|██████████| 4/4 [00:14<00:00,  3.66s/it]\n",
            "Epoch:  45%|████▌     | 9/20 [02:22<02:48, 15.30s/it]\n",
            "Iteration:   0%|          | 0/4 [00:00<?, ?it/s]\u001b[A\n",
            "Iteration:  25%|██▌       | 1/4 [00:04<00:12,  4.20s/it]\u001b[A\n",
            "Iteration:  50%|█████     | 2/4 [00:08<00:08,  4.19s/it]\u001b[A\n",
            "Iteration:  75%|███████▌  | 3/4 [00:12<00:04,  4.20s/it]\u001b[A\n",
            "Iteration: 100%|██████████| 4/4 [00:14<00:00,  3.67s/it]\n",
            "Epoch:  50%|█████     | 10/20 [02:36<02:31, 15.11s/it]\n",
            "Iteration:   0%|          | 0/4 [00:00<?, ?it/s]\u001b[A"
          ]
        },
        {
          "output_type": "stream",
          "name": "stdout",
          "text": [
            "\n",
            "Epoch 10 Evaluation\n"
          ]
        },
        {
          "output_type": "stream",
          "name": "stderr",
          "text": [
            "\n",
            "\n",
            "Eval:   0%|          | 0/1 [00:00<?, ?it/s]\u001b[A\u001b[A\n",
            "\n",
            "Eval: 100%|██████████| 1/1 [00:04<00:00,  4.78s/it]\n",
            "/usr/local/lib/python3.7/dist-packages/transformers/data/metrics/__init__.py:36: FutureWarning: This metric will be removed from the library soon, metrics should be handled with the 🤗 Datasets library. You can have a look at this example script for pointers: https://github.com/huggingface/transformers/blob/master/examples/pytorch/text-classification/run_glue.py\n",
            "  warnings.warn(DEPRECATION_WARNING, FutureWarning)\n"
          ]
        },
        {
          "output_type": "stream",
          "name": "stdout",
          "text": [
            "\n",
            "=== Eval: loss === 0.07180590182542801\n",
            "=== Eval: acc. === 0.9657534246575342\n",
            "=== Eval: f1 === 0.9657518179685667\n",
            "\n",
            "\n"
          ]
        },
        {
          "output_type": "stream",
          "name": "stderr",
          "text": [
            "\n",
            "Iteration:  25%|██▌       | 1/4 [00:09<00:27,  9.01s/it]\u001b[A\n",
            "Iteration:  50%|█████     | 2/4 [00:13<00:12,  6.17s/it]\u001b[A\n",
            "Iteration:  75%|███████▌  | 3/4 [00:17<00:05,  5.28s/it]\u001b[A\n",
            "Iteration: 100%|██████████| 4/4 [00:19<00:00,  4.87s/it]\n",
            "Epoch:  55%|█████▌    | 11/20 [02:56<02:28, 16.46s/it]\n",
            "Iteration:   0%|          | 0/4 [00:00<?, ?it/s]\u001b[A\n",
            "Iteration:  25%|██▌       | 1/4 [00:04<00:12,  4.16s/it]\u001b[A\n",
            "Iteration:  50%|█████     | 2/4 [00:08<00:08,  4.20s/it]\u001b[A\n",
            "Iteration:  75%|███████▌  | 3/4 [00:12<00:04,  4.20s/it]\u001b[A\n",
            "Iteration: 100%|██████████| 4/4 [00:14<00:00,  3.66s/it]\n",
            "Epoch:  60%|██████    | 12/20 [03:10<02:07, 15.91s/it]\n",
            "Iteration:   0%|          | 0/4 [00:00<?, ?it/s]\u001b[A\n",
            "Iteration:  25%|██▌       | 1/4 [00:04<00:12,  4.16s/it]\u001b[A\n",
            "Iteration:  50%|█████     | 2/4 [00:08<00:08,  4.20s/it]\u001b[A\n",
            "Iteration:  75%|███████▌  | 3/4 [00:12<00:04,  4.27s/it]\u001b[A\n",
            "Iteration: 100%|██████████| 4/4 [00:14<00:00,  3.72s/it]\n",
            "Epoch:  65%|██████▌   | 13/20 [03:25<01:49, 15.61s/it]\n",
            "Iteration:   0%|          | 0/4 [00:00<?, ?it/s]\u001b[A\n",
            "Iteration:  25%|██▌       | 1/4 [00:04<00:13,  4.40s/it]\u001b[A\n",
            "Iteration:  50%|█████     | 2/4 [00:08<00:08,  4.39s/it]\u001b[A\n",
            "Iteration:  75%|███████▌  | 3/4 [00:13<00:04,  4.40s/it]\u001b[A\n",
            "Iteration: 100%|██████████| 4/4 [00:15<00:00,  3.84s/it]\n",
            "Epoch:  70%|███████   | 14/20 [03:41<01:33, 15.54s/it]\n",
            "Iteration:   0%|          | 0/4 [00:00<?, ?it/s]\u001b[A\n",
            "Iteration:  25%|██▌       | 1/4 [00:04<00:13,  4.37s/it]\u001b[A\n",
            "Iteration:  50%|█████     | 2/4 [00:08<00:08,  4.38s/it]\u001b[A\n",
            "Iteration:  75%|███████▌  | 3/4 [00:13<00:04,  4.40s/it]\u001b[A\n",
            "Iteration: 100%|██████████| 4/4 [00:15<00:00,  3.83s/it]\n",
            "Epoch:  75%|███████▌  | 15/20 [03:56<01:17, 15.48s/it]\n",
            "Iteration:   0%|          | 0/4 [00:00<?, ?it/s]\u001b[A\n",
            "Iteration:  25%|██▌       | 1/4 [00:04<00:13,  4.37s/it]\u001b[A\n",
            "Iteration:  50%|█████     | 2/4 [00:08<00:08,  4.41s/it]\u001b[A\n",
            "Iteration:  75%|███████▌  | 3/4 [00:13<00:04,  4.39s/it]\u001b[A\n",
            "Iteration: 100%|██████████| 4/4 [00:15<00:00,  3.83s/it]\n",
            "Epoch:  80%|████████  | 16/20 [04:11<01:01, 15.43s/it]\n",
            "Iteration:   0%|          | 0/4 [00:00<?, ?it/s]\u001b[A\n",
            "Iteration:  25%|██▌       | 1/4 [00:04<00:13,  4.40s/it]\u001b[A\n",
            "Iteration:  50%|█████     | 2/4 [00:08<00:08,  4.40s/it]\u001b[A\n",
            "Iteration:  75%|███████▌  | 3/4 [00:13<00:04,  4.40s/it]\u001b[A\n",
            "Iteration: 100%|██████████| 4/4 [00:15<00:00,  3.84s/it]\n",
            "Epoch:  85%|████████▌ | 17/20 [04:27<00:46, 15.42s/it]\n",
            "Iteration:   0%|          | 0/4 [00:00<?, ?it/s]\u001b[A\n",
            "Iteration:  25%|██▌       | 1/4 [00:04<00:12,  4.32s/it]\u001b[A\n",
            "Iteration:  50%|█████     | 2/4 [00:08<00:08,  4.37s/it]\u001b[A\n",
            "Iteration:  75%|███████▌  | 3/4 [00:13<00:04,  4.37s/it]\u001b[A\n",
            "Iteration: 100%|██████████| 4/4 [00:15<00:00,  3.81s/it]\n",
            "Epoch:  90%|█████████ | 18/20 [04:42<00:30, 15.37s/it]\n",
            "Iteration:   0%|          | 0/4 [00:00<?, ?it/s]\u001b[A\n",
            "Iteration:  25%|██▌       | 1/4 [00:04<00:13,  4.37s/it]\u001b[A\n",
            "Iteration:  50%|█████     | 2/4 [00:08<00:08,  4.36s/it]\u001b[A\n",
            "Iteration:  75%|███████▌  | 3/4 [00:13<00:04,  4.36s/it]\u001b[A\n",
            "Iteration: 100%|██████████| 4/4 [00:15<00:00,  3.81s/it]\n",
            "Epoch:  95%|█████████▌| 19/20 [04:57<00:15, 15.34s/it]\n",
            "Iteration:   0%|          | 0/4 [00:00<?, ?it/s]\u001b[A\n",
            "Iteration:  25%|██▌       | 1/4 [00:04<00:13,  4.37s/it]\u001b[A\n",
            "Iteration:  50%|█████     | 2/4 [00:08<00:08,  4.36s/it]\u001b[A\n",
            "Iteration:  75%|███████▌  | 3/4 [00:13<00:04,  4.38s/it]\u001b[A\n",
            "Iteration: 100%|██████████| 4/4 [00:15<00:00,  3.82s/it]\n",
            "Epoch: 100%|██████████| 20/20 [05:13<00:00, 15.65s/it]\n"
          ]
        },
        {
          "output_type": "stream",
          "name": "stdout",
          "text": [
            "\n",
            "Final Evaluation\n"
          ]
        },
        {
          "output_type": "stream",
          "name": "stderr",
          "text": [
            "Eval: 100%|██████████| 1/1 [00:04<00:00,  4.74s/it]\n",
            "/usr/local/lib/python3.7/dist-packages/transformers/data/metrics/__init__.py:36: FutureWarning: This metric will be removed from the library soon, metrics should be handled with the 🤗 Datasets library. You can have a look at this example script for pointers: https://github.com/huggingface/transformers/blob/master/examples/pytorch/text-classification/run_glue.py\n",
            "  warnings.warn(DEPRECATION_WARNING, FutureWarning)\n"
          ]
        },
        {
          "output_type": "stream",
          "name": "stdout",
          "text": [
            "\n",
            "=== Eval: loss === 0.02217804454267025\n",
            "=== Eval: acc. === 1.0\n",
            "=== Eval: f1 === 1.0\n",
            "\n",
            "\n",
            "Training Done\n",
            "\n",
            "Storing the results\n",
            "inv, 0.43593862652778625, 0.9246575342465754, 0.9246257098606092, 0.2614586353302002, 0.910958904109589, 0.9102473164042181, 0.07180590182542801, 0.9657534246575342, 0.9657518179685667, 0.02217804454267025, 1.0, 1.0\n",
            "Done\n",
            "Problem: evaluare\n",
            "Algorithms: \n",
            "['recursive', 'ast', 'stack']\n",
            "Creation of the dataset for the problem\n",
            "['recursive', 'ast', 'stack']\n",
            "/content/drive/MyDrive/ProblemClassif/problems/evaluare/recursive/train\n",
            "/content/drive/MyDrive/ProblemClassif/problems/evaluare/ast/train\n",
            "🔥🔥\n",
            "['recursive', 'ast', 'stack']\n",
            "/content/drive/MyDrive/ProblemClassif/problems/evaluare/recursive/test\n",
            "/content/drive/MyDrive/ProblemClassif/problems/evaluare/ast/test\n",
            "🔥🔥\n",
            "Dataset done\n",
            "\n",
            "Loading CodeBERTa\n"
          ]
        },
        {
          "output_type": "stream",
          "name": "stderr",
          "text": [
            "Some weights of the model checkpoint at huggingface/CodeBERTa-small-v1 were not used when initializing RobertaForSequenceClassification: ['lm_head.bias', 'lm_head.layer_norm.weight', 'lm_head.dense.weight', 'lm_head.decoder.weight', 'roberta.pooler.dense.bias', 'lm_head.decoder.bias', 'lm_head.dense.bias', 'lm_head.layer_norm.bias', 'roberta.pooler.dense.weight']\n",
            "- This IS expected if you are initializing RobertaForSequenceClassification from the checkpoint of a model trained on another task or with another architecture (e.g. initializing a BertForSequenceClassification model from a BertForPreTraining model).\n",
            "- This IS NOT expected if you are initializing RobertaForSequenceClassification from the checkpoint of a model that you expect to be exactly identical (initializing a BertForSequenceClassification model from a BertForSequenceClassification model).\n",
            "Some weights of RobertaForSequenceClassification were not initialized from the model checkpoint at huggingface/CodeBERTa-small-v1 and are newly initialized: ['classifier.out_proj.bias', 'classifier.dense.bias', 'classifier.dense.weight', 'classifier.out_proj.weight']\n",
            "You should probably TRAIN this model on a down-stream task to be able to use it for predictions and inference.\n"
          ]
        },
        {
          "output_type": "stream",
          "name": "stdout",
          "text": [
            "num params: 83453187\n",
            "num trainable params: 592899\n",
            "\n",
            "Model loaded\n",
            "\n",
            "Training Loop\n"
          ]
        },
        {
          "output_type": "stream",
          "name": "stderr",
          "text": [
            "Epoch:   0%|          | 0/20 [00:00<?, ?it/s]\n",
            "Iteration:   0%|          | 0/4 [00:00<?, ?it/s]\u001b[A\n",
            "Iteration:  25%|██▌       | 1/4 [00:04<00:13,  4.50s/it]\u001b[A\n",
            "Iteration:  50%|█████     | 2/4 [00:08<00:08,  4.41s/it]\u001b[A\n",
            "Iteration:  75%|███████▌  | 3/4 [00:13<00:04,  4.37s/it]\u001b[A\n",
            "Iteration: 100%|██████████| 4/4 [00:16<00:00,  4.19s/it]\n",
            "Epoch:   5%|▌         | 1/20 [00:16<05:18, 16.76s/it]\n",
            "Iteration:   0%|          | 0/4 [00:00<?, ?it/s]\u001b[A"
          ]
        },
        {
          "output_type": "stream",
          "name": "stdout",
          "text": [
            "\n",
            "Epoch 1 Evaluation\n"
          ]
        },
        {
          "output_type": "stream",
          "name": "stderr",
          "text": [
            "\n",
            "\n",
            "Eval:   0%|          | 0/1 [00:00<?, ?it/s]\u001b[A\u001b[A\n",
            "\n",
            "Eval: 100%|██████████| 1/1 [00:05<00:00,  5.24s/it]\n",
            "/usr/local/lib/python3.7/dist-packages/transformers/data/metrics/__init__.py:36: FutureWarning: This metric will be removed from the library soon, metrics should be handled with the 🤗 Datasets library. You can have a look at this example script for pointers: https://github.com/huggingface/transformers/blob/master/examples/pytorch/text-classification/run_glue.py\n",
            "  warnings.warn(DEPRECATION_WARNING, FutureWarning)\n"
          ]
        },
        {
          "output_type": "stream",
          "name": "stdout",
          "text": [
            "\n",
            "=== Eval: loss === 0.29744309186935425\n",
            "=== Eval: acc. === 0.9627329192546584\n",
            "=== Eval: f1 === 0.962206572769953\n",
            "\n",
            "\n"
          ]
        },
        {
          "output_type": "stream",
          "name": "stderr",
          "text": [
            "\n",
            "Iteration:  25%|██▌       | 1/4 [00:09<00:28,  9.43s/it]\u001b[A\n",
            "Iteration:  50%|█████     | 2/4 [00:13<00:12,  6.36s/it]\u001b[A\n",
            "Iteration:  75%|███████▌  | 3/4 [00:17<00:05,  5.35s/it]\u001b[A\n",
            "Iteration: 100%|██████████| 4/4 [00:21<00:00,  5.31s/it]\n",
            "Epoch:  10%|█         | 2/20 [00:38<05:49, 19.40s/it]\n",
            "Iteration:   0%|          | 0/4 [00:00<?, ?it/s]\u001b[A\n",
            "Iteration:  25%|██▌       | 1/4 [00:04<00:12,  4.19s/it]\u001b[A\n",
            "Iteration:  50%|█████     | 2/4 [00:08<00:08,  4.18s/it]\u001b[A\n",
            "Iteration:  75%|███████▌  | 3/4 [00:12<00:04,  4.18s/it]\u001b[A\n",
            "Iteration: 100%|██████████| 4/4 [00:16<00:00,  4.00s/it]\n",
            "Epoch:  15%|█▌        | 3/20 [00:54<05:03, 17.86s/it]\n",
            "Iteration:   0%|          | 0/4 [00:00<?, ?it/s]\u001b[A\n",
            "Iteration:  25%|██▌       | 1/4 [00:04<00:12,  4.17s/it]\u001b[A\n",
            "Iteration:  50%|█████     | 2/4 [00:08<00:08,  4.17s/it]\u001b[A\n",
            "Iteration:  75%|███████▌  | 3/4 [00:12<00:04,  4.18s/it]\u001b[A\n",
            "Iteration: 100%|██████████| 4/4 [00:15<00:00,  4.00s/it]\n",
            "Epoch:  20%|██        | 4/20 [01:10<04:34, 17.13s/it]\n",
            "Iteration:   0%|          | 0/4 [00:00<?, ?it/s]\u001b[A\n",
            "Iteration:  25%|██▌       | 1/4 [00:04<00:12,  4.21s/it]\u001b[A\n",
            "Iteration:  50%|█████     | 2/4 [00:08<00:08,  4.19s/it]\u001b[A\n",
            "Iteration:  75%|███████▌  | 3/4 [00:12<00:04,  4.20s/it]\u001b[A\n",
            "Iteration: 100%|██████████| 4/4 [00:16<00:00,  4.01s/it]\n",
            "Epoch:  25%|██▌       | 5/20 [01:26<04:11, 16.74s/it]\n",
            "Iteration:   0%|          | 0/4 [00:00<?, ?it/s]\u001b[A"
          ]
        },
        {
          "output_type": "stream",
          "name": "stdout",
          "text": [
            "\n",
            "Epoch 5 Evaluation\n"
          ]
        },
        {
          "output_type": "stream",
          "name": "stderr",
          "text": [
            "\n",
            "\n",
            "Eval:   0%|          | 0/1 [00:00<?, ?it/s]\u001b[A\u001b[A\n",
            "\n",
            "Eval: 100%|██████████| 1/1 [00:05<00:00,  5.27s/it]\n",
            "/usr/local/lib/python3.7/dist-packages/transformers/data/metrics/__init__.py:36: FutureWarning: This metric will be removed from the library soon, metrics should be handled with the 🤗 Datasets library. You can have a look at this example script for pointers: https://github.com/huggingface/transformers/blob/master/examples/pytorch/text-classification/run_glue.py\n",
            "  warnings.warn(DEPRECATION_WARNING, FutureWarning)\n"
          ]
        },
        {
          "output_type": "stream",
          "name": "stdout",
          "text": [
            "\n",
            "=== Eval: loss === 0.06827185302972794\n",
            "=== Eval: acc. === 0.9751552795031055\n",
            "=== Eval: f1 === 0.9747252747252747\n",
            "\n",
            "\n"
          ]
        },
        {
          "output_type": "stream",
          "name": "stderr",
          "text": [
            "\n",
            "Iteration:  25%|██▌       | 1/4 [00:09<00:28,  9.47s/it]\u001b[A\n",
            "Iteration:  50%|█████     | 2/4 [00:13<00:12,  6.39s/it]\u001b[A\n",
            "Iteration:  75%|███████▌  | 3/4 [00:17<00:05,  5.38s/it]\u001b[A\n",
            "Iteration: 100%|██████████| 4/4 [00:21<00:00,  5.33s/it]\n",
            "Epoch:  30%|███       | 6/20 [01:47<04:16, 18.30s/it]\n",
            "Iteration:   0%|          | 0/4 [00:00<?, ?it/s]\u001b[A\n",
            "Iteration:  25%|██▌       | 1/4 [00:04<00:12,  4.20s/it]\u001b[A\n",
            "Iteration:  50%|█████     | 2/4 [00:08<00:08,  4.18s/it]\u001b[A\n",
            "Iteration:  75%|███████▌  | 3/4 [00:12<00:04,  4.19s/it]\u001b[A\n",
            "Iteration: 100%|██████████| 4/4 [00:16<00:00,  4.00s/it]\n",
            "Epoch:  35%|███▌      | 7/20 [02:03<03:48, 17.56s/it]\n",
            "Iteration:   0%|          | 0/4 [00:00<?, ?it/s]\u001b[A\n",
            "Iteration:  25%|██▌       | 1/4 [00:04<00:12,  4.18s/it]\u001b[A\n",
            "Iteration:  50%|█████     | 2/4 [00:08<00:08,  4.20s/it]\u001b[A\n",
            "Iteration:  75%|███████▌  | 3/4 [00:12<00:04,  4.19s/it]\u001b[A\n",
            "Iteration: 100%|██████████| 4/4 [00:15<00:00,  3.99s/it]\n",
            "Epoch:  40%|████      | 8/20 [02:19<03:24, 17.06s/it]\n",
            "Iteration:   0%|          | 0/4 [00:00<?, ?it/s]\u001b[A\n",
            "Iteration:  25%|██▌       | 1/4 [00:04<00:12,  4.20s/it]\u001b[A\n",
            "Iteration:  50%|█████     | 2/4 [00:08<00:08,  4.19s/it]\u001b[A\n",
            "Iteration:  75%|███████▌  | 3/4 [00:12<00:04,  4.18s/it]\u001b[A\n",
            "Iteration: 100%|██████████| 4/4 [00:16<00:00,  4.00s/it]\n",
            "Epoch:  45%|████▌     | 9/20 [02:35<03:04, 16.74s/it]\n",
            "Iteration:   0%|          | 0/4 [00:00<?, ?it/s]\u001b[A\n",
            "Iteration:  25%|██▌       | 1/4 [00:04<00:12,  4.18s/it]\u001b[A\n",
            "Iteration:  50%|█████     | 2/4 [00:08<00:08,  4.21s/it]\u001b[A\n",
            "Iteration:  75%|███████▌  | 3/4 [00:12<00:04,  4.20s/it]\u001b[A\n",
            "Iteration: 100%|██████████| 4/4 [00:16<00:00,  4.01s/it]\n",
            "Epoch:  50%|█████     | 10/20 [02:51<02:45, 16.53s/it]\n",
            "Iteration:   0%|          | 0/4 [00:00<?, ?it/s]\u001b[A"
          ]
        },
        {
          "output_type": "stream",
          "name": "stdout",
          "text": [
            "\n",
            "Epoch 10 Evaluation\n"
          ]
        },
        {
          "output_type": "stream",
          "name": "stderr",
          "text": [
            "\n",
            "\n",
            "Eval:   0%|          | 0/1 [00:00<?, ?it/s]\u001b[A\u001b[A\n",
            "\n",
            "Eval: 100%|██████████| 1/1 [00:05<00:00,  5.31s/it]\n",
            "/usr/local/lib/python3.7/dist-packages/transformers/data/metrics/__init__.py:36: FutureWarning: This metric will be removed from the library soon, metrics should be handled with the 🤗 Datasets library. You can have a look at this example script for pointers: https://github.com/huggingface/transformers/blob/master/examples/pytorch/text-classification/run_glue.py\n",
            "  warnings.warn(DEPRECATION_WARNING, FutureWarning)\n"
          ]
        },
        {
          "output_type": "stream",
          "name": "stdout",
          "text": [
            "\n",
            "=== Eval: loss === 0.023389237001538277\n",
            "=== Eval: acc. === 0.9937888198757764\n",
            "=== Eval: f1 === 0.993647662260801\n",
            "\n",
            "\n"
          ]
        },
        {
          "output_type": "stream",
          "name": "stderr",
          "text": [
            "\n",
            "Iteration:  25%|██▌       | 1/4 [00:09<00:28,  9.53s/it]\u001b[A\n",
            "Iteration:  50%|█████     | 2/4 [00:13<00:12,  6.38s/it]\u001b[A\n",
            "Iteration:  75%|███████▌  | 3/4 [00:17<00:05,  5.40s/it]\u001b[A\n",
            "Iteration: 100%|██████████| 4/4 [00:21<00:00,  5.34s/it]\n",
            "Epoch:  55%|█████▌    | 11/20 [03:12<02:42, 18.01s/it]\n",
            "Iteration:   0%|          | 0/4 [00:00<?, ?it/s]\u001b[A\n",
            "Iteration:  25%|██▌       | 1/4 [00:04<00:12,  4.19s/it]\u001b[A\n",
            "Iteration:  50%|█████     | 2/4 [00:08<00:08,  4.20s/it]\u001b[A\n",
            "Iteration:  75%|███████▌  | 3/4 [00:12<00:04,  4.19s/it]\u001b[A\n",
            "Iteration: 100%|██████████| 4/4 [00:16<00:00,  4.00s/it]\n",
            "Epoch:  60%|██████    | 12/20 [03:28<02:19, 17.41s/it]\n",
            "Iteration:   0%|          | 0/4 [00:00<?, ?it/s]\u001b[A\n",
            "Iteration:  25%|██▌       | 1/4 [00:04<00:12,  4.19s/it]\u001b[A\n",
            "Iteration:  50%|█████     | 2/4 [00:08<00:08,  4.19s/it]\u001b[A\n",
            "Iteration:  75%|███████▌  | 3/4 [00:12<00:04,  4.27s/it]\u001b[A\n",
            "Iteration: 100%|██████████| 4/4 [00:16<00:00,  4.09s/it]\n",
            "Epoch:  65%|██████▌   | 13/20 [03:45<01:59, 17.10s/it]\n",
            "Iteration:   0%|          | 0/4 [00:00<?, ?it/s]\u001b[A\n",
            "Iteration:  25%|██▌       | 1/4 [00:04<00:13,  4.35s/it]\u001b[A\n",
            "Iteration:  50%|█████     | 2/4 [00:08<00:08,  4.39s/it]\u001b[A\n",
            "Iteration:  75%|███████▌  | 3/4 [00:13<00:04,  4.38s/it]\u001b[A\n",
            "Iteration: 100%|██████████| 4/4 [00:16<00:00,  4.18s/it]\n",
            "Epoch:  70%|███████   | 14/20 [04:02<01:41, 16.99s/it]\n",
            "Iteration:   0%|          | 0/4 [00:00<?, ?it/s]\u001b[A\n",
            "Iteration:  25%|██▌       | 1/4 [00:04<00:13,  4.40s/it]\u001b[A\n",
            "Iteration:  50%|█████     | 2/4 [00:08<00:08,  4.38s/it]\u001b[A\n",
            "Iteration:  75%|███████▌  | 3/4 [00:13<00:04,  4.38s/it]\u001b[A\n",
            "Iteration: 100%|██████████| 4/4 [00:16<00:00,  4.19s/it]\n",
            "Epoch:  75%|███████▌  | 15/20 [04:18<01:24, 16.93s/it]\n",
            "Iteration:   0%|          | 0/4 [00:00<?, ?it/s]\u001b[A\n",
            "Iteration:  25%|██▌       | 1/4 [00:04<00:13,  4.37s/it]\u001b[A\n",
            "Iteration:  50%|█████     | 2/4 [00:08<00:08,  4.40s/it]\u001b[A\n",
            "Iteration:  75%|███████▌  | 3/4 [00:13<00:04,  4.40s/it]\u001b[A\n",
            "Iteration: 100%|██████████| 4/4 [00:16<00:00,  4.20s/it]\n",
            "Epoch:  80%|████████  | 16/20 [04:35<01:07, 16.89s/it]\n",
            "Iteration:   0%|          | 0/4 [00:00<?, ?it/s]\u001b[A\n",
            "Iteration:  25%|██▌       | 1/4 [00:04<00:13,  4.39s/it]\u001b[A\n",
            "Iteration:  50%|█████     | 2/4 [00:08<00:08,  4.40s/it]\u001b[A\n",
            "Iteration:  75%|███████▌  | 3/4 [00:13<00:04,  4.38s/it]\u001b[A\n",
            "Iteration: 100%|██████████| 4/4 [00:16<00:00,  4.19s/it]\n",
            "Epoch:  85%|████████▌ | 17/20 [04:52<00:50, 16.85s/it]\n",
            "Iteration:   0%|          | 0/4 [00:00<?, ?it/s]\u001b[A\n",
            "Iteration:  25%|██▌       | 1/4 [00:04<00:13,  4.36s/it]\u001b[A\n",
            "Iteration:  50%|█████     | 2/4 [00:08<00:08,  4.39s/it]\u001b[A\n",
            "Iteration:  75%|███████▌  | 3/4 [00:13<00:04,  4.41s/it]\u001b[A\n",
            "Iteration: 100%|██████████| 4/4 [00:16<00:00,  4.20s/it]\n",
            "Epoch:  90%|█████████ | 18/20 [05:09<00:33, 16.85s/it]\n",
            "Iteration:   0%|          | 0/4 [00:00<?, ?it/s]\u001b[A\n",
            "Iteration:  25%|██▌       | 1/4 [00:04<00:13,  4.40s/it]\u001b[A\n",
            "Iteration:  50%|█████     | 2/4 [00:08<00:08,  4.39s/it]\u001b[A\n",
            "Iteration:  75%|███████▌  | 3/4 [00:13<00:04,  4.39s/it]\u001b[A\n",
            "Iteration: 100%|██████████| 4/4 [00:16<00:00,  4.19s/it]\n",
            "Epoch:  95%|█████████▌| 19/20 [05:26<00:16, 16.83s/it]\n",
            "Iteration:   0%|          | 0/4 [00:00<?, ?it/s]\u001b[A\n",
            "Iteration:  25%|██▌       | 1/4 [00:04<00:13,  4.36s/it]\u001b[A\n",
            "Iteration:  50%|█████     | 2/4 [00:08<00:08,  4.38s/it]\u001b[A\n",
            "Iteration:  75%|███████▌  | 3/4 [00:13<00:04,  4.39s/it]\u001b[A\n",
            "Iteration: 100%|██████████| 4/4 [00:16<00:00,  4.19s/it]\n",
            "Epoch: 100%|██████████| 20/20 [05:42<00:00, 17.14s/it]\n"
          ]
        },
        {
          "output_type": "stream",
          "name": "stdout",
          "text": [
            "\n",
            "Final Evaluation\n"
          ]
        },
        {
          "output_type": "stream",
          "name": "stderr",
          "text": [
            "Eval: 100%|██████████| 1/1 [00:05<00:00,  5.29s/it]"
          ]
        },
        {
          "output_type": "stream",
          "name": "stdout",
          "text": [
            "\n",
            "=== Eval: loss === 0.013051098212599754\n",
            "=== Eval: acc. === 0.9937888198757764\n",
            "=== Eval: f1 === 0.993647662260801\n",
            "\n",
            "\n",
            "Training Done\n",
            "\n",
            "Storing the results\n",
            "evaluare, 0.29744309186935425, 0.9627329192546584, 0.962206572769953, 0.06827185302972794, 0.9751552795031055, 0.9747252747252747, 0.023389237001538277, 0.9937888198757764, 0.993647662260801, 0.013051098212599754, 0.9937888198757764, 0.993647662260801\n",
            "Done\n"
          ]
        },
        {
          "output_type": "stream",
          "name": "stderr",
          "text": [
            "\n",
            "/usr/local/lib/python3.7/dist-packages/transformers/data/metrics/__init__.py:36: FutureWarning: This metric will be removed from the library soon, metrics should be handled with the 🤗 Datasets library. You can have a look at this example script for pointers: https://github.com/huggingface/transformers/blob/master/examples/pytorch/text-classification/run_glue.py\n",
            "  warnings.warn(DEPRECATION_WARNING, FutureWarning)\n"
          ]
        }
      ]
    },
    {
      "cell_type": "markdown",
      "source": [
        "Saving Results in file"
      ],
      "metadata": {
        "id": "5QrcJZ8ibAix"
      }
    },
    {
      "cell_type": "code",
      "source": [
        "print()\n",
        "print(\"Writing in a .csv file the results\")\n",
        "\n",
        "resultFile = open(\"results.csv\",\"w\")\n",
        "resultFile.write(\"Problem,Loss - e1,Acc -e1,F1 - e1,Loss - e5,\tAcc -e5,F1 - e5,Loss - e10,Acc -e10,F1 - e10,Loss - e20,Acc -e20,F1 - e20\\n\")\n",
        "resultFile.close()\n",
        "resultFile = open(\"results.csv\",\"a\")\n",
        "\n",
        "print(results)\n",
        "for result in results:\n",
        "  resultFile.write(result)\n",
        "  resultFile.write(\"\\n\")\n",
        "\n"
      ],
      "metadata": {
        "id": "418ZMX02bEKo"
      },
      "execution_count": null,
      "outputs": []
    },
    {
      "cell_type": "markdown",
      "source": [
        "Install pandas\n"
      ],
      "metadata": {
        "id": "fmOBkfbj6j5d"
      }
    },
    {
      "cell_type": "code",
      "source": [
        "!pip install pandas\n",
        "!pip install matplotlib"
      ],
      "metadata": {
        "colab": {
          "base_uri": "https://localhost:8080/"
        },
        "id": "oJcjGm5G6n_Q",
        "outputId": "c9e78c66-21ac-40df-e587-21c4a8f8223c"
      },
      "execution_count": null,
      "outputs": [
        {
          "output_type": "stream",
          "name": "stdout",
          "text": [
            "Requirement already satisfied: pandas in /usr/local/lib/python3.7/dist-packages (1.1.5)\n",
            "Requirement already satisfied: python-dateutil>=2.7.3 in /usr/local/lib/python3.7/dist-packages (from pandas) (2.8.2)\n",
            "Requirement already satisfied: pytz>=2017.2 in /usr/local/lib/python3.7/dist-packages (from pandas) (2018.9)\n",
            "Requirement already satisfied: numpy>=1.15.4 in /usr/local/lib/python3.7/dist-packages (from pandas) (1.19.5)\n",
            "Requirement already satisfied: six>=1.5 in /usr/local/lib/python3.7/dist-packages (from python-dateutil>=2.7.3->pandas) (1.15.0)\n",
            "Requirement already satisfied: matplotlib in /usr/local/lib/python3.7/dist-packages (3.2.2)\n",
            "Requirement already satisfied: numpy>=1.11 in /usr/local/lib/python3.7/dist-packages (from matplotlib) (1.19.5)\n",
            "Requirement already satisfied: cycler>=0.10 in /usr/local/lib/python3.7/dist-packages (from matplotlib) (0.11.0)\n",
            "Requirement already satisfied: kiwisolver>=1.0.1 in /usr/local/lib/python3.7/dist-packages (from matplotlib) (1.3.2)\n",
            "Requirement already satisfied: python-dateutil>=2.1 in /usr/local/lib/python3.7/dist-packages (from matplotlib) (2.8.2)\n",
            "Requirement already satisfied: pyparsing!=2.0.4,!=2.1.2,!=2.1.6,>=2.0.1 in /usr/local/lib/python3.7/dist-packages (from matplotlib) (3.0.6)\n",
            "Requirement already satisfied: six>=1.5 in /usr/local/lib/python3.7/dist-packages (from python-dateutil>=2.1->matplotlib) (1.15.0)\n"
          ]
        }
      ]
    },
    {
      "cell_type": "markdown",
      "source": [
        "Importing Aditional Libraries\n",
        "\n"
      ],
      "metadata": {
        "id": "-dXKRxMI60Qa"
      }
    },
    {
      "cell_type": "code",
      "source": [
        "import pandas as pd\n",
        "import matplotlib.pyplot as plt\n",
        "\n",
        "plt.style.use('bmh')\n",
        "fig = plt.figure(figsize=(8,6))"
      ],
      "metadata": {
        "colab": {
          "base_uri": "https://localhost:8080/",
          "height": 35
        },
        "id": "REK8XEP9629B",
        "outputId": "f1fce63a-6061-427e-9e79-6a10cb2aa9fe"
      },
      "execution_count": null,
      "outputs": [
        {
          "output_type": "display_data",
          "data": {
            "text/plain": [
              "<Figure size 576x432 with 0 Axes>"
            ]
          },
          "metadata": {}
        }
      ]
    },
    {
      "cell_type": "markdown",
      "source": [
        "Reading From the CSV file & Displaying the results\n"
      ],
      "metadata": {
        "id": "PuSd1gEQ74FN"
      }
    },
    {
      "cell_type": "code",
      "source": [
        "problemsResults = pd.read_csv('results.csv').to_records()\n",
        "\n",
        "headers = list(pd.read_csv('results.csv').columns)\n",
        "\n",
        "PROBLEM_NAME_INDEX = 1\n",
        "LOSS_INDICES = [2,5,8,11]\n",
        "ACC_INDICES = [3,6,9,12]\n",
        "F1_INDICES = [4,7,10,13]\n",
        "\n",
        "for problemResult in problemsResults:\n",
        "  problemName = problemResult[PROBLEM_NAME_INDEX]\n",
        "  loss = [problemResult[index] for index in LOSS_INDICES]\n",
        "  acc = [problemResult[index] for index in ACC_INDICES]\n",
        "  f1 = [problemResult[index] for index in F1_INDICES]\n",
        "\n",
        "  df = pd.DataFrame(\n",
        "      data = {\n",
        "          'Loss' : loss,\n",
        "          'Accuracy': acc,\n",
        "          'F1 Score': f1\n",
        "      },\n",
        "      index = ['Epoch 1','Epoch 5','Epoch 10','Epoch 20']\n",
        "  )\n",
        "  \n",
        "  lines = df.plot(xlabel = 'Epochs', title = problemName)"
      ],
      "metadata": {
        "colab": {
          "base_uri": "https://localhost:8080/",
          "height": 1000
        },
        "id": "u2RBU6ML77oq",
        "outputId": "bf4f7ac6-6ec1-461d-ffad-176844eef2a5"
      },
      "execution_count": null,
      "outputs": [
        {
          "output_type": "display_data",
          "data": {
            "image/png": "[encoded data removed]",
            "text/plain": [
              "<Figure size 432x288 with 1 Axes>"
            ]
          },
          "metadata": {
            "needs_background": "light"
          }
        },
        {
          "output_type": "display_data",
          "data": {
            "image/png": "[encoded data removed]",
            "text/plain": [
              "<Figure size 432x288 with 1 Axes>"
            ]
          },
          "metadata": {
            "needs_background": "light"
          }
        },
        {
          "output_type": "display_data",
          "data": {
            "image/png": "[encoded data removed]",
            "text/plain": [
              "<Figure size 432x288 with 1 Axes>"
            ]
          },
          "metadata": {
            "needs_background": "light"
          }
        },
        {
          "output_type": "display_data",
          "data": {
            "image/png": "[encoded data removed]",
            "text/plain": [
              "<Figure size 432x288 with 1 Axes>"
            ]
          },
          "metadata": {
            "needs_background": "light"
          }
        },
        {
          "output_type": "display_data",
          "data": {
            "image/png": "[encoded data removed]",
            "text/plain": [
              "<Figure size 432x288 with 1 Axes>"
            ]
          },
          "metadata": {
            "needs_background": "light"
          }
        },
        {
          "output_type": "display_data",
          "data": {
            "image/png": "[encoded data removed]",
            "text/plain": [
              "<Figure size 432x288 with 1 Axes>"
            ]
          },
          "metadata": {
            "needs_background": "light"
          }
        },
        {
          "output_type": "display_data",
          "data": {
            "image/png": "[encoded data removed]",
            "text/plain": [
              "<Figure size 432x288 with 1 Axes>"
            ]
          },
          "metadata": {
            "needs_background": "light"
          }
        },
        {
          "output_type": "display_data",
          "data": {
            "image/png": "[encoded data removed]",
            "text/plain": [
              "<Figure size 432x288 with 1 Axes>"
            ]
          },
          "metadata": {
            "needs_background": "light"
          }
        },
        {
          "output_type": "display_data",
          "data": {
            "image/png": "[encoded data removed]",
            "text/plain": [
              "<Figure size 432x288 with 1 Axes>"
            ]
          },
          "metadata": {
            "needs_background": "light"
          }
        },
        {
          "output_type": "display_data",
          "data": {
            "image/png": "[encoded data removed]",
            "text/plain": [
              "<Figure size 432x288 with 1 Axes>"
            ]
          },
          "metadata": {
            "needs_background": "light"
          }
        },
        {
          "output_type": "display_data",
          "data": {
            "image/png": "[encoded data removed]",
            "text/plain": [
              "<Figure size 432x288 with 1 Axes>"
            ]
          },
          "metadata": {
            "needs_background": "light"
          }
        },
        {
          "output_type": "display_data",
          "data": {
            "image/png": "[encoded data removed]",
            "text/plain": [
              "<Figure size 432x288 with 1 Axes>"
            ]
          },
          "metadata": {
            "needs_background": "light"
          }
        },
        {
          "output_type": "display_data",
          "data": {
            "image/png": "[encoded data removed]",
            "text/plain": [
              "<Figure size 432x288 with 1 Axes>"
            ]
          },
          "metadata": {
            "needs_background": "light"
          }
        },
        {
          "output_type": "display_data",
          "data": {
            "image/png": "[encoded data removed]",
            "text/plain": [
              "<Figure size 432x288 with 1 Axes>"
            ]
          },
          "metadata": {
            "needs_background": "light"
          }
        },
        {
          "output_type": "display_data",
          "data": {
            "image/png": "[encoded data removed]",
            "text/plain": [
              "<Figure size 432x288 with 1 Axes>"
            ]
          },
          "metadata": {
            "needs_background": "light"
          }
        }
      ]
    }
  ],
  "metadata": {
    "colab": {
      "collapsed_sections": [],
      "name": "ProblemsClasification&Visualisations.ipynb",
      "provenance": [],
      "include_colab_link": true
    },
    "kernelspec": {
      "display_name": "Python 3",
      "name": "python3"
    },
    "language_info": {
      "name": "python"
    },
    "accelerator": "GPU"
  },
  "nbformat": 4,
  "nbformat_minor": 0
}